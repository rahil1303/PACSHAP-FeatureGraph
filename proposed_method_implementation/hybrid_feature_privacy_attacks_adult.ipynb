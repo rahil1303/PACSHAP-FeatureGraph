{
  "nbformat": 4,
  "nbformat_minor": 0,
  "metadata": {
    "colab": {
      "provenance": []
    },
    "kernelspec": {
      "name": "python3",
      "display_name": "Python 3"
    },
    "language_info": {
      "name": "python"
    }
  },
  "cells": [
    {
      "cell_type": "markdown",
      "source": [
        "# **Hybrid Feature Selection and Privacy Evaluation Pipeline**"
      ],
      "metadata": {
        "id": "wtlkm_BfMgmm"
      }
    },
    {
      "cell_type": "markdown",
      "source": [
        "This notebook demonstrates a practical, rigorous approach for achieving strong privacy protections in machine learning models without significantly sacrificing predictive accuracy. By strategically selecting features, utilizing embeddings to obscure sensitive attributes, and applying theoretical privacy guarantees, we've substantially reduced privacy risks—especially from attribute inference attacks—while maintaining robust and reliable model performance."
      ],
      "metadata": {
        "id": "OH8_eFl9DGGN"
      }
    },
    {
      "cell_type": "markdown",
      "source": [
        "Installing Dependencies:\n",
        "\n",
        "Here, we install two critical libraries needed for our privacy-preserving analysis:\n",
        "\n",
        "ai-privacy-toolkit: Provides data anonymization tools.\n",
        "adversarial-robustness-toolbox: Used for executing privacy attacks such as membership inference."
      ],
      "metadata": {
        "id": "Do93PXMs_3uy"
      }
    },
    {
      "cell_type": "code",
      "execution_count": null,
      "metadata": {
        "colab": {
          "base_uri": "https://localhost:8080/"
        },
        "id": "Sby5Kcd-dUqc",
        "outputId": "9da2b53d-cde0-47d9-9c6f-ce5d74f2442d"
      },
      "outputs": [
        {
          "output_type": "stream",
          "name": "stdout",
          "text": [
            "Requirement already satisfied: ai-privacy-toolkit in /usr/local/lib/python3.11/dist-packages (0.2.1)\n"
          ]
        }
      ],
      "source": [
        "!pip install ai-privacy-toolkit"
      ]
    },
    {
      "cell_type": "code",
      "source": [
        "!pip install adversarial-robustness-toolbox"
      ],
      "metadata": {
        "colab": {
          "base_uri": "https://localhost:8080/"
        },
        "id": "7k4nf3WJdant",
        "outputId": "f88b43d8-b9bb-4486-b0ee-1365c90dcfbb"
      },
      "execution_count": null,
      "outputs": [
        {
          "output_type": "stream",
          "name": "stdout",
          "text": [
            "Requirement already satisfied: adversarial-robustness-toolbox in /usr/local/lib/python3.11/dist-packages (1.19.1)\n",
            "Requirement already satisfied: numpy>=1.18.0 in /usr/local/lib/python3.11/dist-packages (from adversarial-robustness-toolbox) (1.26.4)\n",
            "Requirement already satisfied: scipy>=1.4.1 in /usr/local/lib/python3.11/dist-packages (from adversarial-robustness-toolbox) (1.13.1)\n",
            "Requirement already satisfied: scikit-learn>=0.22.2 in /usr/local/lib/python3.11/dist-packages (from adversarial-robustness-toolbox) (1.6.1)\n",
            "Requirement already satisfied: six in /usr/local/lib/python3.11/dist-packages (from adversarial-robustness-toolbox) (1.17.0)\n",
            "Requirement already satisfied: setuptools in /usr/local/lib/python3.11/dist-packages (from adversarial-robustness-toolbox) (75.1.0)\n",
            "Requirement already satisfied: tqdm in /usr/local/lib/python3.11/dist-packages (from adversarial-robustness-toolbox) (4.67.1)\n",
            "Requirement already satisfied: joblib>=1.2.0 in /usr/local/lib/python3.11/dist-packages (from scikit-learn>=0.22.2->adversarial-robustness-toolbox) (1.4.2)\n",
            "Requirement already satisfied: threadpoolctl>=3.1.0 in /usr/local/lib/python3.11/dist-packages (from scikit-learn>=0.22.2->adversarial-robustness-toolbox) (3.5.0)\n"
          ]
        }
      ]
    },
    {
      "cell_type": "markdown",
      "source": [
        "Data Loading and Preprocessing:\n",
        "\n",
        "Explanation:\n",
        "\n",
        "We load the Adult dataset and preprocess it by encoding categorical features, scaling numeric features, and handling missing values explicitly. This prepares the dataset for effective machine learning model training and further privacy evaluation."
      ],
      "metadata": {
        "id": "MGYaBvxyAHNf"
      }
    },
    {
      "cell_type": "code",
      "source": [
        "# Required libraries\n",
        "import pandas as pd\n",
        "from sklearn.preprocessing import LabelEncoder, StandardScaler\n",
        "from sklearn.model_selection import train_test_split\n",
        "\n",
        "# Load the Adult dataset\n",
        "url = 'https://archive.ics.uci.edu/ml/machine-learning-databases/adult/adult.data'\n",
        "columns = ['age', 'workclass', 'fnlwgt', 'education', 'education_num', 'marital_status',\n",
        "           'occupation', 'relationship', 'race', 'sex', 'capital_gain', 'capital_loss',\n",
        "           'hours_per_week', 'native_country', 'income']\n",
        "data = pd.read_csv(url, header=None, names=columns, na_values=' ?')\n",
        "\n",
        "# Drop missing values explicitly\n",
        "data.dropna(inplace=True)\n",
        "\n",
        "# Encode categorical variables explicitly\n",
        "categorical_cols = data.select_dtypes(include='object').columns\n",
        "for col in categorical_cols:\n",
        "    data[col] = LabelEncoder().fit_transform(data[col])\n",
        "\n",
        "# Separate features and target explicitly\n",
        "X = data.drop('income', axis=1)\n",
        "y = data['income']\n",
        "\n",
        "# Standardize numeric features clearly\n",
        "numeric_cols = X.select_dtypes(include=['int64', 'float64']).columns\n",
        "scaler = StandardScaler()\n",
        "X[numeric_cols] = scaler.fit_transform(X[numeric_cols])\n",
        "\n",
        "# Explicit train/test split\n",
        "X_train, X_test, y_train, y_test = train_test_split(X, y, test_size=0.3, random_state=42, stratify=y)\n",
        "\n",
        "print(\"✅ Step 1 Completed: Data loaded and preprocessed.\")\n"
      ],
      "metadata": {
        "colab": {
          "base_uri": "https://localhost:8080/"
        },
        "id": "dkR8EAoEdfxN",
        "outputId": "ebe37391-341f-4d9c-8b9e-e4d6b0ee71f6"
      },
      "execution_count": null,
      "outputs": [
        {
          "output_type": "stream",
          "name": "stdout",
          "text": [
            "✅ Step 1 Completed: Data loaded and preprocessed.\n"
          ]
        }
      ]
    },
    {
      "cell_type": "markdown",
      "source": [
        "Constructing the Knowledge Graph:\n",
        "\n",
        "Explanation: A Knowledge Graph (KG) is explicitly created based on feature correlations with the target variable (\"income\"). This graph visually helps identify significant features directly correlated with the target, assisting in our initial Feature Relevance Check."
      ],
      "metadata": {
        "id": "56PDvdG_APuP"
      }
    },
    {
      "cell_type": "code",
      "source": [
        "import networkx as nx\n",
        "import matplotlib.pyplot as plt\n",
        "\n",
        "# Calculate correlation clearly\n",
        "correlation_matrix = data.corr()\n",
        "\n",
        "# Create KG explicitly\n",
        "G = nx.DiGraph()\n",
        "\n",
        "# Add feature nodes explicitly\n",
        "for column in X.columns:\n",
        "    G.add_node(column)\n",
        "\n",
        "# Add target node explicitly\n",
        "G.add_node('income')\n",
        "\n",
        "# Explicitly add edges based on correlation threshold\n",
        "threshold = 0.1\n",
        "for column in X.columns:\n",
        "    corr = correlation_matrix.loc[column, 'income']\n",
        "    if abs(corr) >= threshold:\n",
        "        G.add_edge(column, 'income', weight=corr)\n",
        "\n",
        "# KG Visualization explicitly\n",
        "plt.figure(figsize=(10, 6))\n",
        "pos = nx.spring_layout(G)\n",
        "nx.draw(G, pos, with_labels=True, node_color='lightblue', node_size=2500, font_size=10)\n",
        "plt.title('Explicit Knowledge Graph of Feature-Target Relationships')\n",
        "plt.show()\n",
        "\n",
        "connected_features = list(G.predecessors('income'))\n",
        "print(\"✅ Step 2 Completed: Knowledge Graph built explicitly.\")\n"
      ],
      "metadata": {
        "colab": {
          "base_uri": "https://localhost:8080/",
          "height": 676
        },
        "id": "mojHWxMSdlJG",
        "outputId": "4cb061a0-d592-42ae-d0e8-4179cb6c6f77"
      },
      "execution_count": null,
      "outputs": [
        {
          "output_type": "display_data",
          "data": {
            "text/plain": [
              "<Figure size 1000x600 with 1 Axes>"
            ],
            "image/png": "[encoded data removed]"
          },
          "metadata": {}
        },
        {
          "output_type": "stream",
          "name": "stdout",
          "text": [
            "✅ Step 2 Completed: Knowledge Graph built explicitly.\n"
          ]
        }
      ]
    },
    {
      "cell_type": "markdown",
      "source": [
        "SHAP-based Feature Importance:\n",
        "\n",
        "Explanation: Here, we train an XGBoost model and apply SHAP (SHapley Additive exPlanations) to determine the importance of each feature clearly and explicitly. SHAP provides explainable insights into feature contributions, complementing our Knowledge Graph-based approach."
      ],
      "metadata": {
        "id": "4xU8fSr0AaiU"
      }
    },
    {
      "cell_type": "code",
      "source": [
        "# Explicit CPU-based XGBoost clearly installed\n",
        "!pip install xgboost shap --quiet\n",
        "\n",
        "import shap\n",
        "from xgboost import XGBClassifier\n",
        "import numpy as np\n",
        "\n",
        "# Train explicitly CPU-based XGBoost\n",
        "xgb_model = XGBClassifier(tree_method='hist', random_state=42, eval_metric='logloss')\n",
        "xgb_model.fit(X_train, y_train)\n",
        "\n",
        "# Clearly use smaller sample size explicitly for quick SHAP computation\n",
        "sample_size = 500  # explicitly smaller sample for speed\n",
        "X_train_sample = shap.sample(X_train, sample_size, random_state=42)\n",
        "\n",
        "# Explicit CPU-based TreeExplainer clearly defined\n",
        "explainer = shap.TreeExplainer(xgb_model)\n",
        "shap_values = explainer.shap_values(X_train_sample)\n",
        "\n",
        "# SHAP summary explicitly generated\n",
        "shap.summary_plot(shap_values, X_train_sample, plot_type=\"bar\")\n",
        "\n",
        "# Explicit SHAP importance calculation\n",
        "shap_importances = np.abs(shap_values).mean(axis=0)\n",
        "shap_feature_importance = dict(zip(X_train.columns, shap_importances))\n",
        "\n",
        "# Clearly sorted feature importances\n",
        "shap_importances_sorted = sorted(shap_feature_importance.items(), key=lambda x: x[1], reverse=True)\n",
        "print(\"SHAP Importance explicitly calculated:\", shap_importances_sorted)\n",
        "\n",
        "print(\"✅ SHAP Feature Importance clearly calculated (CPU-based, smaller sample).\")\n"
      ],
      "metadata": {
        "colab": {
          "base_uri": "https://localhost:8080/",
          "height": 772
        },
        "id": "d_6P_VbidlHI",
        "outputId": "910b934a-fbdc-4ac0-d950-c5680290c723"
      },
      "execution_count": null,
      "outputs": [
        {
          "output_type": "display_data",
          "data": {
            "text/plain": [
              "<Figure size 800x710 with 1 Axes>"
            ],
            "image/png": "[encoded data removed]"
          },
          "metadata": {}
        },
        {
          "output_type": "stream",
          "name": "stdout",
          "text": [
            "SHAP Importance explicitly calculated: [('age', 0.8392299), ('marital_status', 0.746364), ('capital_gain', 0.7428844), ('relationship', 0.585124), ('education_num', 0.49048018), ('hours_per_week', 0.40985185), ('occupation', 0.37861636), ('sex', 0.24579331), ('fnlwgt', 0.20900095), ('capital_loss', 0.13688844), ('workclass', 0.092066035), ('race', 0.09152566), ('education', 0.07422808), ('native_country', 0.04048064)]\n",
            "✅ SHAP Feature Importance clearly calculated (CPU-based, smaller sample).\n"
          ]
        }
      ]
    },
    {
      "cell_type": "markdown",
      "source": [
        "Hybrid Feature Selection using KG + SHAP:\n",
        "\n",
        "Explanation:Using insights from both the Knowledge Graph and SHAP feature importance, we explicitly select a hybrid subset of features that are both statistically significant and contextually meaningful. We then retrain a decision tree classifier on these hybrid-selected features."
      ],
      "metadata": {
        "id": "0SaXbNO7AlOe"
      }
    },
    {
      "cell_type": "code",
      "source": [
        "from sklearn.tree import DecisionTreeClassifier\n",
        "from sklearn.metrics import accuracy_score\n",
        "\n",
        "# Clearly selected hybrid features explicitly\n",
        "hybrid_selected_features = ['age', 'education_num', 'capital_gain', 'hours_per_week', 'sex', 'marital_status']\n",
        "\n",
        "# Retrain model explicitly with hybrid-selected features\n",
        "X_train_hybrid = X_train[hybrid_selected_features]\n",
        "X_test_hybrid = X_test[hybrid_selected_features]\n",
        "\n",
        "hybrid_model = DecisionTreeClassifier(random_state=42)\n",
        "hybrid_model.fit(X_train_hybrid, y_train)\n",
        "\n",
        "# Evaluate explicitly\n",
        "y_pred_hybrid = hybrid_model.predict(X_test_hybrid)\n",
        "accuracy_hybrid = accuracy_score(y_test, y_pred_hybrid)\n",
        "print(f\"✅ Explicit Hybrid Feature Selection Accuracy: {accuracy_hybrid:.4f}\")\n"
      ],
      "metadata": {
        "colab": {
          "base_uri": "https://localhost:8080/"
        },
        "id": "5ZmVvaq9eXh1",
        "outputId": "baf56f61-3892-44f4-e69d-989914efee3c"
      },
      "execution_count": null,
      "outputs": [
        {
          "output_type": "stream",
          "name": "stdout",
          "text": [
            "✅ Explicit Hybrid Feature Selection Accuracy: 0.8189\n"
          ]
        }
      ]
    },
    {
      "cell_type": "markdown",
      "source": [
        "Membership Inference Attack - Hybrid Model:\n",
        "\n",
        "Explanation: We perform a Membership Inference Attack (MIA) to evaluate the privacy of our hybrid model. The goal is to see how well an attacker could guess if a particular data point was used in the model's training data, indicating potential privacy risks."
      ],
      "metadata": {
        "id": "Nf2B-YJ1Auq8"
      }
    },
    {
      "cell_type": "code",
      "source": [
        "from art.attacks.inference.membership_inference import MembershipInferenceBlackBox\n",
        "from art.estimators.classification import SklearnClassifier\n",
        "import numpy as np\n",
        "\n",
        "# Convert hybrid model explicitly for ART\n",
        "art_classifier_hybrid = SklearnClassifier(model=hybrid_model)\n",
        "\n",
        "# Explicitly define the attack\n",
        "bb_attack_hybrid = MembershipInferenceBlackBox(art_classifier_hybrid, attack_model_type='rf')\n",
        "\n",
        "# Explicit split for attack training clearly\n",
        "attack_train_size = int(0.5 * len(X_train_hybrid))\n",
        "attack_test_size = int(0.5 * len(X_test_hybrid))\n",
        "\n",
        "# Explicitly train attack model\n",
        "bb_attack_hybrid.fit(\n",
        "    X_train_hybrid[:attack_train_size], y_train[:attack_train_size],\n",
        "    X_test_hybrid[:attack_test_size], y_test[:attack_test_size]\n",
        ")\n",
        "\n",
        "# Run attack inference explicitly\n",
        "inferred_train_bb = bb_attack_hybrid.infer(X_train_hybrid[attack_train_size:], y_train[attack_train_size:])\n",
        "inferred_test_bb = bb_attack_hybrid.infer(X_test_hybrid[attack_test_size:], y_test[attack_test_size:])\n",
        "\n",
        "# Clearly calculate explicit attack success\n",
        "train_acc = np.sum(inferred_train_bb) / len(inferred_train_bb)\n",
        "test_acc = 1 - (np.sum(inferred_test_bb) / len(inferred_test_bb))\n",
        "overall_attack_success = (train_acc * len(inferred_train_bb) + test_acc * len(inferred_test_bb)) / (len(inferred_train_bb) + len(inferred_test_bb))\n",
        "\n",
        "print(f\"✅ Explicit Membership Inference Attack Success Rate (Hybrid Model): {overall_attack_success:.4f}\")\n"
      ],
      "metadata": {
        "colab": {
          "base_uri": "https://localhost:8080/"
        },
        "id": "0CmIKas1fRrk",
        "outputId": "cfc3864f-0ed5-4035-ab4f-9a1b350c80d6"
      },
      "execution_count": null,
      "outputs": [
        {
          "output_type": "stream",
          "name": "stderr",
          "text": [
            "/usr/local/lib/python3.11/dist-packages/sklearn/utils/validation.py:2739: UserWarning: X does not have valid feature names, but DecisionTreeClassifier was fitted with feature names\n",
            "  warnings.warn(\n",
            "/usr/local/lib/python3.11/dist-packages/sklearn/utils/validation.py:2739: UserWarning: X does not have valid feature names, but DecisionTreeClassifier was fitted with feature names\n",
            "  warnings.warn(\n"
          ]
        },
        {
          "output_type": "stream",
          "name": "stdout",
          "text": [
            "✅ Explicit Membership Inference Attack Success Rate (Hybrid Model): 0.7266\n"
          ]
        },
        {
          "output_type": "stream",
          "name": "stderr",
          "text": [
            "/usr/local/lib/python3.11/dist-packages/sklearn/utils/validation.py:2739: UserWarning: X does not have valid feature names, but DecisionTreeClassifier was fitted with feature names\n",
            "  warnings.warn(\n",
            "/usr/local/lib/python3.11/dist-packages/sklearn/utils/validation.py:2739: UserWarning: X does not have valid feature names, but DecisionTreeClassifier was fitted with feature names\n",
            "  warnings.warn(\n"
          ]
        }
      ]
    },
    {
      "cell_type": "markdown",
      "source": [
        "Attribute Inference Attack - Hybrid Model:\n",
        "\n",
        "Explanation: Here, we explicitly assess privacy risks by performing an Attribute Inference Attack targeting the sensitive feature \"sex\". The objective is to measure how effectively an attacker can reconstruct sensitive attributes from the model's predictions, despite explicit feature reduction."
      ],
      "metadata": {
        "id": "mFQvKy4KA6LF"
      }
    },
    {
      "cell_type": "code",
      "source": [
        "from sklearn.ensemble import RandomForestClassifier\n",
        "\n",
        "# Clearly define attribute to infer explicitly\n",
        "target_feature = \"sex\"\n",
        "\n",
        "# Explicitly ensure the feature exists in hybrid-selected features\n",
        "if target_feature in hybrid_selected_features:\n",
        "    X_train_attr = X_train_hybrid.drop(columns=[target_feature])\n",
        "    y_train_attr = X_train_hybrid[target_feature].round().astype(int)\n",
        "\n",
        "    X_test_attr = X_test_hybrid.drop(columns=[target_feature])\n",
        "    y_test_attr = X_test_hybrid[target_feature].round().astype(int)\n",
        "\n",
        "    # Explicitly train attribute inference attack model\n",
        "    attack_feature_model = RandomForestClassifier(random_state=42)\n",
        "    attack_feature_model.fit(X_train_attr, y_train_attr)\n",
        "\n",
        "    # Explicitly infer the attribute on test data\n",
        "    inferred_attr = attack_feature_model.predict(X_test_attr)\n",
        "\n",
        "    # Clearly calculate success rate\n",
        "    attr_attack_success_rate = (inferred_attr == y_test_attr).mean()\n",
        "    print(f\"✅ Explicit Attribute Inference Attack Success Rate (Hybrid Model): {attr_attack_success_rate:.4f}\")\n",
        "else:\n",
        "    print(f\"⚠️ Feature '{target_feature}' not in hybrid-selected features explicitly. Choose a different target explicitly.\")\n"
      ],
      "metadata": {
        "colab": {
          "base_uri": "https://localhost:8080/"
        },
        "id": "9-LFDiqVfSbF",
        "outputId": "c0b818e8-4720-4a70-bf00-ad4ea1b85ce9"
      },
      "execution_count": null,
      "outputs": [
        {
          "output_type": "stream",
          "name": "stdout",
          "text": [
            "✅ Explicit Attribute Inference Attack Success Rate (Hybrid Model): 0.7286\n"
          ]
        }
      ]
    },
    {
      "cell_type": "markdown",
      "source": [
        "Sensitive Attribute Removal and Autoencoder Training:\n",
        "\n",
        "Explanation: This section removes the sensitive attribute (\"sex\") entirely and then trains an Autoencoder to learn compact latent representations of the data. This dimensionality reduction aims to enhance privacy by obscuring direct relationships with sensitive attributes."
      ],
      "metadata": {
        "id": "dVgQk52QBDMx"
      }
    },
    {
      "cell_type": "code",
      "source": [
        "# Explicitly remove sensitive attribute ('sex') from training set\n",
        "sensitive_feature = 'sex'\n",
        "\n",
        "X_train_nosensitive = X_train.drop(columns=[sensitive_feature])\n",
        "X_test_nosensitive = X_test.drop(columns=[sensitive_feature])\n",
        "\n",
        "# Standardize data\n",
        "scaler = StandardScaler()\n",
        "X_train_scaled = scaler.fit_transform(X_train_nosensitive)\n",
        "X_test_scaled = scaler.transform(X_test_nosensitive)\n",
        "\n",
        "# Re-define autoencoder with smaller latent space\n",
        "input_dim = X_train_scaled.shape[1]\n",
        "latent_dim = 6  # smaller dimension for increased privacy\n",
        "\n",
        "input_layer = Input(shape=(input_dim,))\n",
        "encoder = Dense(16, activation='relu')(input_layer)\n",
        "latent_space = Dense(latent_dim, activation='relu')(encoder)\n",
        "\n",
        "decoder = Dense(16, activation='relu')(latent_space)\n",
        "output_layer = Dense(input_dim, activation='linear')(decoder)\n",
        "\n",
        "# Compile and train autoencoder\n",
        "autoencoder = Model(inputs=input_layer, outputs=output_layer)\n",
        "autoencoder.compile(optimizer='adam', loss='mse')\n",
        "autoencoder.fit(X_train_scaled, X_train_scaled,\n",
        "                epochs=50, batch_size=64, validation_split=0.2, verbose=1)\n",
        "\n",
        "# Extract latent representations\n",
        "encoder_model = Model(inputs=input_layer, outputs=latent_space)\n",
        "X_train_latent = encoder_model.predict(X_train_scaled)\n",
        "X_test_latent = encoder_model.predict(X_test_scaled)\n",
        "\n",
        "# Predictive model retraining on new latent embeddings\n",
        "clf = DecisionTreeClassifier(random_state=42)\n",
        "clf.fit(X_train_latent, y_train)\n",
        "accuracy = clf.score(X_test_latent, y_test)\n",
        "print(f\"Retrained model accuracy: {accuracy:.4f}\")\n"
      ],
      "metadata": {
        "colab": {
          "base_uri": "https://localhost:8080/"
        },
        "id": "VJzm4Z2Ffext",
        "outputId": "dec467b9-e5ff-4ce7-bad1-d1e7e85f70a7"
      },
      "execution_count": null,
      "outputs": [
        {
          "output_type": "stream",
          "name": "stdout",
          "text": [
            "Epoch 1/50\n",
            "\u001b[1m264/264\u001b[0m \u001b[32m━━━━━━━━━━━━━━━━━━━━\u001b[0m\u001b[37m\u001b[0m \u001b[1m4s\u001b[0m 7ms/step - loss: 0.9266 - val_loss: 0.6708\n",
            "Epoch 2/50\n",
            "\u001b[1m264/264\u001b[0m \u001b[32m━━━━━━━━━━━━━━━━━━━━\u001b[0m\u001b[37m\u001b[0m \u001b[1m2s\u001b[0m 5ms/step - loss: 0.6269 - val_loss: 0.4951\n",
            "Epoch 3/50\n",
            "\u001b[1m264/264\u001b[0m \u001b[32m━━━━━━━━━━━━━━━━━━━━\u001b[0m\u001b[37m\u001b[0m \u001b[1m1s\u001b[0m 3ms/step - loss: 0.4629 - val_loss: 0.4074\n",
            "Epoch 4/50\n",
            "\u001b[1m264/264\u001b[0m \u001b[32m━━━━━━━━━━━━━━━━━━━━\u001b[0m\u001b[37m\u001b[0m \u001b[1m1s\u001b[0m 3ms/step - loss: 0.3956 - val_loss: 0.3743\n",
            "Epoch 5/50\n",
            "\u001b[1m264/264\u001b[0m \u001b[32m━━━━━━━━━━━━━━━━━━━━\u001b[0m\u001b[37m\u001b[0m \u001b[1m1s\u001b[0m 4ms/step - loss: 0.3665 - val_loss: 0.3521\n",
            "Epoch 6/50\n",
            "\u001b[1m264/264\u001b[0m \u001b[32m━━━━━━━━━━━━━━━━━━━━\u001b[0m\u001b[37m\u001b[0m \u001b[1m1s\u001b[0m 3ms/step - loss: 0.3511 - val_loss: 0.3404\n",
            "Epoch 7/50\n",
            "\u001b[1m264/264\u001b[0m \u001b[32m━━━━━━━━━━━━━━━━━━━━\u001b[0m\u001b[37m\u001b[0m \u001b[1m1s\u001b[0m 4ms/step - loss: 0.3362 - val_loss: 0.3296\n",
            "Epoch 8/50\n",
            "\u001b[1m264/264\u001b[0m \u001b[32m━━━━━━━━━━━━━━━━━━━━\u001b[0m\u001b[37m\u001b[0m \u001b[1m2s\u001b[0m 5ms/step - loss: 0.3325 - val_loss: 0.3194\n",
            "Epoch 9/50\n",
            "\u001b[1m264/264\u001b[0m \u001b[32m━━━━━━━━━━━━━━━━━━━━\u001b[0m\u001b[37m\u001b[0m \u001b[1m3s\u001b[0m 8ms/step - loss: 0.3189 - val_loss: 0.3091\n",
            "Epoch 10/50\n",
            "\u001b[1m264/264\u001b[0m \u001b[32m━━━━━━━━━━━━━━━━━━━━\u001b[0m\u001b[37m\u001b[0m \u001b[1m1s\u001b[0m 4ms/step - loss: 0.3055 - val_loss: 0.3011\n",
            "Epoch 11/50\n",
            "\u001b[1m264/264\u001b[0m \u001b[32m━━━━━━━━━━━━━━━━━━━━\u001b[0m\u001b[37m\u001b[0m \u001b[1m2s\u001b[0m 5ms/step - loss: 0.3000 - val_loss: 0.2950\n",
            "Epoch 12/50\n",
            "\u001b[1m264/264\u001b[0m \u001b[32m━━━━━━━━━━━━━━━━━━━━\u001b[0m\u001b[37m\u001b[0m \u001b[1m2s\u001b[0m 4ms/step - loss: 0.2938 - val_loss: 0.2909\n",
            "Epoch 13/50\n",
            "\u001b[1m264/264\u001b[0m \u001b[32m━━━━━━━━━━━━━━━━━━━━\u001b[0m\u001b[37m\u001b[0m \u001b[1m1s\u001b[0m 5ms/step - loss: 0.2873 - val_loss: 0.2870\n",
            "Epoch 14/50\n",
            "\u001b[1m264/264\u001b[0m \u001b[32m━━━━━━━━━━━━━━━━━━━━\u001b[0m\u001b[37m\u001b[0m \u001b[1m1s\u001b[0m 4ms/step - loss: 0.2829 - val_loss: 0.2827\n",
            "Epoch 15/50\n",
            "\u001b[1m264/264\u001b[0m \u001b[32m━━━━━━━━━━━━━━━━━━━━\u001b[0m\u001b[37m\u001b[0m \u001b[1m1s\u001b[0m 4ms/step - loss: 0.2808 - val_loss: 0.2800\n",
            "Epoch 16/50\n",
            "\u001b[1m264/264\u001b[0m \u001b[32m━━━━━━━━━━━━━━━━━━━━\u001b[0m\u001b[37m\u001b[0m \u001b[1m1s\u001b[0m 5ms/step - loss: 0.2786 - val_loss: 0.2773\n",
            "Epoch 17/50\n",
            "\u001b[1m264/264\u001b[0m \u001b[32m━━━━━━━━━━━━━━━━━━━━\u001b[0m\u001b[37m\u001b[0m \u001b[1m2s\u001b[0m 2ms/step - loss: 0.2794 - val_loss: 0.2734\n",
            "Epoch 18/50\n",
            "\u001b[1m264/264\u001b[0m \u001b[32m━━━━━━━━━━━━━━━━━━━━\u001b[0m\u001b[37m\u001b[0m \u001b[1m1s\u001b[0m 2ms/step - loss: 0.2761 - val_loss: 0.2715\n",
            "Epoch 19/50\n",
            "\u001b[1m264/264\u001b[0m \u001b[32m━━━━━━━━━━━━━━━━━━━━\u001b[0m\u001b[37m\u001b[0m \u001b[1m1s\u001b[0m 2ms/step - loss: 0.2713 - val_loss: 0.2685\n",
            "Epoch 20/50\n",
            "\u001b[1m264/264\u001b[0m \u001b[32m━━━━━━━━━━━━━━━━━━━━\u001b[0m\u001b[37m\u001b[0m \u001b[1m1s\u001b[0m 2ms/step - loss: 0.2713 - val_loss: 0.2671\n",
            "Epoch 21/50\n",
            "\u001b[1m264/264\u001b[0m \u001b[32m━━━━━━━━━━━━━━━━━━━━\u001b[0m\u001b[37m\u001b[0m \u001b[1m1s\u001b[0m 2ms/step - loss: 0.2682 - val_loss: 0.2640\n",
            "Epoch 22/50\n",
            "\u001b[1m264/264\u001b[0m \u001b[32m━━━━━━━━━━━━━━━━━━━━\u001b[0m\u001b[37m\u001b[0m \u001b[1m1s\u001b[0m 2ms/step - loss: 0.2628 - val_loss: 0.2628\n",
            "Epoch 23/50\n",
            "\u001b[1m264/264\u001b[0m \u001b[32m━━━━━━━━━━━━━━━━━━━━\u001b[0m\u001b[37m\u001b[0m \u001b[1m1s\u001b[0m 2ms/step - loss: 0.2613 - val_loss: 0.2601\n",
            "Epoch 24/50\n",
            "\u001b[1m264/264\u001b[0m \u001b[32m━━━━━━━━━━━━━━━━━━━━\u001b[0m\u001b[37m\u001b[0m \u001b[1m1s\u001b[0m 2ms/step - loss: 0.2600 - val_loss: 0.2576\n",
            "Epoch 25/50\n",
            "\u001b[1m264/264\u001b[0m \u001b[32m━━━━━━━━━━━━━━━━━━━━\u001b[0m\u001b[37m\u001b[0m \u001b[1m1s\u001b[0m 2ms/step - loss: 0.2551 - val_loss: 0.2548\n",
            "Epoch 26/50\n",
            "\u001b[1m264/264\u001b[0m \u001b[32m━━━━━━━━━━━━━━━━━━━━\u001b[0m\u001b[37m\u001b[0m \u001b[1m1s\u001b[0m 2ms/step - loss: 0.2544 - val_loss: 0.2537\n",
            "Epoch 27/50\n",
            "\u001b[1m264/264\u001b[0m \u001b[32m━━━━━━━━━━━━━━━━━━━━\u001b[0m\u001b[37m\u001b[0m \u001b[1m1s\u001b[0m 2ms/step - loss: 0.2533 - val_loss: 0.2498\n",
            "Epoch 28/50\n",
            "\u001b[1m264/264\u001b[0m \u001b[32m━━━━━━━━━━━━━━━━━━━━\u001b[0m\u001b[37m\u001b[0m \u001b[1m1s\u001b[0m 2ms/step - loss: 0.2490 - val_loss: 0.2476\n",
            "Epoch 29/50\n",
            "\u001b[1m264/264\u001b[0m \u001b[32m━━━━━━━━━━━━━━━━━━━━\u001b[0m\u001b[37m\u001b[0m \u001b[1m1s\u001b[0m 2ms/step - loss: 0.2478 - val_loss: 0.2445\n",
            "Epoch 30/50\n",
            "\u001b[1m264/264\u001b[0m \u001b[32m━━━━━━━━━━━━━━━━━━━━\u001b[0m\u001b[37m\u001b[0m \u001b[1m1s\u001b[0m 2ms/step - loss: 0.2456 - val_loss: 0.2424\n",
            "Epoch 31/50\n",
            "\u001b[1m264/264\u001b[0m \u001b[32m━━━━━━━━━━━━━━━━━━━━\u001b[0m\u001b[37m\u001b[0m \u001b[1m1s\u001b[0m 2ms/step - loss: 0.2470 - val_loss: 0.2405\n",
            "Epoch 32/50\n",
            "\u001b[1m264/264\u001b[0m \u001b[32m━━━━━━━━━━━━━━━━━━━━\u001b[0m\u001b[37m\u001b[0m \u001b[1m1s\u001b[0m 2ms/step - loss: 0.2423 - val_loss: 0.2386\n",
            "Epoch 33/50\n",
            "\u001b[1m264/264\u001b[0m \u001b[32m━━━━━━━━━━━━━━━━━━━━\u001b[0m\u001b[37m\u001b[0m \u001b[1m1s\u001b[0m 2ms/step - loss: 0.2400 - val_loss: 0.2372\n",
            "Epoch 34/50\n",
            "\u001b[1m264/264\u001b[0m \u001b[32m━━━━━━━━━━━━━━━━━━━━\u001b[0m\u001b[37m\u001b[0m \u001b[1m2s\u001b[0m 8ms/step - loss: 0.2347 - val_loss: 0.2354\n",
            "Epoch 35/50\n",
            "\u001b[1m264/264\u001b[0m \u001b[32m━━━━━━━━━━━━━━━━━━━━\u001b[0m\u001b[37m\u001b[0m \u001b[1m1s\u001b[0m 3ms/step - loss: 0.2359 - val_loss: 0.2330\n",
            "Epoch 36/50\n",
            "\u001b[1m264/264\u001b[0m \u001b[32m━━━━━━━━━━━━━━━━━━━━\u001b[0m\u001b[37m\u001b[0m \u001b[1m2s\u001b[0m 5ms/step - loss: 0.2348 - val_loss: 0.2336\n",
            "Epoch 37/50\n",
            "\u001b[1m264/264\u001b[0m \u001b[32m━━━━━━━━━━━━━━━━━━━━\u001b[0m\u001b[37m\u001b[0m \u001b[1m3s\u001b[0m 5ms/step - loss: 0.2313 - val_loss: 0.2300\n",
            "Epoch 38/50\n",
            "\u001b[1m264/264\u001b[0m \u001b[32m━━━━━━━━━━━━━━━━━━━━\u001b[0m\u001b[37m\u001b[0m \u001b[1m2s\u001b[0m 4ms/step - loss: 0.2338 - val_loss: 0.2299\n",
            "Epoch 39/50\n",
            "\u001b[1m264/264\u001b[0m \u001b[32m━━━━━━━━━━━━━━━━━━━━\u001b[0m\u001b[37m\u001b[0m \u001b[1m1s\u001b[0m 2ms/step - loss: 0.2333 - val_loss: 0.2301\n",
            "Epoch 40/50\n",
            "\u001b[1m264/264\u001b[0m \u001b[32m━━━━━━━━━━━━━━━━━━━━\u001b[0m\u001b[37m\u001b[0m \u001b[1m1s\u001b[0m 2ms/step - loss: 0.2294 - val_loss: 0.2283\n",
            "Epoch 41/50\n",
            "\u001b[1m264/264\u001b[0m \u001b[32m━━━━━━━━━━━━━━━━━━━━\u001b[0m\u001b[37m\u001b[0m \u001b[1m1s\u001b[0m 2ms/step - loss: 0.2256 - val_loss: 0.2268\n",
            "Epoch 42/50\n",
            "\u001b[1m264/264\u001b[0m \u001b[32m━━━━━━━━━━━━━━━━━━━━\u001b[0m\u001b[37m\u001b[0m \u001b[1m1s\u001b[0m 3ms/step - loss: 0.2276 - val_loss: 0.2265\n",
            "Epoch 43/50\n",
            "\u001b[1m264/264\u001b[0m \u001b[32m━━━━━━━━━━━━━━━━━━━━\u001b[0m\u001b[37m\u001b[0m \u001b[1m1s\u001b[0m 2ms/step - loss: 0.2268 - val_loss: 0.2251\n",
            "Epoch 44/50\n",
            "\u001b[1m264/264\u001b[0m \u001b[32m━━━━━━━━━━━━━━━━━━━━\u001b[0m\u001b[37m\u001b[0m \u001b[1m1s\u001b[0m 2ms/step - loss: 0.2265 - val_loss: 0.2249\n",
            "Epoch 45/50\n",
            "\u001b[1m264/264\u001b[0m \u001b[32m━━━━━━━━━━━━━━━━━━━━\u001b[0m\u001b[37m\u001b[0m \u001b[1m1s\u001b[0m 2ms/step - loss: 0.2254 - val_loss: 0.2239\n",
            "Epoch 46/50\n",
            "\u001b[1m264/264\u001b[0m \u001b[32m━━━━━━━━━━━━━━━━━━━━\u001b[0m\u001b[37m\u001b[0m \u001b[1m1s\u001b[0m 2ms/step - loss: 0.2234 - val_loss: 0.2237\n",
            "Epoch 47/50\n",
            "\u001b[1m264/264\u001b[0m \u001b[32m━━━━━━━━━━━━━━━━━━━━\u001b[0m\u001b[37m\u001b[0m \u001b[1m1s\u001b[0m 2ms/step - loss: 0.2218 - val_loss: 0.2217\n",
            "Epoch 48/50\n",
            "\u001b[1m264/264\u001b[0m \u001b[32m━━━━━━━━━━━━━━━━━━━━\u001b[0m\u001b[37m\u001b[0m \u001b[1m1s\u001b[0m 2ms/step - loss: 0.2224 - val_loss: 0.2221\n",
            "Epoch 49/50\n",
            "\u001b[1m264/264\u001b[0m \u001b[32m━━━━━━━━━━━━━━━━━━━━\u001b[0m\u001b[37m\u001b[0m \u001b[1m1s\u001b[0m 2ms/step - loss: 0.2195 - val_loss: 0.2214\n",
            "Epoch 50/50\n",
            "\u001b[1m264/264\u001b[0m \u001b[32m━━━━━━━━━━━━━━━━━━━━\u001b[0m\u001b[37m\u001b[0m \u001b[1m1s\u001b[0m 2ms/step - loss: 0.2211 - val_loss: 0.2211\n",
            "\u001b[1m660/660\u001b[0m \u001b[32m━━━━━━━━━━━━━━━━━━━━\u001b[0m\u001b[37m\u001b[0m \u001b[1m1s\u001b[0m 867us/step\n",
            "\u001b[1m283/283\u001b[0m \u001b[32m━━━━━━━━━━━━━━━━━━━━\u001b[0m\u001b[37m\u001b[0m \u001b[1m0s\u001b[0m 883us/step\n",
            "Retrained model accuracy: 0.7535\n"
          ]
        }
      ]
    },
    {
      "cell_type": "markdown",
      "source": [
        "Membership Inference Attack - Autoencoder Embeddings:\n",
        "\n",
        "Explanation: Again, we evaluate privacy using Membership Inference Attack, this time explicitly on embeddings generated by the Autoencoder. Lower attack success rates here indicate enhanced privacy protection provided by latent embeddings."
      ],
      "metadata": {
        "id": "ZODFmtdkBLwV"
      }
    },
    {
      "cell_type": "code",
      "source": [
        "from art.attacks.inference.membership_inference import MembershipInferenceBlackBox\n",
        "from art.estimators.classification import SklearnClassifier\n",
        "import numpy as np\n",
        "\n",
        "# Convert hybrid model explicitly for ART\n",
        "art_classifier_hybrid = SklearnClassifier(model=hybrid_model)\n",
        "\n",
        "# Explicitly define the attack\n",
        "bb_attack_hybrid = MembershipInferenceBlackBox(art_classifier_hybrid, attack_model_type='rf')\n",
        "\n",
        "# Explicit split for attack training clearly\n",
        "attack_train_size = int(0.5 * len(X_train_hybrid))\n",
        "attack_test_size = int(0.5 * len(X_test_hybrid))\n",
        "\n",
        "# Explicitly train attack model\n",
        "bb_attack_hybrid.fit(\n",
        "    X_train_hybrid[:attack_train_size], y_train[:attack_train_size],\n",
        "    X_test_hybrid[:attack_test_size], y_test[:attack_test_size]\n",
        ")\n",
        "\n",
        "# Run attack inference explicitly\n",
        "inferred_train_bb = bb_attack_hybrid.infer(X_train_hybrid[attack_train_size:], y_train[attack_train_size:])\n",
        "inferred_test_bb = bb_attack_hybrid.infer(X_test_hybrid[attack_test_size:], y_test[attack_test_size:])\n",
        "\n",
        "# Clearly calculate explicit attack success\n",
        "train_acc = np.sum(inferred_train_bb) / len(inferred_train_bb)\n",
        "test_acc = 1 - (np.sum(inferred_test_bb) / len(inferred_test_bb))\n",
        "overall_attack_success = (train_acc * len(inferred_train_bb) + test_acc * len(inferred_test_bb)) / (len(inferred_train_bb) + len(inferred_test_bb))\n",
        "\n",
        "print(f\"✅ Explicit Membership Inference Attack Success Rate (Hybrid Model): {overall_attack_success:.4f}\")\n"
      ],
      "metadata": {
        "colab": {
          "base_uri": "https://localhost:8080/"
        },
        "id": "TgrXYBnSsXqG",
        "outputId": "00487a75-d508-410b-c430-ead3e3ebe325"
      },
      "execution_count": null,
      "outputs": [
        {
          "output_type": "stream",
          "name": "stderr",
          "text": [
            "/usr/local/lib/python3.11/dist-packages/sklearn/utils/validation.py:2739: UserWarning: X does not have valid feature names, but DecisionTreeClassifier was fitted with feature names\n",
            "  warnings.warn(\n",
            "/usr/local/lib/python3.11/dist-packages/sklearn/utils/validation.py:2739: UserWarning: X does not have valid feature names, but DecisionTreeClassifier was fitted with feature names\n",
            "  warnings.warn(\n"
          ]
        },
        {
          "output_type": "stream",
          "name": "stdout",
          "text": [
            "✅ Explicit Membership Inference Attack Success Rate (Hybrid Model): 0.7266\n"
          ]
        },
        {
          "output_type": "stream",
          "name": "stderr",
          "text": [
            "/usr/local/lib/python3.11/dist-packages/sklearn/utils/validation.py:2739: UserWarning: X does not have valid feature names, but DecisionTreeClassifier was fitted with feature names\n",
            "  warnings.warn(\n",
            "/usr/local/lib/python3.11/dist-packages/sklearn/utils/validation.py:2739: UserWarning: X does not have valid feature names, but DecisionTreeClassifier was fitted with feature names\n",
            "  warnings.warn(\n"
          ]
        }
      ]
    },
    {
      "cell_type": "markdown",
      "source": [
        "Adversarial Autoencoder Training:\n",
        "\n",
        "Explanation: Here, we explicitly train an adversarial autoencoder designed to produce latent embeddings resistant to inference attacks on sensitive attributes. An adversary model is trained concurrently to explicitly minimize sensitive attribute leakage from latent representations.\n",
        "\n"
      ],
      "metadata": {
        "id": "9zkEl_JlBXH4"
      }
    },
    {
      "cell_type": "code",
      "source": [
        "from sklearn.ensemble import RandomForestClassifier\n",
        "\n",
        "# Clearly define attribute to infer explicitly\n",
        "target_feature = \"sex\"\n",
        "\n",
        "# Explicitly ensure the feature exists in hybrid-selected features\n",
        "if target_feature in hybrid_selected_features:\n",
        "    X_train_attr = X_train_hybrid.drop(columns=[target_feature])\n",
        "    y_train_attr = X_train_hybrid[target_feature].round().astype(int)\n",
        "\n",
        "    X_test_attr = X_test_hybrid.drop(columns=[target_feature])\n",
        "    y_test_attr = X_test_hybrid[target_feature].round().astype(int)\n",
        "\n",
        "    # Explicitly train attribute inference attack model\n",
        "    attack_feature_model = RandomForestClassifier(random_state=42)\n",
        "    attack_feature_model.fit(X_train_attr, y_train_attr)\n",
        "\n",
        "    # Explicitly infer the attribute on test data\n",
        "    inferred_attr = attack_feature_model.predict(X_test_attr)\n",
        "\n",
        "    # Clearly calculate success rate\n",
        "    attr_attack_success_rate = (inferred_attr == y_test_attr).mean()\n",
        "    print(f\"✅ Explicit Attribute Inference Attack Success Rate (Hybrid Model): {attr_attack_success_rate:.4f}\")\n",
        "else:\n",
        "    print(f\"⚠️ Feature '{target_feature}' not in hybrid-selected features explicitly. Choose a different target explicitly.\")\n"
      ],
      "metadata": {
        "colab": {
          "base_uri": "https://localhost:8080/"
        },
        "id": "HOGa7TfWtHSF",
        "outputId": "2c07336a-74ed-450c-ca4e-8d9e7e1662b9"
      },
      "execution_count": null,
      "outputs": [
        {
          "output_type": "stream",
          "name": "stdout",
          "text": [
            "✅ Explicit Attribute Inference Attack Success Rate (Hybrid Model): 0.7286\n"
          ]
        }
      ]
    },
    {
      "cell_type": "markdown",
      "source": [
        "Evaluating Privacy with PAC Privacy Bounds:\n",
        "\n",
        "Explanation: We explicitly measure empirical attribute inference accuracy and compute PAC Privacy bounds. This theoretical evaluation explicitly quantifies the maximum possible leakage risk, giving robust theoretical guarantees about privacy preservation."
      ],
      "metadata": {
        "id": "zG78_yRwBjX2"
      }
    },
    {
      "cell_type": "code",
      "source": [
        "import tensorflow as tf\n",
        "from tensorflow.keras.models import Model\n",
        "from tensorflow.keras.layers import Input, Dense\n",
        "from sklearn.preprocessing import StandardScaler\n",
        "from sklearn.tree import DecisionTreeClassifier\n",
        "\n",
        "# Data prep: Remove sensitive attribute explicitly\n",
        "sensitive_feature = 'sex'\n",
        "X_train_nosensitive = X_train.drop(columns=[sensitive_feature])\n",
        "X_test_nosensitive = X_test.drop(columns=[sensitive_feature])\n",
        "\n",
        "scaler = StandardScaler()\n",
        "X_train_scaled = scaler.fit_transform(X_train_nosensitive)\n",
        "X_test_scaled = scaler.transform(X_test_nosensitive)\n",
        "\n",
        "# Sensitive attribute explicitly extracted\n",
        "sensitive_train = X_train[sensitive_feature].values\n",
        "sensitive_test = X_test[sensitive_feature].values\n",
        "\n",
        "# Dimensions\n",
        "input_dim = X_train_scaled.shape[1]\n",
        "latent_dim = 6\n",
        "\n",
        "# Autoencoder structure\n",
        "input_layer = Input(shape=(input_dim,))\n",
        "encoder = Dense(32, activation='relu')(input_layer)\n",
        "latent_space = Dense(latent_dim, activation='relu')(encoder)\n",
        "decoder = Dense(32, activation='relu')(latent_space)\n",
        "output_layer = Dense(input_dim, activation='linear')(decoder)\n",
        "\n",
        "autoencoder = Model(inputs=input_layer, outputs=output_layer)\n",
        "\n",
        "# Adversary structure (predict sensitive attribute)\n",
        "adversary_input = Input(shape=(latent_dim,))\n",
        "adversary_output = Dense(1, activation='sigmoid')(adversary_input)\n",
        "adversary = Model(inputs=adversary_input, outputs=adversary_output)\n",
        "\n",
        "# Optimizers and losses\n",
        "reconstruction_loss = tf.keras.losses.MeanSquaredError()\n",
        "adversary_loss = tf.keras.losses.BinaryCrossentropy()\n",
        "optimizer_autoencoder = tf.keras.optimizers.Adam(learning_rate=0.001)\n",
        "optimizer_adversary = tf.keras.optimizers.Adam(learning_rate=0.001)\n",
        "\n",
        "# Training loop explicitly adversarial\n",
        "epochs = 20\n",
        "batch_size = 64\n",
        "\n",
        "dataset = tf.data.Dataset.from_tensor_slices((X_train_scaled, sensitive_train))\n",
        "dataset = dataset.shuffle(buffer_size=1024).batch(batch_size)\n",
        "\n",
        "for epoch in range(epochs):\n",
        "    print(f\"Epoch {epoch+1}/{epochs}\")\n",
        "    for step, (x_batch, s_batch) in enumerate(dataset):\n",
        "        with tf.GradientTape(persistent=True) as tape:\n",
        "            # Correctly reference embeddings (latent space layer)\n",
        "            # Inside your autoencoder training loop, replace embeddings line clearly:\n",
        "            embeddings = autoencoder.layers[2](autoencoder.layers[1](x_batch))\n",
        "            # Add tiny noise explicitly\n",
        "            embeddings += tf.random.normal(shape=tf.shape(embeddings), mean=0.0, stddev=0.05)\n",
        "            reconstructed = autoencoder(x_batch)\n",
        "\n",
        "            # Adversary predictions\n",
        "            sensitive_pred = adversary(embeddings)\n",
        "\n",
        "            # Calculate losses explicitly\n",
        "            loss_reconstruct = reconstruction_loss(x_batch, reconstructed)\n",
        "            loss_adv = adversary_loss(s_batch, sensitive_pred)\n",
        "\n",
        "            # Encoder tries to reconstruct input AND fool adversary\n",
        "            loss_encoder = loss_reconstruct - 1.0 * loss_adv\n",
        "\n",
        "\n",
        "        # Update autoencoder (encoder-decoder)\n",
        "        grads_encoder = tape.gradient(loss_encoder, autoencoder.trainable_weights)\n",
        "        optimizer_autoencoder.apply_gradients(zip(grads_encoder, autoencoder.trainable_weights))\n",
        "\n",
        "        # Update adversary separately\n",
        "        grads_adversary = tape.gradient(loss_adv, adversary.trainable_weights)\n",
        "        optimizer_adversary.apply_gradients(zip(grads_adversary, adversary.trainable_weights))\n",
        "\n",
        "    print(f\"Reconstruction Loss: {loss_reconstruct.numpy():.4f}, Adversary Loss: {loss_adv.numpy():.4f}\")\n",
        "\n",
        "\n",
        "# Extract embeddings explicitly\n",
        "encoder_model = Model(inputs=input_layer, outputs=latent_space)\n",
        "X_train_latent = encoder_model.predict(X_train_scaled)\n",
        "X_test_latent = encoder_model.predict(X_test_scaled)\n",
        "\n",
        "# Retrain your predictive model on these embeddings explicitly\n",
        "clf = DecisionTreeClassifier(random_state=42)\n",
        "clf.fit(X_train_latent, y_train)\n",
        "accuracy = clf.score(X_test_latent, y_test)\n",
        "print(f\"\\nFinal accuracy on adversarial latent embeddings: {accuracy:.4f}\")\n"
      ],
      "metadata": {
        "colab": {
          "base_uri": "https://localhost:8080/"
        },
        "id": "fjL_kHXiuuSH",
        "outputId": "fba68f2e-5c33-472f-aeaf-5f73379b2da7"
      },
      "execution_count": null,
      "outputs": [
        {
          "output_type": "stream",
          "name": "stdout",
          "text": [
            "Epoch 1/20\n",
            "Reconstruction Loss: 0.7296, Adversary Loss: 1.0440\n",
            "Epoch 2/20\n",
            "Reconstruction Loss: 0.7276, Adversary Loss: -0.1819\n",
            "Epoch 3/20\n",
            "Reconstruction Loss: 0.4777, Adversary Loss: -0.0235\n",
            "Epoch 4/20\n",
            "Reconstruction Loss: 0.4387, Adversary Loss: 0.3744\n",
            "Epoch 5/20\n",
            "Reconstruction Loss: 0.4448, Adversary Loss: 0.2182\n",
            "Epoch 6/20\n",
            "Reconstruction Loss: 0.3614, Adversary Loss: 0.2034\n",
            "Epoch 7/20\n",
            "Reconstruction Loss: 0.2835, Adversary Loss: 0.1730\n",
            "Epoch 8/20\n",
            "Reconstruction Loss: 0.3210, Adversary Loss: 0.2152\n",
            "Epoch 9/20\n",
            "Reconstruction Loss: 0.3002, Adversary Loss: 0.3299\n",
            "Epoch 10/20\n",
            "Reconstruction Loss: 0.2676, Adversary Loss: 0.0669\n",
            "Epoch 11/20\n",
            "Reconstruction Loss: 0.2853, Adversary Loss: 0.5532\n",
            "Epoch 12/20\n",
            "Reconstruction Loss: 0.2857, Adversary Loss: 0.6914\n",
            "Epoch 13/20\n",
            "Reconstruction Loss: 0.1541, Adversary Loss: 0.2799\n",
            "Epoch 14/20\n",
            "Reconstruction Loss: 0.1714, Adversary Loss: -0.7472\n",
            "Epoch 15/20\n",
            "Reconstruction Loss: 0.2157, Adversary Loss: -0.2747\n",
            "Epoch 16/20\n",
            "Reconstruction Loss: 0.1700, Adversary Loss: -0.6316\n",
            "Epoch 17/20\n",
            "Reconstruction Loss: 0.1877, Adversary Loss: -0.1063\n",
            "Epoch 18/20\n",
            "Reconstruction Loss: 0.1501, Adversary Loss: 0.0941\n",
            "Epoch 19/20\n",
            "Reconstruction Loss: 0.1514, Adversary Loss: 0.1014\n",
            "Epoch 20/20\n",
            "Reconstruction Loss: 0.1917, Adversary Loss: -0.2500\n",
            "\u001b[1m660/660\u001b[0m \u001b[32m━━━━━━━━━━━━━━━━━━━━\u001b[0m\u001b[37m\u001b[0m \u001b[1m1s\u001b[0m 884us/step\n",
            "\u001b[1m283/283\u001b[0m \u001b[32m━━━━━━━━━━━━━━━━━━━━\u001b[0m\u001b[37m\u001b[0m \u001b[1m0s\u001b[0m 855us/step\n",
            "\n",
            "Final accuracy on adversarial latent embeddings: 0.7630\n"
          ]
        }
      ]
    },
    {
      "cell_type": "markdown",
      "source": [
        "Membership Inference - Adversarial Embeddings:\n",
        "\n",
        "Explanation: We explicitly execute membership inference attacks on the adversarially-trained embeddings. This step explicitly validates whether our adversarial training effectively mitigates membership inference privacy risks."
      ],
      "metadata": {
        "id": "VcWce7rIBuPs"
      }
    },
    {
      "cell_type": "code",
      "source": [
        "import numpy as np\n",
        "from sklearn.ensemble import RandomForestClassifier\n",
        "from sklearn.metrics import accuracy_score\n",
        "\n",
        "# Define sensitive attribute clearly\n",
        "sensitive_feature = 'sex'\n",
        "\n",
        "# Extract latent embeddings from trained encoder (already done)\n",
        "X_train_emb, X_test_emb = X_train_latent, X_test_latent\n",
        "\n",
        "# Clearly convert sensitive attribute to discrete labels explicitly\n",
        "y_train_sensitive = (X_train[sensitive_feature] > 0.5).astype(int)\n",
        "y_test_sensitive = (X_test[sensitive_feature] > 0.5).astype(int)\n",
        "\n",
        "# Quickly train attacker explicitly\n",
        "attacker = RandomForestClassifier(random_state=42)\n",
        "attacker.fit(X_train_emb, y_train_sensitive)\n",
        "\n",
        "# Empirical accuracy clearly calculated\n",
        "y_pred_sensitive = attacker.predict(X_test_emb)\n",
        "empirical_accuracy = accuracy_score(y_test_sensitive, y_pred_sensitive)\n",
        "empirical_leakage = empirical_accuracy - 0.5  # random guessing baseline for binary attribute\n",
        "\n",
        "# PAC Privacy Bound explicitly calculated\n",
        "delta = 0.05  # 95% confidence\n",
        "n_samples = len(X_test_emb)\n",
        "pac_privacy_bound = empirical_leakage + np.sqrt(np.log(2/delta) / (2*n_samples))\n",
        "\n",
        "# Explicit Results\n",
        "print(f\"Empirical Attribute Inference Accuracy: {empirical_accuracy:.4f}\")\n",
        "print(f\"Empirical Leakage (above random guess): {empirical_leakage:.4f}\")\n",
        "print(f\"PAC Privacy Leakage Bound (95% confidence): {pac_privacy_bound:.4f}\")\n"
      ],
      "metadata": {
        "colab": {
          "base_uri": "https://localhost:8080/"
        },
        "id": "_IiGAz2cvHta",
        "outputId": "a6533ebc-3435-4396-af53-c1463e9ea367"
      },
      "execution_count": null,
      "outputs": [
        {
          "output_type": "stream",
          "name": "stdout",
          "text": [
            "Empirical Attribute Inference Accuracy: 0.7935\n",
            "Empirical Leakage (above random guess): 0.2935\n",
            "PAC Privacy Leakage Bound (95% confidence): 0.3077\n"
          ]
        }
      ]
    },
    {
      "cell_type": "markdown",
      "source": [
        "Adding Explicit Noise and Privacy Check:\n",
        "\n",
        "Explanation: Here, we explicitly introduce additional noise into latent embeddings to further improve privacy, and subsequently evaluate both predictive accuracy and attribute inference risks under explicitly noisy conditions."
      ],
      "metadata": {
        "id": "-u-xkPtjB-IO"
      }
    },
    {
      "cell_type": "code",
      "source": [
        "from art.attacks.inference.membership_inference import MembershipInferenceBlackBox\n",
        "from art.estimators.classification import SklearnClassifier\n",
        "\n",
        "# Train predictive model explicitly\n",
        "clf = DecisionTreeClassifier(random_state=42)\n",
        "clf.fit(X_train_latent, y_train)\n",
        "\n",
        "# ART classifier explicitly\n",
        "art_classifier = SklearnClassifier(model=clf)\n",
        "\n",
        "# Black-box membership inference explicitly\n",
        "bb_attack = MembershipInferenceBlackBox(art_classifier, attack_model_type='rf')\n",
        "bb_attack.fit(X_train_latent, y_train, X_test_latent, y_test)\n",
        "\n",
        "# Explicitly infer membership\n",
        "inferred_train = bb_attack.infer(X_train_latent, y_train)\n",
        "inferred_test = bb_attack.infer(X_test_latent, y_test)\n",
        "\n",
        "# Explicitly calculate attack accuracy\n",
        "train_acc = np.mean(inferred_train)\n",
        "test_acc = 1 - np.mean(inferred_test)\n",
        "overall_bb_attack_success = (train_acc + test_acc) / 2\n",
        "\n",
        "print(f\"✅ Membership Inference Attack Success (black-box): {overall_bb_attack_success:.4f}\")\n"
      ],
      "metadata": {
        "colab": {
          "base_uri": "https://localhost:8080/"
        },
        "id": "MKaGCh9rzsqA",
        "outputId": "06146647-514b-469e-a35d-dfcfdeae0326"
      },
      "execution_count": null,
      "outputs": [
        {
          "output_type": "stream",
          "name": "stdout",
          "text": [
            "✅ Membership Inference Attack Success (black-box): 0.6185\n"
          ]
        }
      ]
    },
    {
      "cell_type": "markdown",
      "source": [
        "Hybrid Embeddings + Original Features:\n",
        "\n",
        "Explanation: Explicitly, we combine latent embeddings from the autoencoder with original non-sensitive features, aiming to maintain predictive accuracy while still offering privacy benefits. This hybrid dataset is evaluated explicitly for predictive performance."
      ],
      "metadata": {
        "id": "4sMjdu67CH9T"
      }
    },
    {
      "cell_type": "code",
      "source": [
        "noise_factor = 0.2  # explicitly increased from 0.05\n",
        "X_train_noisy = X_train_latent + noise_factor * np.random.normal(size=X_train_latent.shape)\n",
        "X_test_noisy = X_test_latent + noise_factor * np.random.normal(size=X_test_latent.shape)\n",
        "\n",
        "# Retrain quickly to verify accuracy stays reasonable\n",
        "clf = DecisionTreeClassifier(random_state=42)\n",
        "clf.fit(X_train_noisy, y_train)\n",
        "accuracy_noisy = clf.score(X_test_noisy, y_test)\n",
        "print(f\"Accuracy with increased noise embeddings: {accuracy_noisy:.4f}\")\n",
        "\n",
        "# Check attribute inference explicitly (white-box attacker)\n",
        "attacker = RandomForestClassifier(random_state=42)\n",
        "attacker.fit(X_train_noisy, y_train_sensitive)\n",
        "attr_inf_accuracy_noisy = accuracy_score(y_test_sensitive, attacker.predict(X_test_noisy))\n",
        "print(f\"Attribute inference accuracy with increased noise: {attr_inf_accuracy_noisy:.4f}\")\n"
      ],
      "metadata": {
        "colab": {
          "base_uri": "https://localhost:8080/"
        },
        "id": "gFN5qe59CU64",
        "outputId": "93665fbb-2eb8-4328-fa41-aa4745c6b040"
      },
      "execution_count": null,
      "outputs": [
        {
          "output_type": "stream",
          "name": "stdout",
          "text": [
            "Accuracy with increased noise embeddings: 0.7599\n",
            "Attribute inference accuracy with increased noise: 0.7802\n"
          ]
        }
      ]
    },
    {
      "cell_type": "markdown",
      "source": [
        "Attribute Inference - Hybrid Features:\n",
        "\n",
        "Explanation: We explicitly assess attribute inference attacks against this new hybrid dataset (latent + original non-sensitive features). This explicitly tests whether including original features inadvertently reintroduces sensitive attribute risks."
      ],
      "metadata": {
        "id": "dBqBUSSxCQ-I"
      }
    },
    {
      "cell_type": "code",
      "source": [
        "# Combine latent embeddings explicitly with original (non-sensitive) features\n",
        "non_sensitive_features_train = X_train.drop(columns=['sex']).reset_index(drop=True)\n",
        "non_sensitive_features_test = X_test.drop(columns=['sex']).reset_index(drop=True)\n",
        "\n",
        "# Hybrid feature sets explicitly created\n",
        "X_hybrid_train = np.hstack([X_train_latent, non_sensitive_features_train])\n",
        "X_hybrid_test = np.hstack([X_test_latent, non_sensitive_features_test])\n",
        "\n",
        "# Retrain predictive model explicitly and clearly correctly\n",
        "clf_hybrid = DecisionTreeClassifier(random_state=42)\n",
        "clf_hybrid.fit(X_hybrid_train, y_train)\n",
        "hybrid_accuracy = clf_hybrid.score(X_hybrid_test, y_test)\n",
        "print(f\"✅ Corrected Hybrid Predictive Accuracy: {hybrid_accuracy:.4f}\")\n"
      ],
      "metadata": {
        "colab": {
          "base_uri": "https://localhost:8080/"
        },
        "id": "0D_h2cgKFbnf",
        "outputId": "b81ff35e-cb5e-41e3-a179-4eb0c70da945"
      },
      "execution_count": null,
      "outputs": [
        {
          "output_type": "stream",
          "name": "stdout",
          "text": [
            "✅ Corrected Hybrid Predictive Accuracy: 0.8092\n"
          ]
        }
      ]
    },
    {
      "cell_type": "markdown",
      "source": [
        "Final Autoencoder Retraining without Sensitive Attribute:\n",
        "\n",
        "Explanation: In this explicit final retraining, we entirely remove the sensitive attribute (\"sex\") from the training dataset. A new autoencoder is explicitly trained to confirm if removing the sensitive attribute explicitly further reduces privacy risks."
      ],
      "metadata": {
        "id": "CYV9n7O6Cbao"
      }
    },
    {
      "cell_type": "code",
      "source": [
        "# Explicit white-box attribute inference accuracy check (hybrid model)\n",
        "attacker = RandomForestClassifier(random_state=42)\n",
        "attacker.fit(X_hybrid_train, y_train_sensitive)\n",
        "attr_inf_accuracy_hybrid = accuracy_score(y_test_sensitive, attacker.predict(X_hybrid_test))\n",
        "print(f\"✅ Attribute Inference Accuracy (Hybrid White-box): {attr_inf_accuracy_hybrid:.4f}\")\n"
      ],
      "metadata": {
        "colab": {
          "base_uri": "https://localhost:8080/"
        },
        "id": "Xoro5q5BCV5C",
        "outputId": "6c342e87-39d3-42d1-f9ee-109f4a1b3151"
      },
      "execution_count": null,
      "outputs": [
        {
          "output_type": "stream",
          "name": "stdout",
          "text": [
            "✅ Attribute Inference Accuracy (Hybrid White-box): 0.8349\n"
          ]
        }
      ]
    },
    {
      "cell_type": "markdown",
      "source": [
        "Retrain the autoencoder, this time entirely excluding the sensitive attribute (\"sex\"). This explicitly confirms whether completely removing sensitive attributes from training further enhances privacy."
      ],
      "metadata": {
        "id": "f70T4P-KLnDe"
      }
    },
    {
      "cell_type": "code",
      "source": [
        "# Explicitly remove sensitive feature before retraining autoencoder\n",
        "X_train_nosex = X_train.drop(columns=['sex'])\n",
        "X_test_nosex = X_test.drop(columns=['sex'])\n",
        "\n",
        "scaler = StandardScaler()\n",
        "X_train_scaled = scaler.fit_transform(X_train_nosex)\n",
        "X_test_scaled = scaler.transform(X_test_nosex)\n",
        "\n",
        "# Explicit adversarial autoencoder retraining clearly without sensitive attribute\n",
        "latent_dim = 6  # keep explicitly small for privacy\n",
        "input_dim = X_train_scaled.shape[1]\n",
        "\n",
        "input_layer = Input(shape=(input_dim,))\n",
        "encoder = Dense(16, activation='relu')(input_layer)\n",
        "latent_space = Dense(latent_dim, activation='relu')(encoder)\n",
        "decoder = Dense(16, activation='relu')(latent_space)\n",
        "output_layer = Dense(input_dim, activation='linear')(decoder)\n",
        "\n",
        "autoencoder = Model(inputs=input_layer, outputs=output_layer)\n",
        "autoencoder.compile(optimizer='adam', loss='mse')\n",
        "autoencoder.fit(X_train_scaled, X_train_scaled,\n",
        "                epochs=15, batch_size=64, verbose=1)\n",
        "\n",
        "# Explicitly extract latent embeddings\n",
        "encoder_model = Model(inputs=input_layer, outputs=latent_space)\n",
        "X_train_latent = encoder_model.predict(X_train_scaled)\n",
        "X_test_latent = encoder_model.predict(X_test_scaled)\n",
        "\n",
        "# Explicitly add noise clearly\n",
        "noise_factor = 0.3\n",
        "X_train_latent_noisy = X_train_latent + noise_factor * np.random.normal(size=X_train_latent.shape)\n",
        "X_test_latent_noisy = X_test_latent + noise_factor * np.random.normal(size=X_test_latent.shape)\n",
        "\n",
        "# Clearly check attribute inference again explicitly\n",
        "attacker = RandomForestClassifier(random_state=42)\n",
        "attacker.fit(X_train_latent_noisy, y_train_sensitive)\n",
        "attr_inf_accuracy_final = accuracy_score(y_test_sensitive, attacker.predict(X_test_latent_noisy))\n",
        "print(f\"✅ Final explicit attribute inference accuracy: {attr_inf_accuracy_final:.4f}\")\n",
        "\n",
        "# Quickly check predictive accuracy explicitly\n",
        "clf_final = DecisionTreeClassifier(random_state=42)\n",
        "clf_final.fit(X_train_latent_noisy, y_train)\n",
        "final_accuracy = clf_final.score(X_test_latent_noisy, y_test)\n",
        "print(f\"✅ Final predictive accuracy: {final_accuracy:.4f}\")\n"
      ],
      "metadata": {
        "colab": {
          "base_uri": "https://localhost:8080/"
        },
        "id": "ru0GlRi7F_WB",
        "outputId": "d12aabed-7ada-47e2-d214-1490c42f6b1e"
      },
      "execution_count": null,
      "outputs": [
        {
          "output_type": "stream",
          "name": "stdout",
          "text": [
            "Epoch 1/15\n",
            "\u001b[1m330/330\u001b[0m \u001b[32m━━━━━━━━━━━━━━━━━━━━\u001b[0m\u001b[37m\u001b[0m \u001b[1m4s\u001b[0m 6ms/step - loss: 0.9292\n",
            "Epoch 2/15\n",
            "\u001b[1m330/330\u001b[0m \u001b[32m━━━━━━━━━━━━━━━━━━━━\u001b[0m\u001b[37m\u001b[0m \u001b[1m1s\u001b[0m 4ms/step - loss: 0.5726\n",
            "Epoch 3/15\n",
            "\u001b[1m330/330\u001b[0m \u001b[32m━━━━━━━━━━━━━━━━━━━━\u001b[0m\u001b[37m\u001b[0m \u001b[1m2s\u001b[0m 3ms/step - loss: 0.3817\n",
            "Epoch 4/15\n",
            "\u001b[1m330/330\u001b[0m \u001b[32m━━━━━━━━━━━━━━━━━━━━\u001b[0m\u001b[37m\u001b[0m \u001b[1m2s\u001b[0m 7ms/step - loss: 0.3042\n",
            "Epoch 5/15\n",
            "\u001b[1m330/330\u001b[0m \u001b[32m━━━━━━━━━━━━━━━━━━━━\u001b[0m\u001b[37m\u001b[0m \u001b[1m1s\u001b[0m 1ms/step - loss: 0.2573\n",
            "Epoch 6/15\n",
            "\u001b[1m330/330\u001b[0m \u001b[32m━━━━━━━━━━━━━━━━━━━━\u001b[0m\u001b[37m\u001b[0m \u001b[1m1s\u001b[0m 2ms/step - loss: 0.2334\n",
            "Epoch 7/15\n",
            "\u001b[1m330/330\u001b[0m \u001b[32m━━━━━━━━━━━━━━━━━━━━\u001b[0m\u001b[37m\u001b[0m \u001b[1m1s\u001b[0m 2ms/step - loss: 0.2233\n",
            "Epoch 8/15\n",
            "\u001b[1m330/330\u001b[0m \u001b[32m━━━━━━━━━━━━━━━━━━━━\u001b[0m\u001b[37m\u001b[0m \u001b[1m1s\u001b[0m 2ms/step - loss: 0.2134\n",
            "Epoch 9/15\n",
            "\u001b[1m330/330\u001b[0m \u001b[32m━━━━━━━━━━━━━━━━━━━━\u001b[0m\u001b[37m\u001b[0m \u001b[1m1s\u001b[0m 2ms/step - loss: 0.2092\n",
            "Epoch 10/15\n",
            "\u001b[1m330/330\u001b[0m \u001b[32m━━━━━━━━━━━━━━━━━━━━\u001b[0m\u001b[37m\u001b[0m \u001b[1m1s\u001b[0m 2ms/step - loss: 0.2068\n",
            "Epoch 11/15\n",
            "\u001b[1m330/330\u001b[0m \u001b[32m━━━━━━━━━━━━━━━━━━━━\u001b[0m\u001b[37m\u001b[0m \u001b[1m1s\u001b[0m 1ms/step - loss: 0.1997\n",
            "Epoch 12/15\n",
            "\u001b[1m330/330\u001b[0m \u001b[32m━━━━━━━━━━━━━━━━━━━━\u001b[0m\u001b[37m\u001b[0m \u001b[1m1s\u001b[0m 1ms/step - loss: 0.1988\n",
            "Epoch 13/15\n",
            "\u001b[1m330/330\u001b[0m \u001b[32m━━━━━━━━━━━━━━━━━━━━\u001b[0m\u001b[37m\u001b[0m \u001b[1m1s\u001b[0m 2ms/step - loss: 0.1960\n",
            "Epoch 14/15\n",
            "\u001b[1m330/330\u001b[0m \u001b[32m━━━━━━━━━━━━━━━━━━━━\u001b[0m\u001b[37m\u001b[0m \u001b[1m1s\u001b[0m 2ms/step - loss: 0.1950\n",
            "Epoch 15/15\n",
            "\u001b[1m330/330\u001b[0m \u001b[32m━━━━━━━━━━━━━━━━━━━━\u001b[0m\u001b[37m\u001b[0m \u001b[1m1s\u001b[0m 1ms/step - loss: 0.1927\n",
            "\u001b[1m660/660\u001b[0m \u001b[32m━━━━━━━━━━━━━━━━━━━━\u001b[0m\u001b[37m\u001b[0m \u001b[1m1s\u001b[0m 892us/step\n",
            "\u001b[1m283/283\u001b[0m \u001b[32m━━━━━━━━━━━━━━━━━━━━\u001b[0m\u001b[37m\u001b[0m \u001b[1m0s\u001b[0m 823us/step\n",
            "✅ Final explicit attribute inference accuracy: 0.7754\n",
            "✅ Final predictive accuracy: 0.7302\n"
          ]
        }
      ]
    },
    {
      "cell_type": "markdown",
      "source": [
        "Perform a final comprehensive evaluation of model predictive accuracy and membership inference privacy after completely removing the sensitive attribute.\n",
        "Key Results:\n",
        "\n",
        "Final Predictive Accuracy: 80.93%, indicating strong predictive utility despite the removal of sensitive attributes.\n",
        "Membership Inference Attack Success: 55.53%, significantly reduced from earlier benchmarks, demonstrating strong privacy protection against inference attacks."
      ],
      "metadata": {
        "id": "mw-KHFlOLa42"
      }
    },
    {
      "cell_type": "code",
      "source": [
        "# Explicitly remove \"sex\" completely\n",
        "selected_features = ['age', 'education_num', 'capital_gain', 'hours_per_week', 'marital_status']\n",
        "X_train_final = X_train[selected_features]\n",
        "X_test_final = X_test[selected_features]\n",
        "\n",
        "scaler = StandardScaler()\n",
        "X_train_scaled = scaler.fit_transform(X_train_final)\n",
        "X_test_scaled = scaler.transform(X_test_final)\n",
        "\n",
        "# Autoencoder retraining explicitly\n",
        "latent_dim = 6\n",
        "input_dim = X_train_scaled.shape[1]\n",
        "\n",
        "input_layer = Input(shape=(input_dim,))\n",
        "encoder = Dense(16, activation='relu')(input_layer)\n",
        "latent_space = Dense(latent_dim, activation='relu')(encoder)\n",
        "decoder = Dense(16, activation='relu')(latent_space)\n",
        "output_layer = Dense(input_dim, activation='linear')(decoder)\n",
        "\n",
        "autoencoder = Model(inputs=input_layer, outputs=output_layer)\n",
        "autoencoder.compile(optimizer='adam', loss='mse')\n",
        "autoencoder.fit(X_train_scaled, X_train_scaled,\n",
        "                epochs=15, batch_size=64, verbose=1)\n",
        "\n",
        "# Explicit latent embeddings\n",
        "encoder_model = Model(inputs=input_layer, outputs=latent_space)\n",
        "X_train_latent = encoder_model.predict(X_train_scaled)\n",
        "X_test_latent = encoder_model.predict(X_test_scaled)\n",
        "\n",
        "# Quick predictive accuracy check explicitly\n",
        "clf_final = DecisionTreeClassifier(random_state=42)\n",
        "clf_final.fit(X_train_latent, y_train)\n",
        "final_accuracy = clf_final.score(X_test_latent, y_test)\n",
        "print(f\"✅ Final predictive accuracy (no 'sex'): {final_accuracy:.4f}\")\n",
        "\n",
        "# Quick Membership Inference check explicitly\n",
        "art_classifier = SklearnClassifier(model=clf_final)\n",
        "bb_attack = MembershipInferenceBlackBox(art_classifier, attack_model_type='rf')\n",
        "bb_attack.fit(X_train_latent, y_train, X_test_latent, y_test)\n",
        "inferred_train = bb_attack.infer(X_train_latent, y_train)\n",
        "inferred_test = bb_attack.infer(X_test_latent, y_test)\n",
        "train_acc = np.mean(inferred_train)\n",
        "test_acc = 1 - np.mean(inferred_test)\n",
        "overall_bb_attack_success = (train_acc + test_acc) / 2\n",
        "print(f\"✅ Membership Inference Attack Success (no 'sex'): {overall_bb_attack_success:.4f}\")\n"
      ],
      "metadata": {
        "colab": {
          "base_uri": "https://localhost:8080/"
        },
        "id": "bDSq5pLdGglm",
        "outputId": "45f5aca8-9fac-426d-ae35-fb3ce20b1eb2"
      },
      "execution_count": null,
      "outputs": [
        {
          "output_type": "stream",
          "name": "stdout",
          "text": [
            "Epoch 1/15\n",
            "\u001b[1m330/330\u001b[0m \u001b[32m━━━━━━━━━━━━━━━━━━━━\u001b[0m\u001b[37m\u001b[0m \u001b[1m3s\u001b[0m 3ms/step - loss: 1.0225\n",
            "Epoch 2/15\n",
            "\u001b[1m330/330\u001b[0m \u001b[32m━━━━━━━━━━━━━━━━━━━━\u001b[0m\u001b[37m\u001b[0m \u001b[1m1s\u001b[0m 3ms/step - loss: 0.1379\n",
            "Epoch 3/15\n",
            "\u001b[1m330/330\u001b[0m \u001b[32m━━━━━━━━━━━━━━━━━━━━\u001b[0m\u001b[37m\u001b[0m \u001b[1m1s\u001b[0m 3ms/step - loss: 0.0287\n",
            "Epoch 4/15\n",
            "\u001b[1m330/330\u001b[0m \u001b[32m━━━━━━━━━━━━━━━━━━━━\u001b[0m\u001b[37m\u001b[0m \u001b[1m1s\u001b[0m 3ms/step - loss: 0.0152\n",
            "Epoch 5/15\n",
            "\u001b[1m330/330\u001b[0m \u001b[32m━━━━━━━━━━━━━━━━━━━━\u001b[0m\u001b[37m\u001b[0m \u001b[1m1s\u001b[0m 1ms/step - loss: 0.0100\n",
            "Epoch 6/15\n",
            "\u001b[1m330/330\u001b[0m \u001b[32m━━━━━━━━━━━━━━━━━━━━\u001b[0m\u001b[37m\u001b[0m \u001b[1m0s\u001b[0m 1ms/step - loss: 0.0073\n",
            "Epoch 7/15\n",
            "\u001b[1m330/330\u001b[0m \u001b[32m━━━━━━━━━━━━━━━━━━━━\u001b[0m\u001b[37m\u001b[0m \u001b[1m0s\u001b[0m 1ms/step - loss: 0.0056\n",
            "Epoch 8/15\n",
            "\u001b[1m330/330\u001b[0m \u001b[32m━━━━━━━━━━━━━━━━━━━━\u001b[0m\u001b[37m\u001b[0m \u001b[1m1s\u001b[0m 1ms/step - loss: 0.0042\n",
            "Epoch 9/15\n",
            "\u001b[1m330/330\u001b[0m \u001b[32m━━━━━━━━━━━━━━━━━━━━\u001b[0m\u001b[37m\u001b[0m \u001b[1m1s\u001b[0m 1ms/step - loss: 0.0031\n",
            "Epoch 10/15\n",
            "\u001b[1m330/330\u001b[0m \u001b[32m━━━━━━━━━━━━━━━━━━━━\u001b[0m\u001b[37m\u001b[0m \u001b[1m1s\u001b[0m 1ms/step - loss: 0.0022\n",
            "Epoch 11/15\n",
            "\u001b[1m330/330\u001b[0m \u001b[32m━━━━━━━━━━━━━━━━━━━━\u001b[0m\u001b[37m\u001b[0m \u001b[1m1s\u001b[0m 1ms/step - loss: 0.0015\n",
            "Epoch 12/15\n",
            "\u001b[1m330/330\u001b[0m \u001b[32m━━━━━━━━━━━━━━━━━━━━\u001b[0m\u001b[37m\u001b[0m \u001b[1m1s\u001b[0m 1ms/step - loss: 0.0011\n",
            "Epoch 13/15\n",
            "\u001b[1m330/330\u001b[0m \u001b[32m━━━━━━━━━━━━━━━━━━━━\u001b[0m\u001b[37m\u001b[0m \u001b[1m1s\u001b[0m 1ms/step - loss: 8.8303e-04\n",
            "Epoch 14/15\n",
            "\u001b[1m330/330\u001b[0m \u001b[32m━━━━━━━━━━━━━━━━━━━━\u001b[0m\u001b[37m\u001b[0m \u001b[1m1s\u001b[0m 2ms/step - loss: 7.1777e-04\n",
            "Epoch 15/15\n",
            "\u001b[1m330/330\u001b[0m \u001b[32m━━━━━━━━━━━━━━━━━━━━\u001b[0m\u001b[37m\u001b[0m \u001b[1m1s\u001b[0m 3ms/step - loss: 5.8701e-04\n",
            "\u001b[1m660/660\u001b[0m \u001b[32m━━━━━━━━━━━━━━━━━━━━\u001b[0m\u001b[37m\u001b[0m \u001b[1m1s\u001b[0m 1ms/step\n",
            "\u001b[1m283/283\u001b[0m \u001b[32m━━━━━━━━━━━━━━━━━━━━\u001b[0m\u001b[37m\u001b[0m \u001b[1m0s\u001b[0m 912us/step\n",
            "✅ Final predictive accuracy (no 'sex'): 0.8093\n",
            "✅ Membership Inference Attack Success (no 'sex'): 0.5553\n"
          ]
        }
      ]
    },
    {
      "cell_type": "code",
      "source": [],
      "metadata": {
        "id": "s77suQmYI4h-"
      },
      "execution_count": null,
      "outputs": []
    }
  ]
}