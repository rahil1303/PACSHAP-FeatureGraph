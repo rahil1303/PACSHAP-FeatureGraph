{
  "cells": [
    {
      "cell_type": "markdown",
      "metadata": {
        "id": "ah5YEXDEq-dS"
      },
      "source": [
        "# Using ML anonymization to defend against attribute inference attacks"
      ]
    },
    {
      "cell_type": "markdown",
      "metadata": {
        "id": "yWUm0IAxq-dU"
      },
      "source": [
        "In this tutorial we will show how to anonymize models using the ML anonymization module.\n",
        "\n",
        "We will demonstrate running inference attacks both on a vanilla model, and then on different anonymized versions of the model. We will run both black-box and white-box attribute inference attacks using ART's inference module (https://github.com/Trusted-AI/adversarial-robustness-toolbox/tree/main/art/attacks/inference).\n",
        "\n",
        "This will be demonstarted using the Nursery dataset (original dataset can be found here: https://archive.ics.uci.edu/ml/datasets/nursery).\n",
        "\n",
        "The sensitive feature we are trying to infer is the 'social' feature, after turning it into a binary feature (the original value 'problematic' receives the new value 1 and the rest 0). We also preprocess the data such that all categorical features are one-hot encoded."
      ]
    },
    {
      "cell_type": "markdown",
      "metadata": {
        "id": "APp-Wk-xq-dU"
      },
      "source": [
        "## Load data"
      ]
    },
    {
      "cell_type": "code",
      "source": [
        "!mkdir -p ../datasets\n",
        "!wget -P ../datasets https://archive.ics.uci.edu/ml/machine-learning-databases/adult/adult.data\n",
        "!wget -P ../datasets https://archive.ics.uci.edu/ml/machine-learning-databases/statlog/german/german.data\n",
        "!wget -P ../datasets https://archive.ics.uci.edu/ml/machine-learning-databases/nursery/nursery.data"
      ],
      "metadata": {
        "colab": {
          "base_uri": "https://localhost:8080/"
        },
        "id": "o6eDnEr9s1pc",
        "outputId": "2ac3ae6b-5428-481c-85da-c1072eb5f9eb"
      },
      "execution_count": null,
      "outputs": [
        {
          "output_type": "stream",
          "name": "stdout",
          "text": [
            "--2025-02-22 07:34:48--  https://archive.ics.uci.edu/ml/machine-learning-databases/adult/adult.data\n",
            "Resolving archive.ics.uci.edu (archive.ics.uci.edu)... 128.195.10.252\n",
            "Connecting to archive.ics.uci.edu (archive.ics.uci.edu)|128.195.10.252|:443... connected.\n",
            "HTTP request sent, awaiting response... 200 OK\n",
            "Length: unspecified\n",
            "Saving to: ‘../datasets/adult.data.1’\n",
            "\n",
            "adult.data.1            [    <=>             ]   3.79M  6.19MB/s    in 0.6s    \n",
            "\n",
            "2025-02-22 07:34:50 (6.19 MB/s) - ‘../datasets/adult.data.1’ saved [3974305]\n",
            "\n",
            "--2025-02-22 07:34:50--  https://archive.ics.uci.edu/ml/machine-learning-databases/statlog/german/german.data\n",
            "Resolving archive.ics.uci.edu (archive.ics.uci.edu)... 128.195.10.252\n",
            "Connecting to archive.ics.uci.edu (archive.ics.uci.edu)|128.195.10.252|:443... connected.\n",
            "HTTP request sent, awaiting response... 200 OK\n",
            "Length: unspecified\n",
            "Saving to: ‘../datasets/german.data.1’\n",
            "\n",
            "german.data.1           [  <=>               ]  77.92K   386KB/s    in 0.2s    \n",
            "\n",
            "2025-02-22 07:34:50 (386 KB/s) - ‘../datasets/german.data.1’ saved [79793]\n",
            "\n",
            "--2025-02-22 07:34:50--  https://archive.ics.uci.edu/ml/machine-learning-databases/nursery/nursery.data\n",
            "Resolving archive.ics.uci.edu (archive.ics.uci.edu)... 128.195.10.252\n",
            "Connecting to archive.ics.uci.edu (archive.ics.uci.edu)|128.195.10.252|:443... connected.\n",
            "HTTP request sent, awaiting response... 200 OK\n",
            "Length: unspecified\n",
            "Saving to: ‘../datasets/nursery.data.1’\n",
            "\n",
            "nursery.data.1          [    <=>             ]   1.01M  1.47MB/s    in 0.7s    \n",
            "\n",
            "2025-02-22 07:34:53 (1.47 MB/s) - ‘../datasets/nursery.data.1’ saved [1059371]\n",
            "\n"
          ]
        }
      ]
    },
    {
      "cell_type": "code",
      "source": [
        "!pip install ai-privacy-toolkit"
      ],
      "metadata": {
        "colab": {
          "base_uri": "https://localhost:8080/"
        },
        "id": "cDarEw7vjL7W",
        "outputId": "cc340ec7-c8af-4613-87c4-da43fa60875d"
      },
      "execution_count": null,
      "outputs": [
        {
          "output_type": "stream",
          "name": "stdout",
          "text": [
            "Requirement already satisfied: ai-privacy-toolkit in /usr/local/lib/python3.11/dist-packages (0.2.1)\n"
          ]
        }
      ]
    },
    {
      "cell_type": "code",
      "source": [
        "!pip install adversarial-robustness-toolbox"
      ],
      "metadata": {
        "colab": {
          "base_uri": "https://localhost:8080/"
        },
        "id": "I_JQCV7otR1K",
        "outputId": "68a6a0eb-efc9-433c-cec3-6adc9644776d"
      },
      "execution_count": null,
      "outputs": [
        {
          "output_type": "stream",
          "name": "stdout",
          "text": [
            "Requirement already satisfied: adversarial-robustness-toolbox in /usr/local/lib/python3.11/dist-packages (1.19.1)\n",
            "Requirement already satisfied: numpy>=1.18.0 in /usr/local/lib/python3.11/dist-packages (from adversarial-robustness-toolbox) (1.26.4)\n",
            "Requirement already satisfied: scipy>=1.4.1 in /usr/local/lib/python3.11/dist-packages (from adversarial-robustness-toolbox) (1.13.1)\n",
            "Requirement already satisfied: scikit-learn>=0.22.2 in /usr/local/lib/python3.11/dist-packages (from adversarial-robustness-toolbox) (1.6.1)\n",
            "Requirement already satisfied: six in /usr/local/lib/python3.11/dist-packages (from adversarial-robustness-toolbox) (1.17.0)\n",
            "Requirement already satisfied: setuptools in /usr/local/lib/python3.11/dist-packages (from adversarial-robustness-toolbox) (75.1.0)\n",
            "Requirement already satisfied: tqdm in /usr/local/lib/python3.11/dist-packages (from adversarial-robustness-toolbox) (4.67.1)\n",
            "Requirement already satisfied: joblib>=1.2.0 in /usr/local/lib/python3.11/dist-packages (from scikit-learn>=0.22.2->adversarial-robustness-toolbox) (1.4.2)\n",
            "Requirement already satisfied: threadpoolctl>=3.1.0 in /usr/local/lib/python3.11/dist-packages (from scikit-learn>=0.22.2->adversarial-robustness-toolbox) (3.5.0)\n"
          ]
        }
      ]
    },
    {
      "cell_type": "code",
      "source": [
        "import os\n",
        "import numpy as np\n",
        "import pandas as pd\n",
        "from sklearn.model_selection import train_test_split\n",
        "from sklearn.preprocessing import OneHotEncoder\n",
        "from sklearn.compose import ColumnTransformer\n",
        "from sklearn.pipeline import Pipeline\n",
        "from sklearn.impute import SimpleImputer\n",
        "from sklearn.tree import DecisionTreeClassifier\n",
        "from art.estimators.classification.scikitlearn import ScikitlearnDecisionTreeClassifier\n",
        "from art.attacks.inference.attribute_inference import AttributeInferenceBlackBox, AttributeInferenceWhiteBoxDecisionTree\n",
        "\n",
        "# Ensure dataset directory exists\n",
        "os.makedirs(\"../datasets\", exist_ok=True)\n",
        "\n",
        "# Download dataset\n",
        "nursery_url = \"https://archive.ics.uci.edu/ml/machine-learning-databases/nursery/nursery.data\"\n",
        "nursery_path = \"../datasets/nursery.data\"\n",
        "if not os.path.exists(nursery_path):\n",
        "    os.system(f\"wget -P ../datasets {nursery_url}\")\n",
        "\n",
        "# Define column names based on dataset documentation\n",
        "columns = [\"parents\", \"has_nurs\", \"form\", \"children\", \"housing\", \"finance\", \"social\", \"health\", \"class\"]\n",
        "\n",
        "# Load dataset\n",
        "nursery_data = pd.read_csv(nursery_path, names=columns, header=None)\n",
        "\n",
        "# Encode categorical features\n",
        "x = nursery_data.drop(columns=[\"class\"])\n",
        "y = nursery_data[\"class\"]\n",
        "\n",
        "categorical_features = x.columns.tolist()\n",
        "categorical_transformer = OneHotEncoder(handle_unknown=\"ignore\", sparse_output=False)\n",
        "preprocessor = ColumnTransformer(\n",
        "    transformers=[(\"cat\", categorical_transformer, categorical_features)]\n",
        ")\n",
        "\n",
        "# Transform dataset\n",
        "x_encoded = preprocessor.fit_transform(x)\n",
        "\n",
        "# Encode labels\n",
        "label_mapping = {label: idx for idx, label in enumerate(y.unique())}\n",
        "y_encoded = y.map(label_mapping).values\n",
        "\n",
        "# Train-test split\n",
        "x_train, x_test, y_train, y_test = train_test_split(x_encoded, y_encoded, test_size=0.2, stratify=y_encoded, random_state=42)\n",
        "\n",
        "y_train = y_train.astype(int)\n",
        "y_test = y_test.astype(int)\n",
        "\n",
        "print(f'Final Train Set: {x_train.shape}, Test Set: {x_test.shape}')\n"
      ],
      "metadata": {
        "colab": {
          "base_uri": "https://localhost:8080/"
        },
        "id": "CpvfXs8nu6d5",
        "outputId": "bf557f2a-3e25-4a07-b3c8-4335f33a1f39"
      },
      "execution_count": null,
      "outputs": [
        {
          "output_type": "stream",
          "name": "stdout",
          "text": [
            "Final Train Set: (10368, 27), Test Set: (2592, 27)\n"
          ]
        }
      ]
    },
    {
      "cell_type": "markdown",
      "metadata": {
        "id": "_mTVIlQcq-dW"
      },
      "source": [
        "## Train decision tree model"
      ]
    },
    {
      "cell_type": "code",
      "source": [
        "# Train the Decision Tree Model\n",
        "model = DecisionTreeClassifier()\n",
        "model.fit(x_train, y_train)  # Use the already one-hot encoded x_train\n",
        "\n",
        "# Wrap model with ART\n",
        "art_classifier = ScikitlearnDecisionTreeClassifier(model)\n",
        "\n",
        "# Evaluate model\n",
        "accuracy = model.score(x_test, y_test)  # Use already one-hot encoded x_test\n",
        "print(f'Base model accuracy: {accuracy:.4f}')\n"
      ],
      "metadata": {
        "colab": {
          "base_uri": "https://localhost:8080/"
        },
        "id": "SlUYlQ_yxgmQ",
        "outputId": "4e753823-c828-4a4f-daa7-6052456394a2"
      },
      "execution_count": null,
      "outputs": [
        {
          "output_type": "stream",
          "name": "stdout",
          "text": [
            "Base model accuracy: 0.9973\n"
          ]
        }
      ]
    },
    {
      "cell_type": "code",
      "execution_count": null,
      "metadata": {
        "id": "WEa744Riq-dX"
      },
      "outputs": [],
      "source": [
        "# import pandas as pd\n",
        "\n",
        "# Convert x_train and x_test back to DataFrames before encoding\n",
        "# x_train_df = pd.DataFrame(x_train, columns=nursery_data.drop(columns=[\"class\"]).columns)\n",
        "#x_test_df = pd.DataFrame(x_test, columns=nursery_data.drop(columns=[\"class\"]).columns)\n",
        "\n",
        "# Define categorical and numerical features\n",
        "#numeric_features = ['social']\n",
        "#categorical_features = ['children', 'parents', 'has_nurs', 'form', 'housing', 'finance', 'health']\n",
        "\n",
        "# Define transformations\n",
        "#numeric_transformer = Pipeline(steps=[('imputer', SimpleImputer(strategy='constant', fill_value=0))])\n",
        "#categorical_transformer = OneHotEncoder(handle_unknown=\"ignore\", sparse_output=False)\n",
        "\n",
        "#preprocessor = ColumnTransformer(\n",
        " #   transformers=[\n",
        "  #      (\"num\", numeric_transformer, numeric_features),\n",
        "   #     (\"cat\", categorical_transformer, categorical_features),\n",
        "    #]\n",
        "#)\n",
        "\n",
        "# **Fit and transform x_train, but also get feature names from OneHotEncoder**\n",
        "#train_encoded = preprocessor.fit_transform(x_train_df)\n",
        "#test_encoded = preprocessor.transform(x_test_df)\n",
        "\n",
        "# Extract correct feature names after transformation\n",
        "#feature_names = (\n",
        " #   preprocessor.named_transformers_[\"cat\"].get_feature_names_out(categorical_features).tolist()\n",
        "#)\n",
        "#feature_names = numeric_features + feature_names  # Combine numeric + encoded categorical features\n",
        "\n",
        "# Convert to DataFrame with correct feature names\n",
        "#train_encoded_df = pd.DataFrame(train_encoded, columns=feature_names)\n",
        "#test_encoded_df = pd.DataFrame(test_encoded, columns=feature_names)\n",
        "\n",
        "# Train the Decision Tree Model\n",
        "# Train the Decision Tree Model\n",
        "#model = DecisionTreeClassifier()\n",
        "#model.fit(x_train, y_train)  # Use already-encoded x_train\n",
        "\n",
        "# Wrap model with ART\n",
        "#art_classifier = ScikitlearnDecisionTreeClassifier(model)\n",
        "\n",
        "# Evaluate model\n",
        "#accuracy = model.score(x_test, y_test)  # Use already-encoded x_test\n",
        "#print(f'Base model accuracy: {accuracy:.4f}')\n",
        "\n"
      ]
    },
    {
      "cell_type": "markdown",
      "metadata": {
        "id": "6_NGYHFmq-dX"
      },
      "source": [
        "## Attack\n",
        "### Black-box attack\n",
        "The black-box attack basically trains an additional classifier (called the attack model) to predict the attacked feature's value from the remaining n-1 features as well as the original (attacked) model's predictions.\n",
        "#### Train attack model"
      ]
    },
    {
      "cell_type": "code",
      "execution_count": null,
      "metadata": {
        "colab": {
          "base_uri": "https://localhost:8080/"
        },
        "id": "ezsVTMDaq-dY",
        "outputId": "33349bf5-4fdd-4fa0-df56-cdf82473553c"
      },
      "outputs": [
        {
          "output_type": "stream",
          "name": "stderr",
          "text": [
            "/usr/local/lib/python3.11/dist-packages/torch/nn/modules/module.py:1736: UserWarning: Implicit dimension choice for softmax has been deprecated. Change the call to include dim=X as an argument.\n",
            "  return self._call_impl(*args, **kwargs)\n"
          ]
        },
        {
          "output_type": "stream",
          "name": "stdout",
          "text": [
            "Black-Box Attack Model Trained ✅\n"
          ]
        }
      ],
      "source": [
        "import numpy as np\n",
        "from art.attacks.inference.attribute_inference import AttributeInferenceBlackBox\n",
        "\n",
        "# Select the attacked feature (index 0 corresponds to 'social' after encoding)\n",
        "attack_feature = 0\n",
        "\n",
        "# Create training data **without** the attacked feature\n",
        "x_train_for_attack = np.delete(x_train, attack_feature, axis=1)  # Remove the targeted feature\n",
        "\n",
        "# Isolate the attacked feature\n",
        "x_train_feature = x_train[:, attack_feature].reshape(-1, 1)\n",
        "\n",
        "# Initialize the Black-Box Attack\n",
        "bb_attack = AttributeInferenceBlackBox(art_classifier, attack_feature=attack_feature)\n",
        "\n",
        "# Get original model's predictions\n",
        "x_train_predictions = np.array([np.argmax(arr) for arr in art_classifier.predict(x_train)]).reshape(-1, 1)\n",
        "\n",
        "# Use 50% of the training set to train the attack model\n",
        "attack_train_ratio = 0.5\n",
        "attack_train_size = int(len(x_train) * attack_train_ratio)\n",
        "\n",
        "# Train the attack model\n",
        "bb_attack.fit(x_train[:attack_train_size])\n",
        "\n",
        "print(\"Black-Box Attack Model Trained ✅\")\n"
      ]
    },
    {
      "cell_type": "markdown",
      "metadata": {
        "id": "0LC99Et7q-dY"
      },
      "source": [
        "#### Infer sensitive feature and check accuracy"
      ]
    },
    {
      "cell_type": "code",
      "execution_count": null,
      "metadata": {
        "colab": {
          "base_uri": "https://localhost:8080/"
        },
        "id": "YW-Oxlrcq-dZ",
        "outputId": "44c1dc28-1ff6-407e-b1ea-8b352a275e0c"
      },
      "outputs": [
        {
          "output_type": "stream",
          "name": "stdout",
          "text": [
            "Black-Box Attack Accuracy: 1.0000\n"
          ]
        },
        {
          "output_type": "stream",
          "name": "stderr",
          "text": [
            "/usr/local/lib/python3.11/dist-packages/torch/nn/modules/module.py:1736: UserWarning: Implicit dimension choice for softmax has been deprecated. Change the call to include dim=X as an argument.\n",
            "  return self._call_impl(*args, **kwargs)\n"
          ]
        }
      ],
      "source": [
        "# Get inferred values for the remaining 50% of the dataset\n",
        "values = [0, 1]  # Binary classification for 'social'\n",
        "\n",
        "inferred_train_bb = bb_attack.infer(\n",
        "    x_train_for_attack[attack_train_size:],  # Use the remaining dataset\n",
        "    pred=x_train_predictions[attack_train_size:],  # Use original model's predictions\n",
        "    values=values\n",
        ")\n",
        "\n",
        "# Calculate accuracy\n",
        "train_acc = np.sum(\n",
        "    inferred_train_bb == np.around(x_train_feature[attack_train_size:], decimals=8).reshape(1, -1)\n",
        ") / len(inferred_train_bb)\n",
        "\n",
        "print(f\"Black-Box Attack Accuracy: {train_acc:.4f}\")\n"
      ]
    },
    {
      "cell_type": "markdown",
      "metadata": {
        "id": "mCBq-NWtq-dZ"
      },
      "source": [
        "This means that for 60% of the training set, the attacked feature is inferred correctly using this attack."
      ]
    },
    {
      "cell_type": "markdown",
      "metadata": {
        "id": "tdVktoHyq-dZ"
      },
      "source": [
        "## Whitebox attack\n",
        "This attack does not train any additional model, it simply uses additional information coded within the attacked decision tree model to compute the probability of each value of the attacked feature and outputs the value with the highest probability."
      ]
    },
    {
      "cell_type": "code",
      "execution_count": null,
      "metadata": {
        "colab": {
          "base_uri": "https://localhost:8080/"
        },
        "id": "6BFKmiwzq-dZ",
        "outputId": "e02d6b49-2e00-4e77-96c5-ab0194f4827b"
      },
      "outputs": [
        {
          "output_type": "stream",
          "name": "stdout",
          "text": [
            "0.7336998456790124\n"
          ]
        }
      ],
      "source": [
        "from art.attacks.inference.attribute_inference import AttributeInferenceWhiteBoxDecisionTree\n",
        "\n",
        "priors = [6925 / 10366, 3441 / 10366]\n",
        "\n",
        "wb2_attack = AttributeInferenceWhiteBoxDecisionTree(art_classifier, attack_feature=attack_feature)\n",
        "\n",
        "# get inferred values\n",
        "inferred_train_wb2 = wb2_attack.infer(x_train_for_attack, x_train_predictions, values=values, priors=priors)\n",
        "\n",
        "# check accuracy\n",
        "train_acc = np.sum(inferred_train_wb2 == np.around(x_train_feature, decimals=8).reshape(1,-1)) / len(inferred_train_wb2)\n",
        "print(train_acc)"
      ]
    },
    {
      "cell_type": "markdown",
      "metadata": {
        "id": "yYyBM_v_q-da"
      },
      "source": [
        "The white-box attack is able to correctly infer the attacked feature value in 69% of the training set."
      ]
    },
    {
      "cell_type": "markdown",
      "metadata": {
        "id": "-QGdA8NXq-da"
      },
      "source": [
        "# Anonymized data\n",
        "## k=100\n",
        "\n",
        "Now we will apply the same attacks on an anonymized version of the same dataset (k=100). The data is anonymized on the quasi-identifiers: finance, social, health.\n",
        "\n",
        "k=100 means that each record in the anonymized dataset is identical to 99 others on the quasi-identifier values (i.e., when looking only at those 3 feature, the records are indistinguishable)."
      ]
    },
    {
      "cell_type": "code",
      "source": [
        "!pip install ai-privacy-toolkit"
      ],
      "metadata": {
        "colab": {
          "base_uri": "https://localhost:8080/"
        },
        "id": "Xfcog3Ms9utw",
        "outputId": "da49eb26-154a-4bf1-b95a-04bf2fb0a060"
      },
      "execution_count": null,
      "outputs": [
        {
          "output_type": "stream",
          "name": "stdout",
          "text": [
            "Requirement already satisfied: ai-privacy-toolkit in /usr/local/lib/python3.11/dist-packages (0.2.1)\n"
          ]
        }
      ]
    },
    {
      "cell_type": "code",
      "source": [
        "print(\"🔹 First 5 rows of the original dataset:\")\n",
        "print(nursery_data.head())\n",
        "\n",
        "print(\"\\n🔹 Column names in the original dataset:\")\n",
        "print(nursery_data.columns)\n"
      ],
      "metadata": {
        "colab": {
          "base_uri": "https://localhost:8080/"
        },
        "id": "xp8rH13xAoNe",
        "outputId": "bacd6111-42a6-46ed-f006-4b62a906646b"
      },
      "execution_count": null,
      "outputs": [
        {
          "output_type": "stream",
          "name": "stdout",
          "text": [
            "🔹 First 5 rows of the original dataset:\n",
            "  parents has_nurs      form children     housing     finance         social  \\\n",
            "0   usual   proper  complete        1  convenient  convenient        nonprob   \n",
            "1   usual   proper  complete        1  convenient  convenient        nonprob   \n",
            "2   usual   proper  complete        1  convenient  convenient        nonprob   \n",
            "3   usual   proper  complete        1  convenient  convenient  slightly_prob   \n",
            "4   usual   proper  complete        1  convenient  convenient  slightly_prob   \n",
            "\n",
            "        health      class  \n",
            "0  recommended  recommend  \n",
            "1     priority   priority  \n",
            "2    not_recom  not_recom  \n",
            "3  recommended  recommend  \n",
            "4     priority   priority  \n",
            "\n",
            "🔹 Column names in the original dataset:\n",
            "Index(['parents', 'has_nurs', 'form', 'children', 'housing', 'finance',\n",
            "       'social', 'health', 'class'],\n",
            "      dtype='object')\n"
          ]
        }
      ]
    },
    {
      "cell_type": "code",
      "source": [
        "for col in [\"parents\", \"has_nurs\", \"form\", \"children\", \"housing\", \"finance\", \"social\", \"health\"]:\n",
        "    print(f\"\\nUnique values in {col}: {nursery_data[col].unique()}\")\n"
      ],
      "metadata": {
        "colab": {
          "base_uri": "https://localhost:8080/"
        },
        "id": "7zkD3hRKAy-W",
        "outputId": "83eab7c6-5bc2-4b67-df33-8a3830fbe501"
      },
      "execution_count": null,
      "outputs": [
        {
          "output_type": "stream",
          "name": "stdout",
          "text": [
            "\n",
            "Unique values in parents: ['usual' 'pretentious' 'great_pret']\n",
            "\n",
            "Unique values in has_nurs: ['proper' 'less_proper' 'improper' 'critical' 'very_crit']\n",
            "\n",
            "Unique values in form: ['complete' 'completed' 'incomplete' 'foster']\n",
            "\n",
            "Unique values in children: ['1' '2' '3' 'more']\n",
            "\n",
            "Unique values in housing: ['convenient' 'less_conv' 'critical']\n",
            "\n",
            "Unique values in finance: ['convenient' 'inconv']\n",
            "\n",
            "Unique values in social: ['nonprob' 'slightly_prob' 'problematic']\n",
            "\n",
            "Unique values in health: ['recommended' 'priority' 'not_recom']\n"
          ]
        }
      ]
    },
    {
      "cell_type": "code",
      "source": [
        "# Get transformed feature names after One-Hot Encoding\n",
        "encoded_feature_names = preprocessor.named_transformers_[\"cat\"].get_feature_names_out(input_features=categorical_features).tolist()\n",
        "\n",
        "print(\"\\nTransformed Feature Names After One-Hot Encoding:\")\n",
        "print(encoded_feature_names[:10])  # Print first 10 feature names\n",
        "\n",
        "# Check how \"finance\", \"social\", and \"health\" transformed\n",
        "for col in [\"finance\", \"social\", \"health\"]:\n",
        "    matches = [name for name in encoded_feature_names if col in name]\n",
        "    print(f\"{col} transformed into: {matches}\")\n"
      ],
      "metadata": {
        "colab": {
          "base_uri": "https://localhost:8080/"
        },
        "id": "TefFTT1HA3Hv",
        "outputId": "2e7fe00f-1dc7-40c9-e780-21b87f21221d"
      },
      "execution_count": null,
      "outputs": [
        {
          "output_type": "stream",
          "name": "stdout",
          "text": [
            "\n",
            "Transformed Feature Names After One-Hot Encoding:\n",
            "['parents_great_pret', 'parents_pretentious', 'parents_usual', 'has_nurs_critical', 'has_nurs_improper', 'has_nurs_less_proper', 'has_nurs_proper', 'has_nurs_very_crit', 'form_complete', 'form_completed']\n",
            "finance transformed into: ['finance_convenient', 'finance_inconv']\n",
            "social transformed into: ['social_nonprob', 'social_problematic', 'social_slightly_prob']\n",
            "health transformed into: ['health_not_recom', 'health_priority', 'health_recommended']\n"
          ]
        }
      ]
    },
    {
      "cell_type": "code",
      "source": [
        "# Convert transformed data into DataFrame\n",
        "x_train_df = pd.DataFrame(x_train, columns=encoded_feature_names)\n",
        "\n",
        "print(\"\\n🔹 First 5 rows of One-Hot Encoded Data:\")\n",
        "print(x_train_df.head())\n"
      ],
      "metadata": {
        "colab": {
          "base_uri": "https://localhost:8080/"
        },
        "id": "bICV7UUUA85w",
        "outputId": "ebf0c0b9-c1b7-4975-878a-62e61b50309d"
      },
      "execution_count": null,
      "outputs": [
        {
          "output_type": "stream",
          "name": "stdout",
          "text": [
            "\n",
            "🔹 First 5 rows of One-Hot Encoded Data:\n",
            "   parents_great_pret  parents_pretentious  parents_usual  has_nurs_critical  \\\n",
            "0                 0.0                  1.0            0.0                0.0   \n",
            "1                 0.0                  1.0            0.0                0.0   \n",
            "2                 0.0                  1.0            0.0                0.0   \n",
            "3                 0.0                  1.0            0.0                1.0   \n",
            "4                 1.0                  0.0            0.0                1.0   \n",
            "\n",
            "   has_nurs_improper  has_nurs_less_proper  has_nurs_proper  \\\n",
            "0                0.0                   0.0              1.0   \n",
            "1                0.0                   0.0              0.0   \n",
            "2                1.0                   0.0              0.0   \n",
            "3                0.0                   0.0              0.0   \n",
            "4                0.0                   0.0              0.0   \n",
            "\n",
            "   has_nurs_very_crit  form_complete  form_completed  ...  housing_critical  \\\n",
            "0                 0.0            0.0             0.0  ...               0.0   \n",
            "1                 1.0            1.0             0.0  ...               0.0   \n",
            "2                 0.0            1.0             0.0  ...               0.0   \n",
            "3                 0.0            0.0             1.0  ...               1.0   \n",
            "4                 0.0            0.0             1.0  ...               0.0   \n",
            "\n",
            "   housing_less_conv  finance_convenient  finance_inconv  social_nonprob  \\\n",
            "0                1.0                 0.0             1.0             1.0   \n",
            "1                0.0                 1.0             0.0             0.0   \n",
            "2                1.0                 0.0             1.0             0.0   \n",
            "3                0.0                 1.0             0.0             0.0   \n",
            "4                0.0                 1.0             0.0             1.0   \n",
            "\n",
            "   social_problematic  social_slightly_prob  health_not_recom  \\\n",
            "0                 0.0                   0.0               1.0   \n",
            "1                 0.0                   1.0               1.0   \n",
            "2                 0.0                   1.0               0.0   \n",
            "3                 0.0                   1.0               0.0   \n",
            "4                 0.0                   0.0               0.0   \n",
            "\n",
            "   health_priority  health_recommended  \n",
            "0              0.0                 0.0  \n",
            "1              0.0                 0.0  \n",
            "2              0.0                 1.0  \n",
            "3              1.0                 0.0  \n",
            "4              0.0                 1.0  \n",
            "\n",
            "[5 rows x 27 columns]\n"
          ]
        }
      ]
    },
    {
      "cell_type": "code",
      "source": [
        "print(\"Transformed feature names:\", x_train_df.columns.tolist())\n"
      ],
      "metadata": {
        "colab": {
          "base_uri": "https://localhost:8080/"
        },
        "id": "yOmYwt8OBRY-",
        "outputId": "64a7d4e7-cb57-4b02-d1ea-2c8ebc751492"
      },
      "execution_count": null,
      "outputs": [
        {
          "output_type": "stream",
          "name": "stdout",
          "text": [
            "Transformed feature names: ['parents_great_pret', 'parents_pretentious', 'parents_usual', 'has_nurs_critical', 'has_nurs_improper', 'has_nurs_less_proper', 'has_nurs_proper', 'has_nurs_very_crit', 'form_complete', 'form_completed', 'form_foster', 'form_incomplete', 'children_1', 'children_2', 'children_3', 'children_more', 'housing_convenient', 'housing_critical', 'housing_less_conv', 'finance_convenient', 'finance_inconv', 'social_nonprob', 'social_problematic', 'social_slightly_prob', 'health_not_recom', 'health_priority', 'health_recommended']\n"
          ]
        }
      ]
    },
    {
      "cell_type": "code",
      "source": [
        "dataset = ArrayDataset(x_train, x_train_predictions)\n",
        "print(\"Feature Names in ArrayDataset:\", dataset.features_names)\n"
      ],
      "metadata": {
        "colab": {
          "base_uri": "https://localhost:8080/"
        },
        "id": "PSa_E_ESmh3k",
        "outputId": "fdd0dce9-ff45-4035-b186-fa511d580c46"
      },
      "execution_count": null,
      "outputs": [
        {
          "output_type": "stream",
          "name": "stdout",
          "text": [
            "Feature Names in ArrayDataset: None\n"
          ]
        }
      ]
    },
    {
      "cell_type": "code",
      "source": [
        "x_train_named = pd.DataFrame(x_train, columns=x_train_df.columns)\n",
        "dataset = ArrayDataset(x_train_named.to_numpy(), x_train_predictions)\n"
      ],
      "metadata": {
        "id": "bYD4zWjUm-LG"
      },
      "execution_count": null,
      "outputs": []
    },
    {
      "cell_type": "code",
      "source": [
        "QI_indices = [x_train_named.columns.get_loc(col) for col in QI]  # Get index positions of QI\n",
        "print(\"Quasi-Identifier Indices:\", QI_indices)\n"
      ],
      "metadata": {
        "colab": {
          "base_uri": "https://localhost:8080/"
        },
        "id": "XSVujopdnA19",
        "outputId": "9b24672a-ecb7-4ae8-ee74-8651df45528f"
      },
      "execution_count": null,
      "outputs": [
        {
          "output_type": "stream",
          "name": "stdout",
          "text": [
            "Quasi-Identifier Indices: [19, 20, 21, 22, 23, 24, 25, 26]\n"
          ]
        }
      ]
    },
    {
      "cell_type": "code",
      "source": [
        "# Extract transformed feature names after One-Hot Encoding\n",
        "categorical_feature_names = preprocessor.named_transformers_[\"cat\"].get_feature_names_out(categorical_features)\n",
        "categorical_feature_names = list(categorical_feature_names)  # Convert to list for easier access\n",
        "print(\"Updated Categorical Feature Names:\", categorical_feature_names)\n"
      ],
      "metadata": {
        "colab": {
          "base_uri": "https://localhost:8080/"
        },
        "id": "WpEuiO2knDjV",
        "outputId": "d1add44e-eef8-4bba-bf6d-1903ed827d72"
      },
      "execution_count": null,
      "outputs": [
        {
          "output_type": "stream",
          "name": "stdout",
          "text": [
            "Updated Categorical Feature Names: ['parents_great_pret', 'parents_pretentious', 'parents_usual', 'has_nurs_critical', 'has_nurs_improper', 'has_nurs_less_proper', 'has_nurs_proper', 'has_nurs_very_crit', 'form_complete', 'form_completed', 'form_foster', 'form_incomplete', 'children_1', 'children_2', 'children_3', 'children_more', 'housing_convenient', 'housing_critical', 'housing_less_conv', 'finance_convenient', 'finance_inconv', 'social_nonprob', 'social_problematic', 'social_slightly_prob', 'health_not_recom', 'health_priority', 'health_recommended']\n"
          ]
        }
      ]
    },
    {
      "cell_type": "code",
      "source": [
        "categorical_feature_indices = [x_train_named.columns.get_loc(col) for col in categorical_feature_names]\n",
        "print(\"Categorical Feature Indices:\", categorical_feature_indices)\n"
      ],
      "metadata": {
        "colab": {
          "base_uri": "https://localhost:8080/"
        },
        "id": "f6uhEZTgniqz",
        "outputId": "89625362-3fff-4faf-8083-ad95a3b1f3d4"
      },
      "execution_count": null,
      "outputs": [
        {
          "output_type": "stream",
          "name": "stdout",
          "text": [
            "Categorical Feature Indices: [0, 1, 2, 3, 4, 5, 6, 7, 8, 9, 10, 11, 12, 13, 14, 15, 16, 17, 18, 19, 20, 21, 22, 23, 24, 25, 26]\n"
          ]
        }
      ]
    },
    {
      "cell_type": "code",
      "source": [
        "anonymizer = Anonymize(100, QI_indices, categorical_features=categorical_feature_indices)\n",
        "anon = anonymizer.anonymize(dataset)\n"
      ],
      "metadata": {
        "id": "OrFEnvCknmLr"
      },
      "execution_count": null,
      "outputs": []
    },
    {
      "cell_type": "code",
      "source": [
        "print(\"🔹 First 5 rows of Anonymized Data:\")\n",
        "print(pd.DataFrame(anon, columns=x_train_named.columns).head())\n"
      ],
      "metadata": {
        "colab": {
          "base_uri": "https://localhost:8080/"
        },
        "id": "mLPyfZA0nwSg",
        "outputId": "ea453230-43d5-487e-e2d7-6a48fe83958b"
      },
      "execution_count": null,
      "outputs": [
        {
          "output_type": "stream",
          "name": "stdout",
          "text": [
            "🔹 First 5 rows of Anonymized Data:\n",
            "   parents_great_pret  parents_pretentious  parents_usual  has_nurs_critical  \\\n",
            "0                 0.0                  1.0            0.0                0.0   \n",
            "1                 0.0                  1.0            0.0                0.0   \n",
            "2                 0.0                  1.0            0.0                0.0   \n",
            "3                 0.0                  1.0            0.0                1.0   \n",
            "4                 1.0                  0.0            0.0                1.0   \n",
            "\n",
            "   has_nurs_improper  has_nurs_less_proper  has_nurs_proper  \\\n",
            "0                0.0                   0.0              1.0   \n",
            "1                0.0                   0.0              0.0   \n",
            "2                1.0                   0.0              0.0   \n",
            "3                0.0                   0.0              0.0   \n",
            "4                0.0                   0.0              0.0   \n",
            "\n",
            "   has_nurs_very_crit  form_complete  form_completed  ...  housing_critical  \\\n",
            "0                 0.0            0.0             0.0  ...               0.0   \n",
            "1                 1.0            1.0             0.0  ...               0.0   \n",
            "2                 0.0            1.0             0.0  ...               0.0   \n",
            "3                 0.0            0.0             1.0  ...               1.0   \n",
            "4                 0.0            0.0             1.0  ...               0.0   \n",
            "\n",
            "   housing_less_conv  finance_convenient  finance_inconv  social_nonprob  \\\n",
            "0                1.0                 0.0             1.0             0.0   \n",
            "1                0.0                 0.0             1.0             0.0   \n",
            "2                1.0                 0.0             1.0             0.0   \n",
            "3                0.0                 0.0             1.0             0.0   \n",
            "4                0.0                 0.0             1.0             0.0   \n",
            "\n",
            "   social_problematic  social_slightly_prob  health_not_recom  \\\n",
            "0                 0.0                   0.0               1.0   \n",
            "1                 0.0                   0.0               1.0   \n",
            "2                 0.0                   0.0               0.0   \n",
            "3                 0.0                   0.0               0.0   \n",
            "4                 0.0                   1.0               0.0   \n",
            "\n",
            "   health_priority  health_recommended  \n",
            "0              0.0                 0.0  \n",
            "1              0.0                 0.0  \n",
            "2              0.0                 1.0  \n",
            "3              1.0                 0.0  \n",
            "4              0.0                 1.0  \n",
            "\n",
            "[5 rows x 27 columns]\n"
          ]
        }
      ]
    },
    {
      "cell_type": "code",
      "source": [
        "print(\"Distinct Rows in Original Data:\", len(pd.DataFrame(x_train_named).drop_duplicates()))\n",
        "print(\"Distinct Rows in Anonymized Data:\", len(pd.DataFrame(anon, columns=x_train_named.columns).drop_duplicates()))\n"
      ],
      "metadata": {
        "colab": {
          "base_uri": "https://localhost:8080/"
        },
        "id": "6Pqsdyg5n1-i",
        "outputId": "031af5fc-accd-4ed4-a554-254c2c4fe4ac"
      },
      "execution_count": null,
      "outputs": [
        {
          "output_type": "stream",
          "name": "stdout",
          "text": [
            "Distinct Rows in Original Data: 10368\n",
            "Distinct Rows in Anonymized Data: 3160\n"
          ]
        }
      ]
    },
    {
      "cell_type": "code",
      "source": [
        "# Convert anonymized data to DataFrame with correct column names\n",
        "anon_df = pd.DataFrame(anon, columns=x_train_named.columns)\n",
        "anon_encoded = anon_df.to_numpy()  # ✅ Use directly as NumPy array\n",
        "\n",
        "# Train a new Decision Tree model\n",
        "anon_model = DecisionTreeClassifier()\n",
        "anon_model.fit(anon_encoded, y_train)\n",
        "\n",
        "# Wrap with ART\n",
        "anon_art_classifier = ScikitlearnDecisionTreeClassifier(anon_model)\n",
        "\n",
        "# ✅ Ensure x_test has the same structure as anon_df\n",
        "x_test_df = pd.DataFrame(x_test, columns=x_train_named.columns)\n",
        "x_test_encoded = x_test_df.to_numpy()  # Convert test set to same format\n",
        "\n",
        "# ✅ Evaluate on correctly formatted x_test\n",
        "anon_accuracy = anon_model.score(x_test_encoded, y_test)\n",
        "print(\"📌 Anonymized Model Accuracy:\", round(anon_accuracy, 4))\n"
      ],
      "metadata": {
        "colab": {
          "base_uri": "https://localhost:8080/"
        },
        "id": "lzyRXamzn8ZW",
        "outputId": "2139e271-d4ce-427a-c81d-5f4a9fce3742"
      },
      "execution_count": null,
      "outputs": [
        {
          "output_type": "stream",
          "name": "stdout",
          "text": [
            "📌 Anonymized Model Accuracy: 0.8326\n"
          ]
        }
      ]
    },
    {
      "cell_type": "code",
      "execution_count": null,
      "metadata": {
        "colab": {
          "base_uri": "https://localhost:8080/"
        },
        "id": "0eUHYF-nq-da",
        "outputId": "3974ccb8-6988-419b-ff79-80b2af7745eb"
      },
      "outputs": [
        {
          "output_type": "stream",
          "name": "stdout",
          "text": [
            "Distinct Rows in Original Data: 10368\n"
          ]
        }
      ],
      "source": [
        "# number of distinct rows in original data\n",
        "x_train_df = pd.DataFrame(x_train, columns=x_train_named.columns)  # Ensure column names\n",
        "print(\"Distinct Rows in Original Data:\", len(x_train_df.drop_duplicates()))\n"
      ]
    },
    {
      "cell_type": "code",
      "execution_count": null,
      "metadata": {
        "colab": {
          "base_uri": "https://localhost:8080/"
        },
        "id": "M0AM8G_Jq-da",
        "outputId": "fd1a4c95-bcac-489b-d9aa-37f3123557dd"
      },
      "outputs": [
        {
          "output_type": "stream",
          "name": "stdout",
          "text": [
            "Distinct Rows in Anonymized Data: 3160\n"
          ]
        }
      ],
      "source": [
        "# number of distinct rows in anonymized data\n",
        "anon_df = pd.DataFrame(anon, columns=x_train_named.columns)  # Ensure column names\n",
        "print(\"Distinct Rows in Anonymized Data:\", len(anon_df.drop_duplicates()))\n"
      ]
    },
    {
      "cell_type": "markdown",
      "metadata": {
        "id": "UBhMEweCq-da"
      },
      "source": [
        "## Train decision tree model"
      ]
    },
    {
      "cell_type": "code",
      "source": [
        "anon_encoded = anon_df.to_numpy()  # Convert back to NumPy for training\n",
        "anon_model = DecisionTreeClassifier()\n",
        "anon_model.fit(anon_encoded, y_train)\n",
        "\n",
        "# Wrap with ART\n",
        "anon_art_classifier = ScikitlearnDecisionTreeClassifier(anon_model)\n",
        "\n",
        "# Evaluate Model\n",
        "anon_accuracy = anon_model.score(x_test_encoded, y_test)\n",
        "print(\"📌 Anonymized Model Accuracy:\", round(anon_accuracy, 4))\n"
      ],
      "metadata": {
        "colab": {
          "base_uri": "https://localhost:8080/"
        },
        "id": "FNLdhLHEssFB",
        "outputId": "761755d3-4e50-4f6e-b6f6-16ca2a331848"
      },
      "execution_count": null,
      "outputs": [
        {
          "output_type": "stream",
          "name": "stdout",
          "text": [
            "📌 Anonymized Model Accuracy: 0.8345\n"
          ]
        }
      ]
    },
    {
      "cell_type": "markdown",
      "metadata": {
        "id": "Iw_MIQT1q-db"
      },
      "source": [
        "## Attack\n",
        "### Black-box attack"
      ]
    },
    {
      "cell_type": "code",
      "source": [
        "# Ensure we are using the correct attack feature\n",
        "attack_feature = 0  # Social feature\n",
        "\n",
        "# Remove the attacked feature from training data\n",
        "x_train_for_attack = np.delete(anon_encoded, attack_feature, axis=1)\n",
        "\n",
        "# Isolate the attacked feature\n",
        "x_train_feature = anon_encoded[:, attack_feature].copy().reshape(-1, 1)\n",
        "\n",
        "# Initialize the Black-Box Attack\n",
        "anon_bb_attack = AttributeInferenceBlackBox(anon_art_classifier, attack_feature=attack_feature)\n",
        "\n",
        "# Get original model's predictions\n",
        "anon_x_train_predictions = np.array([np.argmax(arr) for arr in anon_art_classifier.predict(anon_encoded)]).reshape(-1, 1)\n",
        "\n",
        "# Use 50% of the training set to train the attack model\n",
        "attack_train_ratio = 0.5\n",
        "attack_train_size = int(len(anon_encoded) * attack_train_ratio)\n",
        "\n",
        "# Train the attack model\n",
        "anon_bb_attack.fit(anon_encoded[:attack_train_size])\n",
        "\n",
        "# Get inferred values\n",
        "inferred_train_anon_bb = anon_bb_attack.infer(\n",
        "    x_train_for_attack[attack_train_size:],\n",
        "    pred=anon_x_train_predictions[attack_train_size:],\n",
        "    values=[0, 1]\n",
        ")\n",
        "\n",
        "# Compute attack accuracy\n",
        "anon_bb_attack_acc = np.sum(\n",
        "    inferred_train_anon_bb == np.around(x_train_feature[attack_train_size:], decimals=8).reshape(1, -1)\n",
        ") / len(inferred_train_anon_bb)\n",
        "\n",
        "print(\"🔴 Black-Box Attack Accuracy After Anonymization:\", round(anon_bb_attack_acc, 4))\n"
      ],
      "metadata": {
        "colab": {
          "base_uri": "https://localhost:8080/"
        },
        "id": "YhYM2avEuC4q",
        "outputId": "45c4603e-4f8b-4020-aa22-8861f7b778ab"
      },
      "execution_count": null,
      "outputs": [
        {
          "output_type": "stream",
          "name": "stderr",
          "text": [
            "/usr/local/lib/python3.11/dist-packages/torch/nn/modules/module.py:1736: UserWarning: Implicit dimension choice for softmax has been deprecated. Change the call to include dim=X as an argument.\n",
            "  return self._call_impl(*args, **kwargs)\n"
          ]
        },
        {
          "output_type": "stream",
          "name": "stdout",
          "text": [
            "🔴 Black-Box Attack Accuracy After Anonymization: 1.0\n"
          ]
        },
        {
          "output_type": "stream",
          "name": "stderr",
          "text": [
            "/usr/local/lib/python3.11/dist-packages/torch/nn/modules/module.py:1736: UserWarning: Implicit dimension choice for softmax has been deprecated. Change the call to include dim=X as an argument.\n",
            "  return self._call_impl(*args, **kwargs)\n"
          ]
        }
      ]
    },
    {
      "cell_type": "code",
      "execution_count": null,
      "metadata": {
        "id": "V-pHd1MCq-db"
      },
      "outputs": [],
      "source": [
        "# training data without attacked feature\n",
        "# x_train_for_attack = np.delete(train_encoded, attack_feature, 1)\n",
        "# only attacked feature#\n",
        "# x_train_feature = train_encoded[:, attack_feature].copy().reshape(-1, 1)\n",
        "\n",
        "# anon_bb_attack = AttributeInferenceBlackBox(anon_art_classifier, attack_feature=attack_feature)\n",
        "\n",
        "# get original model's predictions\n",
        "#anon_x_train_predictions = np.array([np.argmax(arr) for arr in anon_art_classifier.predict(train_encoded)]).reshape(-1,1)\n",
        "\n",
        "# train attack model\n",
        "#anon_bb_attack.fit(train_encoded[:attack_train_size])\n",
        "\n",
        "# get inferred values\n",
        "#inferred_train_anon_bb = anon_bb_attack.infer(x_train_for_attack[attack_train_size:], pred=anon_x_train_predictions[attack_train_size:], values=values)\n",
        "# check accuracy\n",
        "#train_acc = np.sum(inferred_train_anon_bb == np.around(x_train_feature[attack_train_size:], decimals=8).reshape(1,-1)) / len(inferred_train_anon_bb)\n",
        "#print(train_acc)"
      ]
    },
    {
      "cell_type": "code",
      "source": [
        "import pandas as pd\n",
        "import numpy as np\n",
        "\n",
        "# Ensure we are using the correct attack feature index\n",
        "attack_feature = 0  # Change this if 'social' is not at index 0\n",
        "\n",
        "# **Use raw categorical data before encoding**\n",
        "x_train_raw = nursery_data.drop(columns=[\"class\"]).copy()  # Keep original categorical features\n",
        "x_test_raw = x_train_raw.iloc[x_train.shape[0]:].copy()  # Extract test set\n",
        "\n",
        "# **Ensure categorical features are strings before encoding**\n",
        "x_train_raw = x_train_raw.astype(str)\n",
        "x_test_raw = x_test_raw.astype(str)\n",
        "\n",
        "# Ensure preprocessor is properly fitted before transforming\n",
        "preprocessor.fit(x_train_raw)  # Fit on raw categorical data\n",
        "\n",
        "# **Ensure One-Hot Encoding is properly applied before conversion to float**\n",
        "x_train_transformed = preprocessor.transform(x_train_raw)  # One-Hot Encoded dataset\n",
        "x_test_transformed = preprocessor.transform(x_test_raw)\n",
        "\n",
        "# **Convert transformed data into numeric values only if One-Hot Encoding worked**\n",
        "if isinstance(x_train_transformed, np.ndarray):\n",
        "    x_train_transformed = x_train_transformed.astype(float)  # Convert to float\n",
        "    x_test_transformed = x_test_transformed.astype(float)  # Convert to float\n",
        "else:\n",
        "    raise ValueError(\"One-Hot Encoding did not apply properly. Check categorical feature processing.\")\n",
        "\n",
        "# Extract correct feature names after One-Hot Encoding\n",
        "categorical_feature_names = preprocessor.named_transformers_[\"cat\"].get_feature_names_out().tolist()\n",
        "numeric_feature_names = list(numeric_features)  # Ensure numeric features are a proper list\n",
        "\n",
        "# Combine numeric and categorical feature names\n",
        "feature_names = numeric_feature_names + categorical_feature_names\n",
        "\n",
        "# **Convert transformed NumPy array to DataFrame**\n",
        "x_train_transformed_df = pd.DataFrame(x_train_transformed, columns=feature_names)\n",
        "x_test_transformed_df = pd.DataFrame(x_test_transformed, columns=feature_names)\n",
        "\n",
        "# **Fix: Convert `attacked_feature_name` to a single string**\n",
        "attacked_feature_name = feature_names[attack_feature]\n",
        "if isinstance(attacked_feature_name, list):\n",
        "    attacked_feature_name = attacked_feature_name[0]  # Extract first element if it's a list\n",
        "\n",
        "# **Ensure x_train_for_attack is a DataFrame Before Dropping the Feature**\n",
        "x_train_for_attack = x_train_transformed_df.drop(columns=[attacked_feature_name])\n",
        "\n",
        "# **Ensure x_train_feature is a DataFrame Before Extracting Values**\n",
        "x_train_feature = x_train_transformed_df[[attacked_feature_name]].values  # Keep as 2D array\n",
        "\n",
        "# Get inferred values for the remaining 50% of the dataset\n",
        "values = [0, 1]  # Binary classification for 'social'\n",
        "\n",
        "# **Ensure only numerical values are passed to `art_classifier.predict()`**\n",
        "x_train_for_attack_np = x_train_for_attack.iloc[attack_train_size:].to_numpy().astype(float)  # Convert to float\n",
        "\n",
        "inferred_train_bb = bb_attack.infer(\n",
        "    x_train_for_attack_np,  # Ensure numerical input\n",
        "    pred=art_classifier.predict(x_train_transformed_df.iloc[attack_train_size:].to_numpy().astype(float)),  # Ensure numerical input\n",
        "    values=values\n",
        ")\n",
        "\n",
        "# Calculate accuracy correctly\n",
        "train_acc = np.mean(inferred_train_bb == x_train_feature[attack_train_size:].reshape(-1, 1))\n",
        "\n",
        "print(f\"✅ Fixed Black-Box Attack Accuracy: {train_acc:.4f}\")\n"
      ],
      "metadata": {
        "id": "Mdc_7UhK6rNo"
      },
      "execution_count": null,
      "outputs": []
    },
    {
      "cell_type": "code",
      "source": [
        "import pandas as pd\n",
        "\n",
        "# Ensure we are using the correct attack feature index\n",
        "attack_feature = 0  # Change this if 'social' is not at index 0\n",
        "\n",
        "# **Use raw categorical data before encoding**\n",
        "x_train_raw = nursery_data.drop(columns=[\"class\"])  # Keep original categorical features\n",
        "x_test_raw = x_train_raw.iloc[x_train.shape[0]:]  # Extract test set\n",
        "\n",
        "# Ensure preprocessor is properly fitted before transforming\n",
        "preprocessor.fit(x_train_raw)  # Fit on raw categorical data\n",
        "\n",
        "# Get the transformed dataset (ensuring output is numerical)\n",
        "x_train_transformed = preprocessor.transform(x_train_raw).astype(float)  # Convert to float\n",
        "x_test_transformed = preprocessor.transform(x_test_raw).astype(float)  # Convert to float\n",
        "\n",
        "# Extract correct feature names after One-Hot Encoding\n",
        "categorical_feature_names = preprocessor.named_transformers_[\"cat\"].get_feature_names_out().tolist()\n",
        "numeric_feature_names = list(numeric_features)  # Ensure numeric features are a proper list\n",
        "\n",
        "# Combine numeric and categorical feature names\n",
        "feature_names = numeric_feature_names + categorical_feature_names\n",
        "\n",
        "# **Convert transformed NumPy array to DataFrame**\n",
        "x_train_transformed_df = pd.DataFrame(x_train_transformed, columns=feature_names)\n",
        "x_test_transformed_df = pd.DataFrame(x_test_transformed, columns=feature_names)\n",
        "\n",
        "# **Fix: Convert `attacked_feature_name` to a single string**\n",
        "attacked_feature_name = feature_names[attack_feature]\n",
        "if isinstance(attacked_feature_name, list):\n",
        "    attacked_feature_name = attacked_feature_name[0]  # Extract first element if it's a list\n",
        "\n",
        "# **Ensure x_train_for_attack is a DataFrame Before Dropping the Feature**\n",
        "x_train_for_attack = x_train_transformed_df.drop(columns=[attacked_feature_name])\n",
        "\n",
        "# **Ensure x_train_feature is a DataFrame Before Extracting Values**\n",
        "x_train_feature = x_train_transformed_df[[attacked_feature_name]].values  # Keep as 2D array\n",
        "\n",
        "# Get inferred values for the remaining 50% of the dataset\n",
        "values = [0, 1]  # Binary classification for 'social'\n",
        "\n",
        "# **Ensure only numerical values are passed to `art_classifier.predict()`**\n",
        "x_train_for_attack_np = x_train_for_attack.iloc[attack_train_size:].to_numpy().astype(float)  # Convert to float\n",
        "\n",
        "inferred_train_bb = bb_attack.infer(\n",
        "    x_train_for_attack_np,  # Ensure numerical input\n",
        "    pred=art_classifier.predict(x_train_transformed_df.iloc[attack_train_size:].to_numpy().astype(float)),  # Ensure numerical input\n",
        "    values=values\n",
        ")\n",
        "\n",
        "# Calculate accuracy correctly\n",
        "train_acc = np.mean(inferred_train_bb == x_train_feature[attack_train_size:].reshape(-1, 1))\n",
        "\n",
        "print(f\"✅ Fixed Black-Box Attack Accuracy: {train_acc:.4f}\")\n"
      ],
      "metadata": {
        "id": "QBgbJ5Kmy-42"
      },
      "execution_count": null,
      "outputs": []
    },
    {
      "cell_type": "markdown",
      "metadata": {
        "id": "3ZiO3jCwq-db"
      },
      "source": [
        "### White box attack"
      ]
    },
    {
      "cell_type": "code",
      "execution_count": null,
      "metadata": {
        "id": "9ZbgM5pAq-db"
      },
      "outputs": [],
      "source": [
        "anon_wb2_attack = AttributeInferenceWhiteBoxDecisionTree(anon_art_classifier, attack_feature=attack_feature)\n",
        "\n",
        "# get inferred values\n",
        "inferred_train_anon_wb2 = anon_wb2_attack.infer(x_train_for_attack, anon_x_train_predictions, values=values, priors=priors)\n",
        "\n",
        "# check accuracy\n",
        "anon_train_acc = np.sum(inferred_train_anon_wb2 == np.around(x_train_feature, decimals=8).reshape(1,-1)) / len(inferred_train_anon_wb2)\n",
        "print(anon_train_acc)"
      ]
    },
    {
      "cell_type": "code",
      "source": [
        "print(\"Unique values in y_train:\", np.unique(y_train))\n"
      ],
      "metadata": {
        "colab": {
          "base_uri": "https://localhost:8080/"
        },
        "id": "ZHOOjYBhycvM",
        "outputId": "eabc6f9a-0d26-4882-e12b-1b10216eed5c"
      },
      "execution_count": null,
      "outputs": [
        {
          "output_type": "stream",
          "name": "stdout",
          "text": [
            "Unique values in y_train: [0 1 2 3 4]\n"
          ]
        }
      ]
    },
    {
      "cell_type": "code",
      "source": [
        "y_train_binary = np.where(y_train > 0, 1, 0)  # Convert all non-zero classes to 1\n",
        "print(\"Unique values in y_train after binarization:\", np.unique(y_train_binary))\n"
      ],
      "metadata": {
        "colab": {
          "base_uri": "https://localhost:8080/"
        },
        "id": "VqE91kZmyh7Q",
        "outputId": "3e40d2ba-1ea0-4e2a-8699-25c79117e6da"
      },
      "execution_count": null,
      "outputs": [
        {
          "output_type": "stream",
          "name": "stdout",
          "text": [
            "Unique values in y_train after binarization: [0 1]\n"
          ]
        }
      ]
    },
    {
      "cell_type": "code",
      "source": [
        "social_counts = np.bincount(y_train_binary)\n",
        "priors = social_counts / len(y_train_binary)  # Normalize counts to probabilities\n",
        "print(\"Computed Priors:\", priors)\n"
      ],
      "metadata": {
        "colab": {
          "base_uri": "https://localhost:8080/"
        },
        "id": "tuH93LNtymTb",
        "outputId": "f0419d70-3699-4347-9c7e-41bec2ab3a7c"
      },
      "execution_count": null,
      "outputs": [
        {
          "output_type": "stream",
          "name": "stdout",
          "text": [
            "Computed Priors: [1.92901235e-04 9.99807099e-01]\n"
          ]
        }
      ]
    },
    {
      "cell_type": "code",
      "source": [
        "from art.attacks.inference.attribute_inference import AttributeInferenceWhiteBoxDecisionTree\n",
        "\n",
        "# Ensure y_train is binary\n",
        "y_train_binary = np.where(y_train > 0, 1, 0)\n",
        "\n",
        "# Compute priors for binary classification\n",
        "social_counts = np.bincount(y_train_binary)\n",
        "priors = social_counts / len(y_train_binary)  # Normalize counts to probabilities\n",
        "print(\"Computed Priors:\", priors)\n",
        "\n",
        "# Ensure we are using the correct attack feature index\n",
        "attack_feature = 0  # Index of 'social' after encoding\n",
        "\n",
        "# Prepare input features by removing the attacked feature\n",
        "x_train_for_attack = np.delete(anon_encoded, attack_feature, axis=1)\n",
        "\n",
        "# Initialize the White-Box Attack\n",
        "anon_wb2_attack = AttributeInferenceWhiteBoxDecisionTree(anon_art_classifier, attack_feature=attack_feature)\n",
        "\n",
        "# Get inferred values\n",
        "inferred_train_anon_wb2 = anon_wb2_attack.infer(\n",
        "    x_train_for_attack, anon_x_train_predictions, values=[0, 1], priors=priors\n",
        ")\n",
        "\n",
        "# Compute attack accuracy\n",
        "anon_wb_attack_acc = np.sum(\n",
        "    inferred_train_anon_wb2 == np.around(x_train_feature, decimals=8).reshape(1, -1)\n",
        ") / len(inferred_train_anon_wb2)\n",
        "\n",
        "print(\"🔵 White-Box Attack Accuracy After Anonymization:\", round(anon_wb_attack_acc, 4))\n"
      ],
      "metadata": {
        "colab": {
          "base_uri": "https://localhost:8080/"
        },
        "id": "0BQHNQ_EwdXQ",
        "outputId": "2c3371a7-ffd0-4e43-9118-9c1c7d92e7fb"
      },
      "execution_count": null,
      "outputs": [
        {
          "output_type": "stream",
          "name": "stdout",
          "text": [
            "Computed Priors: [1.92901235e-04 9.99807099e-01]\n",
            "🔵 White-Box Attack Accuracy After Anonymization: 0.5106\n"
          ]
        }
      ]
    },
    {
      "cell_type": "markdown",
      "metadata": {
        "id": "NQ67qXTnq-db"
      },
      "source": [
        "The accuracy of the attacks remains more or less the same. Let's check the precision and recall for each case:"
      ]
    },
    {
      "cell_type": "code",
      "execution_count": null,
      "metadata": {
        "colab": {
          "base_uri": "https://localhost:8080/"
        },
        "id": "AmlbFER9q-db",
        "outputId": "24b70508-15f3-4405-8259-a322830125f8"
      },
      "outputs": [
        {
          "output_type": "stream",
          "name": "stdout",
          "text": [
            "(0.345475910693302, 0.33696275071633236)\n",
            "(0.345475910693302, 0.33696275071633236)\n"
          ]
        }
      ],
      "source": [
        "def calc_precision_recall(predicted, actual, positive_value=1):\n",
        "    score = 0  # both predicted and actual are positive\n",
        "    num_positive_predicted = 0  # predicted positive\n",
        "    num_positive_actual = 0  # actual positive\n",
        "    for i in range(len(predicted)):\n",
        "        if predicted[i] == positive_value:\n",
        "            num_positive_predicted += 1\n",
        "        if actual[i] == positive_value:\n",
        "            num_positive_actual += 1\n",
        "        if predicted[i] == actual[i]:\n",
        "            if predicted[i] == positive_value:\n",
        "                score += 1\n",
        "\n",
        "    if num_positive_predicted == 0:\n",
        "        precision = 1\n",
        "    else:\n",
        "        precision = score / num_positive_predicted  # the fraction of predicted “Yes” responses that are correct\n",
        "    if num_positive_actual == 0:\n",
        "        recall = 1\n",
        "    else:\n",
        "        recall = score / num_positive_actual  # the fraction of “Yes” responses that are predicted correctly\n",
        "\n",
        "    return precision, recall\n",
        "\n",
        "# black-box regular\n",
        "print(calc_precision_recall(inferred_train_bb, x_train_feature))\n",
        "# black-box anonymized\n",
        "print(calc_precision_recall(inferred_train_anon_bb, x_train_feature))"
      ]
    },
    {
      "cell_type": "code",
      "execution_count": null,
      "metadata": {
        "colab": {
          "base_uri": "https://localhost:8080/"
        },
        "id": "lp-k3mZcq-dc",
        "outputId": "734c22fa-2dd6-4c64-fb85-a3108697ba1d"
      },
      "outputs": [
        {
          "output_type": "stream",
          "name": "stdout",
          "text": [
            "(0.7355769230769231, 0.31070496083550914)\n",
            "(0.4045299847435747, 1.0)\n"
          ]
        }
      ],
      "source": [
        "# white-box regular\n",
        "print(calc_precision_recall(inferred_train_wb2, x_train_feature))\n",
        "# white-box anonymized\n",
        "print(calc_precision_recall(inferred_train_anon_wb2, x_train_feature))"
      ]
    },
    {
      "cell_type": "markdown",
      "metadata": {
        "id": "piJd6wA3q-dc"
      },
      "source": [
        "Precision and recall remain almost the same, sometimes even slightly increasing.\n",
        "\n",
        "Now let's see what happens when we increase k to 1000."
      ]
    },
    {
      "cell_type": "markdown",
      "metadata": {
        "id": "SpkfI5ohq-dc"
      },
      "source": [
        "## k=1000\n",
        "\n",
        "Now we apply the attacks on an anonymized version of the same dataset (k=1000). The data has been anonymized on the quasi-identifiers: finance, social, health."
      ]
    },
    {
      "cell_type": "code",
      "source": [
        "print(\"Available columns in x_train_named:\", x_train_named.columns.tolist())\n"
      ],
      "metadata": {
        "colab": {
          "base_uri": "https://localhost:8080/"
        },
        "id": "wfEmPPy60J5r",
        "outputId": "cf4cb109-8aa0-4dec-d583-78b0c166c5b6"
      },
      "execution_count": null,
      "outputs": [
        {
          "output_type": "stream",
          "name": "stdout",
          "text": [
            "Available columns in x_train_named: ['parents_great_pret', 'parents_pretentious', 'parents_usual', 'has_nurs_critical', 'has_nurs_improper', 'has_nurs_less_proper', 'has_nurs_proper', 'has_nurs_very_crit', 'form_complete', 'form_completed', 'form_foster', 'form_incomplete', 'children_1', 'children_2', 'children_3', 'children_more', 'housing_convenient', 'housing_critical', 'housing_less_conv', 'finance_convenient', 'finance_inconv', 'social_nonprob', 'social_problematic', 'social_slightly_prob', 'health_not_recom', 'health_priority', 'health_recommended']\n"
          ]
        }
      ]
    },
    {
      "cell_type": "code",
      "source": [
        "categorical_features = [\n",
        "    \"parents_great_pret\", \"parents_pretentious\", \"parents_usual\",\n",
        "    \"has_nurs_critical\", \"has_nurs_improper\", \"has_nurs_less_proper\",\n",
        "    \"has_nurs_proper\", \"has_nurs_very_crit\",\n",
        "    \"form_complete\", \"form_completed\", \"form_foster\", \"form_incomplete\",\n",
        "    \"children_1\", \"children_2\", \"children_3\", \"children_more\",\n",
        "    \"housing_convenient\", \"housing_critical\", \"housing_less_conv\"\n",
        "]\n"
      ],
      "metadata": {
        "id": "0mFaNuPZ0wWo"
      },
      "execution_count": null,
      "outputs": []
    },
    {
      "cell_type": "code",
      "source": [
        "categorical_feature_indices = [x_train_named.columns.get_loc(col) for col in categorical_features if col in x_train_named.columns]\n",
        "print(\"Updated Categorical Feature Indices:\", categorical_feature_indices)\n"
      ],
      "metadata": {
        "colab": {
          "base_uri": "https://localhost:8080/"
        },
        "id": "0plK8AxQ0zJp",
        "outputId": "0cd0fe6e-3756-45d3-bd2b-fc4ee9ff8296"
      },
      "execution_count": null,
      "outputs": [
        {
          "output_type": "stream",
          "name": "stdout",
          "text": [
            "Updated Categorical Feature Indices: [0, 1, 2, 3, 4, 5, 6, 7, 8, 9, 10, 11, 12, 13, 14, 15, 16, 17, 18]\n"
          ]
        }
      ]
    },
    {
      "cell_type": "code",
      "source": [
        "anonymizer2 = Anonymize(1000, QI_indices, categorical_features=categorical_feature_indices)\n",
        "anon2 = anonymizer2.anonymize(ArrayDataset(x_train, x_train_predictions))\n",
        "\n",
        "print(\"✅ Anonymization with k=1000 completed!\")\n"
      ],
      "metadata": {
        "colab": {
          "base_uri": "https://localhost:8080/"
        },
        "id": "Kq6exIDh035G",
        "outputId": "8d148e95-8ef3-4b1e-8ad0-8bed15025aab"
      },
      "execution_count": null,
      "outputs": [
        {
          "output_type": "stream",
          "name": "stdout",
          "text": [
            "✅ Anonymization with k=1000 completed!\n"
          ]
        }
      ]
    },
    {
      "cell_type": "code",
      "source": [
        "print(\"Distinct Rows in Original Data:\", len(pd.DataFrame(x_train).drop_duplicates()))\n",
        "print(\"Distinct Rows in Anonymized Data (k=1000):\", len(pd.DataFrame(anon2).drop_duplicates()))\n"
      ],
      "metadata": {
        "colab": {
          "base_uri": "https://localhost:8080/"
        },
        "id": "lqU_OIXg1Nbu",
        "outputId": "92d73479-0dbd-49db-9785-9654c98f725f"
      },
      "execution_count": null,
      "outputs": [
        {
          "output_type": "stream",
          "name": "stdout",
          "text": [
            "Distinct Rows in Original Data: 10368\n",
            "Distinct Rows in Anonymized Data (k=1000): 1727\n"
          ]
        }
      ]
    },
    {
      "cell_type": "code",
      "source": [
        "# print(\"Original Categorical Features:\", categorical_features)\n"
      ],
      "metadata": {
        "colab": {
          "base_uri": "https://localhost:8080/"
        },
        "id": "tIBwnsmB0sFD",
        "outputId": "4d184bd8-1773-4396-be86-1a8ea15e11d3"
      },
      "execution_count": null,
      "outputs": [
        {
          "output_type": "stream",
          "name": "stdout",
          "text": [
            "Original Categorical Features: ['parents', 'has_nurs', 'form', 'children', 'housing', 'finance', 'social', 'health']\n"
          ]
        }
      ]
    },
    {
      "cell_type": "code",
      "source": [
        "# QI = [\n",
        "#    \"finance_convenient\", \"finance_inconv\",\n",
        "#    \"social_nonprob\", \"social_problematic\", \"social_slightly_prob\",\n",
        "#    \"health_not_recom\", \"health_priority\", \"health_recommended\"\n",
        "#]\n"
      ],
      "metadata": {
        "id": "3XOay94p0Qvh"
      },
      "execution_count": null,
      "outputs": []
    },
    {
      "cell_type": "code",
      "source": [
        "#QI_indices = [x_train_named.columns.get_loc(col) for col in QI if col in x_train_named.columns]\n",
        "#print(\"Updated QI Indices:\", QI_indices)\n"
      ],
      "metadata": {
        "colab": {
          "base_uri": "https://localhost:8080/"
        },
        "id": "o9QRJ3x-0TMQ",
        "outputId": "fed0276a-928b-46b9-88e2-c340fd396e65"
      },
      "execution_count": null,
      "outputs": [
        {
          "output_type": "stream",
          "name": "stdout",
          "text": [
            "Updated QI Indices: [19, 20, 21, 22, 23, 24, 25, 26]\n"
          ]
        }
      ]
    },
    {
      "cell_type": "code",
      "source": [
        "#categorical_feature_indices = [x_train_named.columns.get_loc(col) for col in categorical_features if col in x_train_named.columns]\n",
        "#print(\"Updated Categorical Feature Indices:\", categorical_feature_indices)\n"
      ],
      "metadata": {
        "colab": {
          "base_uri": "https://localhost:8080/"
        },
        "id": "C1vxIWq50Xcb",
        "outputId": "3a0c73d3-3174-4c54-9d99-9e4b9d8bd6f1"
      },
      "execution_count": null,
      "outputs": [
        {
          "output_type": "stream",
          "name": "stdout",
          "text": [
            "Updated Categorical Feature Indices: []\n"
          ]
        }
      ]
    },
    {
      "cell_type": "code",
      "execution_count": null,
      "metadata": {
        "id": "N_d0Sfgaq-dc"
      },
      "outputs": [],
      "source": [
        "# number of distinct rows in anonymized data\n",
        "#len(anon2.drop_duplicates())"
      ]
    },
    {
      "cell_type": "markdown",
      "metadata": {
        "id": "pYDr44Shq-dc"
      },
      "source": [
        "## Train decision tree model"
      ]
    },
    {
      "cell_type": "code",
      "source": [
        "# Convert anonymized data to DataFrame with correct column names\n",
        "anon2_df = pd.DataFrame(anon2, columns=x_train_named.columns)\n",
        "anon2_encoded = anon2_df.to_numpy()  # Convert back to NumPy array\n",
        "\n",
        "# Train a new Decision Tree model\n",
        "anon2_model = DecisionTreeClassifier()\n",
        "anon2_model.fit(anon2_encoded, y_train)\n",
        "\n",
        "# Wrap with ART\n",
        "anon2_art_classifier = ScikitlearnDecisionTreeClassifier(anon2_model)\n",
        "\n",
        "# Evaluate Model\n",
        "anon2_accuracy = anon2_model.score(x_test_encoded, y_test)\n",
        "print(\"📌 Anonymized Model Accuracy (k=1000):\", round(anon2_accuracy, 4))\n"
      ],
      "metadata": {
        "colab": {
          "base_uri": "https://localhost:8080/"
        },
        "id": "AKXrhiHS1jqX",
        "outputId": "ba3b5c8f-49d3-4c28-f057-76fc315f08ea"
      },
      "execution_count": null,
      "outputs": [
        {
          "output_type": "stream",
          "name": "stdout",
          "text": [
            "📌 Anonymized Model Accuracy (k=1000): 0.7477\n"
          ]
        }
      ]
    },
    {
      "cell_type": "code",
      "source": [
        "anon2_bb_attack = AttributeInferenceBlackBox(anon2_art_classifier, attack_feature=0)\n",
        "\n",
        "# Get predictions from the new model\n",
        "anon2_x_train_predictions = np.array([np.argmax(arr) for arr in anon2_art_classifier.predict(anon2_encoded)]).reshape(-1, 1)\n",
        "\n",
        "# Train the attack model\n",
        "anon2_bb_attack.fit(anon2_encoded[:attack_train_size])\n",
        "\n",
        "# Get inferred values\n",
        "inferred_train_anon2_bb = anon2_bb_attack.infer(\n",
        "    x_train_for_attack[attack_train_size:], pred=anon2_x_train_predictions[attack_train_size:], values=[0, 1]\n",
        ")\n",
        "\n",
        "# Compute attack accuracy\n",
        "anon2_bb_attack_acc = np.mean(inferred_train_anon2_bb == y_train[attack_train_size:])\n",
        "print(\"🔴 Black-Box Attack Accuracy After Anonymization (k=1000):\", round(anon2_bb_attack_acc, 4))\n"
      ],
      "metadata": {
        "colab": {
          "base_uri": "https://localhost:8080/"
        },
        "id": "kfzDkX7M1oPS",
        "outputId": "b21b32d4-4cb3-42dd-bb49-e4c96866319f"
      },
      "execution_count": null,
      "outputs": [
        {
          "output_type": "stream",
          "name": "stderr",
          "text": [
            "/usr/local/lib/python3.11/dist-packages/torch/nn/modules/module.py:1736: UserWarning: Implicit dimension choice for softmax has been deprecated. Change the call to include dim=X as an argument.\n",
            "  return self._call_impl(*args, **kwargs)\n"
          ]
        },
        {
          "output_type": "stream",
          "name": "stdout",
          "text": [
            "🔴 Black-Box Attack Accuracy After Anonymization (k=1000): 0.0664\n"
          ]
        },
        {
          "output_type": "stream",
          "name": "stderr",
          "text": [
            "/usr/local/lib/python3.11/dist-packages/torch/nn/modules/module.py:1736: UserWarning: Implicit dimension choice for softmax has been deprecated. Change the call to include dim=X as an argument.\n",
            "  return self._call_impl(*args, **kwargs)\n"
          ]
        }
      ]
    },
    {
      "cell_type": "code",
      "source": [
        "anon2_wb2_attack = AttributeInferenceWhiteBoxDecisionTree(anon2_art_classifier, attack_feature=0)\n",
        "\n",
        "# Get inferred values\n",
        "inferred_train_anon2_wb2 = anon2_wb2_attack.infer(\n",
        "    x_train_for_attack, anon2_x_train_predictions, values=[0, 1], priors=priors\n",
        ")\n",
        "\n",
        "# Compute attack accuracy\n",
        "anon2_wb_attack_acc = np.mean(\n",
        "    inferred_train_anon2_wb2 == np.around(x_train_feature, decimals=8).reshape(1, -1)\n",
        ")\n",
        "print(\"🔵 White-Box Attack Accuracy After Anonymization (k=1000):\", round(anon2_wb_attack_acc, 4))\n"
      ],
      "metadata": {
        "colab": {
          "base_uri": "https://localhost:8080/"
        },
        "id": "u_Qe33oy1yT8",
        "outputId": "019e49b6-4dc9-4f25-9059-fbe1c7d5c578"
      },
      "execution_count": null,
      "outputs": [
        {
          "output_type": "stream",
          "name": "stdout",
          "text": [
            "🔵 White-Box Attack Accuracy After Anonymization (k=1000): 0.3325\n"
          ]
        }
      ]
    },
    {
      "cell_type": "code",
      "execution_count": null,
      "metadata": {
        "id": "76rQTm-1q-dc"
      },
      "outputs": [],
      "source": [
        "#anon2_encoded = preprocessor.fit_transform(anon2)\n",
        "#test_encoded = preprocessor.transform(x_test)\n",
        "\n",
        "#anon2_model = DecisionTreeClassifier()\n",
        "#anon2_model.fit(anon2_encoded, y_train)\n",
        "\n",
        "#anon2_art_classifier = ScikitlearnDecisionTreeClassifier(anon2_model)\n",
        "\n",
        "#print('Anonymized model accuracy: ', anon2_model.score(test_encoded, y_test))"
      ]
    },
    {
      "cell_type": "markdown",
      "metadata": {
        "id": "k-jbEuJJq-dd"
      },
      "source": [
        "## Attack\n",
        "### Black-box attack"
      ]
    },
    {
      "cell_type": "code",
      "execution_count": null,
      "metadata": {
        "id": "tmNRVniNq-dd"
      },
      "outputs": [],
      "source": [
        "# training data without attacked feature\n",
        "#x_train_for_attack = np.delete(train_encoded, attack_feature, 1)\n",
        "# only attacked feature\n",
        "#x_train_feature = train_encoded[:, attack_feature].copy().reshape(-1, 1)\n",
        "\n",
        "#anon2_bb_attack = AttributeInferenceBlackBox(anon2_art_classifier, attack_feature=attack_feature)\n",
        "\n",
        "# get original model's predictions\n",
        "#anon2_x_train_predictions = np.array([np.argmax(arr) for arr in anon2_art_classifier.predict(train_encoded)]).reshape(-1,1)\n",
        "\n",
        "# train attack model\n",
        "#anon2_bb_attack.fit(train_encoded[:attack_train_size])\n",
        "\n",
        "# get inferred values\n",
        "#inferred_train_anon2_bb = anon2_bb_attack.infer(x_train_for_attack[attack_train_size:], pred=anon2_x_train_predictions[attack_train_size:], values=values)\n",
        "# check accuracy\n",
        "#train_acc = np.sum(inferred_train_anon2_bb == np.around(x_train_feature[attack_train_size:], decimals=8).reshape(1,-1)) / len(inferred_train_anon2_bb)\n",
        "#print(train_acc)"
      ]
    },
    {
      "cell_type": "markdown",
      "metadata": {
        "id": "qqgb-9R2q-dd"
      },
      "source": [
        "### White box attack"
      ]
    },
    {
      "cell_type": "code",
      "execution_count": null,
      "metadata": {
        "id": "gMB7iZLJq-dd"
      },
      "outputs": [],
      "source": [
        "#anon2_wb2_attack = AttributeInferenceWhiteBoxDecisionTree(anon2_art_classifier, attack_feature=attack_feature)\n",
        "\n",
        "# get inferred values\n",
        "#inferred_train_anon2_wb2 = anon2_wb2_attack.infer(x_train_for_attack, anon2_x_train_predictions, values=values, priors=priors)\n",
        "\n",
        "# check accuracy\n",
        "#train_acc = np.sum(inferred_train_anon2_wb2 == np.around(x_train_feature, decimals=8).reshape(1,-1)) / len(inferred_train_anon_wb2)\n",
        "#print(train_acc)"
      ]
    },
    {
      "cell_type": "code",
      "execution_count": null,
      "metadata": {
        "colab": {
          "base_uri": "https://localhost:8080/"
        },
        "id": "Kpr9StpCq-dd",
        "outputId": "401a831b-6d57-4df5-8ba7-a272d51f747d"
      },
      "outputs": [
        {
          "output_type": "stream",
          "name": "stdout",
          "text": [
            "(0.345475910693302, 0.33696275071633236)\n",
            "(0.34683098591549294, 0.3386819484240688)\n",
            "(0.7355769230769231, 0.31070496083550914)\n",
            "(0.3324652777777778, 1.0)\n"
          ]
        }
      ],
      "source": [
        "# black-box regular\n",
        "print(calc_precision_recall(inferred_train_bb, x_train_feature))\n",
        "# black-box anonymized\n",
        "print(calc_precision_recall(inferred_train_anon2_bb, x_train_feature))\n",
        "\n",
        "# white-box regular\n",
        "print(calc_precision_recall(inferred_train_wb2, x_train_feature))\n",
        "# white-box anonymized\n",
        "print(calc_precision_recall(inferred_train_anon2_wb2, x_train_feature))"
      ]
    },
    {
      "cell_type": "markdown",
      "metadata": {
        "id": "O6cfNH9aq-dd"
      },
      "source": [
        "The accuracy of the black-box attack is slightly reduced, as well as the precision and recall in both attacks."
      ]
    },
    {
      "cell_type": "markdown",
      "metadata": {
        "id": "SLEjAEO-q-dt"
      },
      "source": [
        "## k=100, all QI\n",
        "Now let's see what happens if we define all 8 features in the Nursery dataset as quasi-identifiers."
      ]
    },
    {
      "cell_type": "code",
      "source": [
        "QI_all = [\n",
        "    \"parents_great_pret\", \"parents_pretentious\", \"parents_usual\",\n",
        "    \"has_nurs_critical\", \"has_nurs_improper\", \"has_nurs_less_proper\",\n",
        "    \"has_nurs_proper\", \"has_nurs_very_crit\"\n",
        "]\n"
      ],
      "metadata": {
        "id": "PMMA0BU43WFA"
      },
      "execution_count": null,
      "outputs": []
    },
    {
      "cell_type": "code",
      "source": [
        "QI_all_indices = [x_train_named.columns.get_loc(col) for col in QI_all if col in x_train_named.columns]\n",
        "print(\"Updated QI Indices (All Features):\", QI_all_indices)\n"
      ],
      "metadata": {
        "colab": {
          "base_uri": "https://localhost:8080/"
        },
        "id": "wiQu0GaA3ZVq",
        "outputId": "934ad9bb-5626-4470-a0ff-2ad6d7cc38f7"
      },
      "execution_count": null,
      "outputs": [
        {
          "output_type": "stream",
          "name": "stdout",
          "text": [
            "Updated QI Indices (All Features): [0, 1, 2, 3, 4, 5, 6, 7]\n"
          ]
        }
      ]
    },
    {
      "cell_type": "code",
      "source": [
        "anonymizer_all_QI = Anonymize(100, QI_all_indices, categorical_features=categorical_feature_indices)\n",
        "anon_all_QI = anonymizer_all_QI.anonymize(ArrayDataset(x_train, x_train_predictions))\n",
        "\n",
        "print(\"✅ Anonymization with k=100 using all QI features completed!\")\n"
      ],
      "metadata": {
        "colab": {
          "base_uri": "https://localhost:8080/"
        },
        "id": "LqAnqRVh3cTT",
        "outputId": "10407dda-6928-4c1c-8178-a6964c651a6b"
      },
      "execution_count": null,
      "outputs": [
        {
          "output_type": "stream",
          "name": "stdout",
          "text": [
            "✅ Anonymization with k=100 using all QI features completed!\n"
          ]
        }
      ]
    },
    {
      "cell_type": "code",
      "source": [
        "print(\"Distinct Rows in Original Data:\", len(pd.DataFrame(x_train).drop_duplicates()))\n",
        "print(\"Distinct Rows in Anonymized Data (k=100, All QI):\", len(pd.DataFrame(anon_all_QI).drop_duplicates()))\n"
      ],
      "metadata": {
        "colab": {
          "base_uri": "https://localhost:8080/"
        },
        "id": "xfqDlwBp3fFE",
        "outputId": "1693d214-5b05-4f70-a9e5-89143ce8ae1b"
      },
      "execution_count": null,
      "outputs": [
        {
          "output_type": "stream",
          "name": "stdout",
          "text": [
            "Distinct Rows in Original Data: 10368\n",
            "Distinct Rows in Anonymized Data (k=100, All QI): 4368\n"
          ]
        }
      ]
    },
    {
      "cell_type": "code",
      "source": [
        "# Convert anonymized data to DataFrame with correct column names\n",
        "anon_all_QI_df = pd.DataFrame(anon_all_QI, columns=x_train_named.columns)\n",
        "anon_all_QI_encoded = anon_all_QI_df.to_numpy()  # Convert back to NumPy array\n",
        "\n",
        "# Train a new Decision Tree model\n",
        "anon_all_QI_model = DecisionTreeClassifier()\n",
        "anon_all_QI_model.fit(anon_all_QI_encoded, y_train)\n",
        "\n",
        "# Wrap with ART\n",
        "anon_all_QI_art_classifier = ScikitlearnDecisionTreeClassifier(anon_all_QI_model)\n",
        "\n",
        "# Evaluate Model\n",
        "anon_all_QI_accuracy = anon_all_QI_model.score(x_test_encoded, y_test)\n",
        "print(\"📌 Anonymized Model Accuracy (k=100, All QI):\", round(anon_all_QI_accuracy, 4))\n"
      ],
      "metadata": {
        "colab": {
          "base_uri": "https://localhost:8080/"
        },
        "id": "t8r-eJGi3h3-",
        "outputId": "d92a43a5-52e9-492e-a93c-8f1677683757"
      },
      "execution_count": null,
      "outputs": [
        {
          "output_type": "stream",
          "name": "stdout",
          "text": [
            "📌 Anonymized Model Accuracy (k=100, All QI): 0.8657\n"
          ]
        }
      ]
    },
    {
      "cell_type": "code",
      "source": [
        "anon_all_QI_bb_attack = AttributeInferenceBlackBox(anon_all_QI_art_classifier, attack_feature=0)\n",
        "\n",
        "# Get predictions from the new model\n",
        "anon_all_QI_x_train_predictions = np.array([np.argmax(arr) for arr in anon_all_QI_art_classifier.predict(anon_all_QI_encoded)]).reshape(-1, 1)\n",
        "\n",
        "# Train the attack model\n",
        "anon_all_QI_bb_attack.fit(anon_all_QI_encoded[:attack_train_size])\n",
        "\n",
        "# Get inferred values\n",
        "inferred_train_anon_all_QI_bb = anon_all_QI_bb_attack.infer(\n",
        "    x_train_for_attack[attack_train_size:], pred=anon_all_QI_x_train_predictions[attack_train_size:], values=[0, 1]\n",
        ")\n",
        "\n",
        "# Compute attack accuracy\n",
        "anon_all_QI_bb_attack_acc = np.mean(inferred_train_anon_all_QI_bb == y_train[attack_train_size:])\n",
        "print(\"🔴 Black-Box Attack Accuracy After Anonymization (k=100, All QI):\", round(anon_all_QI_bb_attack_acc, 4))\n"
      ],
      "metadata": {
        "colab": {
          "base_uri": "https://localhost:8080/"
        },
        "id": "q3cD7Rbt3lek",
        "outputId": "c0c89a02-cee0-4633-a9de-058e9003216a"
      },
      "execution_count": null,
      "outputs": [
        {
          "output_type": "stream",
          "name": "stderr",
          "text": [
            "/usr/local/lib/python3.11/dist-packages/torch/nn/modules/module.py:1736: UserWarning: Implicit dimension choice for softmax has been deprecated. Change the call to include dim=X as an argument.\n",
            "  return self._call_impl(*args, **kwargs)\n"
          ]
        },
        {
          "output_type": "stream",
          "name": "stdout",
          "text": [
            "🔴 Black-Box Attack Accuracy After Anonymization (k=100, All QI): 0.0627\n"
          ]
        },
        {
          "output_type": "stream",
          "name": "stderr",
          "text": [
            "/usr/local/lib/python3.11/dist-packages/torch/nn/modules/module.py:1736: UserWarning: Implicit dimension choice for softmax has been deprecated. Change the call to include dim=X as an argument.\n",
            "  return self._call_impl(*args, **kwargs)\n"
          ]
        }
      ]
    },
    {
      "cell_type": "code",
      "source": [
        "anon_all_QI_wb2_attack = AttributeInferenceWhiteBoxDecisionTree(anon_all_QI_art_classifier, attack_feature=0)\n",
        "\n",
        "# Get inferred values\n",
        "inferred_train_anon_all_QI_wb2 = anon_all_QI_wb2_attack.infer(\n",
        "    x_train_for_attack, anon_all_QI_x_train_predictions, values=[0, 1], priors=priors\n",
        ")\n",
        "\n",
        "# Compute attack accuracy\n",
        "anon_all_QI_wb_attack_acc = np.mean(\n",
        "    inferred_train_anon_all_QI_wb2 == np.around(x_train_feature, decimals=8).reshape(1, -1)\n",
        ")\n",
        "print(\"🔵 White-Box Attack Accuracy After Anonymization (k=100, All QI):\", round(anon_all_QI_wb_attack_acc, 4))\n"
      ],
      "metadata": {
        "colab": {
          "base_uri": "https://localhost:8080/"
        },
        "id": "ak19QoqM3twN",
        "outputId": "10a78433-b40d-43a1-9007-d62d9edef65b"
      },
      "execution_count": null,
      "outputs": [
        {
          "output_type": "stream",
          "name": "stdout",
          "text": [
            "🔵 White-Box Attack Accuracy After Anonymization (k=100, All QI): 0.3494\n"
          ]
        }
      ]
    },
    {
      "cell_type": "code",
      "execution_count": null,
      "metadata": {
        "id": "qnhguTqIq-dt"
      },
      "outputs": [],
      "source": [
        "#QI2 = [\"parents\", \"has_nurs\", \"form\", \"children\", \"housing\", \"finance\", \"social\", \"health\"]\n",
        "#anonymizer3 = Anonymize(100, QI2, categorical_features=categorical_features)\n",
        "#anon3 = anonymizer3.anonymize(ArrayDataset(x_train, x_train_predictions))"
      ]
    },
    {
      "cell_type": "code",
      "execution_count": null,
      "metadata": {
        "id": "8_cMP-VNq-dt"
      },
      "outputs": [],
      "source": [
        "# number of distinct rows in anonymized data\n",
        "#len(anon3.drop_duplicates())"
      ]
    },
    {
      "cell_type": "code",
      "execution_count": null,
      "metadata": {
        "id": "qtwkdGrLq-dt"
      },
      "outputs": [],
      "source": [
        "#anon3_encoded = preprocessor.fit_transform(anon3)\n",
        "#test_encoded = preprocessor.transform(x_test)\n",
        "\n",
        "#anon3_model = DecisionTreeClassifier()\n",
        "#anon3_model.fit(anon3_encoded, y_train)\n",
        "\n",
        "#anon3_art_classifier = ScikitlearnDecisionTreeClassifier(anon3_model)\n",
        "\n",
        "#print('Anonymized model accuracy: ', anon3_model.score(test_encoded, y_test))\n",
        "\n",
        "# training data without attacked feature\n",
        "#x_train_for_attack = np.delete(train_encoded, attack_feature, 1)\n",
        "# only attacked feature\n",
        "#x_train_feature = train_encoded[:, attack_feature].copy().reshape(-1, 1)\n",
        "\n",
        "#anon3_bb_attack = AttributeInferenceBlackBox(anon3_art_classifier, attack_feature=attack_feature)\n",
        "\n",
        "# get original model's predictions\n",
        "#anon3_x_train_predictions = np.array([np.argmax(arr) for arr in anon3_art_classifier.predict(train_encoded)]).reshape(-1,1)\n",
        "\n",
        "# train attack model\n",
        "#anon3_bb_attack.fit(train_encoded[:attack_train_size])\n",
        "\n",
        "# get inferred values\n",
        "#inferred_train_anon3_bb = anon3_bb_attack.infer(x_train_for_attack[attack_train_size:], pred=anon3_x_train_predictions[attack_train_size:], values=values)\n",
        "# check accuracy\n",
        "#train_acc = np.sum(inferred_train_anon3_bb == np.around(x_train_feature[attack_train_size:], decimals=8).reshape(1,-1)) / len(inferred_train_anon2_bb)\n",
        "#print('BB attack accuracy: ', train_acc)\n",
        "\n",
        "#anon3_wb2_attack = AttributeInferenceWhiteBoxDecisionTree(anon3_art_classifier, attack_feature=attack_feature)\n",
        "\n",
        "# get inferred values\n",
        "#inferred_train_anon3_wb2 = anon3_wb2_attack.infer(x_train_for_attack, anon3_x_train_predictions, values=values, priors=priors)\n",
        "\n",
        "# check accuracy\n",
        "#train_acc = np.sum(inferred_train_anon3_wb2 == np.around(x_train_feature, decimals=8).reshape(1,-1)) / len(inferred_train_anon_wb2)\n",
        "#print('WB attack accuracy: ', train_acc)"
      ]
    },
    {
      "cell_type": "markdown",
      "metadata": {
        "id": "CiWcuYQfq-du"
      },
      "source": [
        "Accuracy of both attacks has decreased. Precision and recall remain roughly the same in the black-box case.\n",
        "\n",
        "*In the anonymized version of the white-box attack, no records were predicted with the positive value for the attacked feature."
      ]
    }
  ],
  "metadata": {
    "kernelspec": {
      "display_name": "Python 3",
      "language": "python",
      "name": "python3"
    },
    "language_info": {
      "codemirror_mode": {
        "name": "ipython",
        "version": 3
      },
      "file_extension": ".py",
      "mimetype": "text/x-python",
      "name": "python",
      "nbconvert_exporter": "python",
      "pygments_lexer": "ipython3",
      "version": "3.8.3"
    },
    "colab": {
      "provenance": []
    }
  },
  "nbformat": 4,
  "nbformat_minor": 0
}