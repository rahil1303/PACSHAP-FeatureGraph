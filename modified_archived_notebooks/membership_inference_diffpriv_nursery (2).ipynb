{
  "cells": [
    {
      "cell_type": "markdown",
      "metadata": {
        "id": "KyuDmXxAjlwY"
      },
      "source": [
        "# Running membership inference attacks on the Nursery data and defending using differential privacy"
      ]
    },
    {
      "cell_type": "markdown",
      "metadata": {
        "id": "ZI9TDInujlwc"
      },
      "source": [
        "In this tutorial we will show how to run black-box membership attacks on both a vanilla model and models trained with differential privacy. The attacks are taken from the ART library's inference module (https://github.com/Trusted-AI/adversarial-robustness-toolbox) and the differentially private model implementation is taken fron the Differential Privacy Library (https://github.com/IBM/differential-privacy-library).\n",
        "\n",
        "This will be demonstrated on the Nursery dataset (original dataset can be found here: https://archive.ics.uci.edu/ml/datasets/nursery)."
      ]
    },
    {
      "cell_type": "markdown",
      "metadata": {
        "id": "mkXhSKIVjlwe"
      },
      "source": [
        "We have already preprocessed the dataset such that all categorical features are one-hot encoded, and the data was scaled using sklearn's StandardScaler."
      ]
    },
    {
      "cell_type": "markdown",
      "metadata": {
        "id": "WmknS3kFjlwh"
      },
      "source": [
        "## Load data"
      ]
    },
    {
      "cell_type": "code",
      "source": [
        "!pip install ai-privacy-toolkit"
      ],
      "metadata": {
        "colab": {
          "base_uri": "https://localhost:8080/"
        },
        "id": "kf6vA_axjvXE",
        "outputId": "8dc33e45-38fc-4579-b0da-41c30b622824"
      },
      "execution_count": null,
      "outputs": [
        {
          "output_type": "stream",
          "name": "stdout",
          "text": [
            "Collecting ai-privacy-toolkit\n",
            "  Downloading ai_privacy_toolkit-0.2.1-py3-none-any.whl.metadata (3.3 kB)\n",
            "Downloading ai_privacy_toolkit-0.2.1-py3-none-any.whl (57 kB)\n",
            "\u001b[?25l   \u001b[90m━━━━━━━━━━━━━━━━━━━━━━━━━━━━━━━━━━━━━━━━\u001b[0m \u001b[32m0.0/57.4 kB\u001b[0m \u001b[31m?\u001b[0m eta \u001b[36m-:--:--\u001b[0m\r\u001b[2K   \u001b[90m━━━━━━━━━━━━━━━━━━━━━━━━━━━━━━━━━━━━━━━━\u001b[0m \u001b[32m57.4/57.4 kB\u001b[0m \u001b[31m2.1 MB/s\u001b[0m eta \u001b[36m0:00:00\u001b[0m\n",
            "\u001b[?25hInstalling collected packages: ai-privacy-toolkit\n",
            "Successfully installed ai-privacy-toolkit-0.2.1\n"
          ]
        }
      ]
    },
    {
      "cell_type": "code",
      "source": [
        "!pip install adversarial-robustness-toolbox"
      ],
      "metadata": {
        "colab": {
          "base_uri": "https://localhost:8080/"
        },
        "id": "5SVZtwGDkZWw",
        "outputId": "1b817d1f-34fe-4d24-bcb0-1d5843d6a698"
      },
      "execution_count": null,
      "outputs": [
        {
          "output_type": "stream",
          "name": "stdout",
          "text": [
            "Collecting adversarial-robustness-toolbox\n",
            "  Downloading adversarial_robustness_toolbox-1.19.1-py3-none-any.whl.metadata (11 kB)\n",
            "Requirement already satisfied: numpy>=1.18.0 in /usr/local/lib/python3.11/dist-packages (from adversarial-robustness-toolbox) (1.26.4)\n",
            "Requirement already satisfied: scipy>=1.4.1 in /usr/local/lib/python3.11/dist-packages (from adversarial-robustness-toolbox) (1.13.1)\n",
            "Requirement already satisfied: scikit-learn>=0.22.2 in /usr/local/lib/python3.11/dist-packages (from adversarial-robustness-toolbox) (1.6.1)\n",
            "Requirement already satisfied: six in /usr/local/lib/python3.11/dist-packages (from adversarial-robustness-toolbox) (1.17.0)\n",
            "Requirement already satisfied: setuptools in /usr/local/lib/python3.11/dist-packages (from adversarial-robustness-toolbox) (75.1.0)\n",
            "Requirement already satisfied: tqdm in /usr/local/lib/python3.11/dist-packages (from adversarial-robustness-toolbox) (4.67.1)\n",
            "Requirement already satisfied: joblib>=1.2.0 in /usr/local/lib/python3.11/dist-packages (from scikit-learn>=0.22.2->adversarial-robustness-toolbox) (1.4.2)\n",
            "Requirement already satisfied: threadpoolctl>=3.1.0 in /usr/local/lib/python3.11/dist-packages (from scikit-learn>=0.22.2->adversarial-robustness-toolbox) (3.5.0)\n",
            "Downloading adversarial_robustness_toolbox-1.19.1-py3-none-any.whl (1.7 MB)\n",
            "\u001b[2K   \u001b[90m━━━━━━━━━━━━━━━━━━━━━━━━━━━━━━━━━━━━━━━━\u001b[0m \u001b[32m1.7/1.7 MB\u001b[0m \u001b[31m17.3 MB/s\u001b[0m eta \u001b[36m0:00:00\u001b[0m\n",
            "\u001b[?25hInstalling collected packages: adversarial-robustness-toolbox\n",
            "Successfully installed adversarial-robustness-toolbox-1.19.1\n"
          ]
        }
      ]
    },
    {
      "cell_type": "code",
      "source": [
        "!mkdir -p ../datasets\n",
        "!wget -P ../datasets https://archive.ics.uci.edu/ml/machine-learning-databases/adult/adult.data\n",
        "!wget -P ../datasets https://archive.ics.uci.edu/ml/machine-learning-databases/statlog/german/german.data\n",
        "!wget -P ../datasets https://archive.ics.uci.edu/ml/machine-learning-databases/nursery/nursery.data"
      ],
      "metadata": {
        "colab": {
          "base_uri": "https://localhost:8080/"
        },
        "id": "Xt0Fy2wQkf16",
        "outputId": "415a501b-35ec-48f3-8070-3d467b050339"
      },
      "execution_count": null,
      "outputs": [
        {
          "output_type": "stream",
          "name": "stdout",
          "text": [
            "--2025-02-22 12:11:39--  https://archive.ics.uci.edu/ml/machine-learning-databases/adult/adult.data\n",
            "Resolving archive.ics.uci.edu (archive.ics.uci.edu)... 128.195.10.252\n",
            "Connecting to archive.ics.uci.edu (archive.ics.uci.edu)|128.195.10.252|:443... connected.\n",
            "HTTP request sent, awaiting response... 200 OK\n",
            "Length: unspecified\n",
            "Saving to: ‘../datasets/adult.data’\n",
            "\n",
            "adult.data              [        <=>         ]   3.79M  1.85MB/s    in 2.0s    \n",
            "\n",
            "2025-02-22 12:11:42 (1.85 MB/s) - ‘../datasets/adult.data’ saved [3974305]\n",
            "\n",
            "--2025-02-22 12:11:42--  https://archive.ics.uci.edu/ml/machine-learning-databases/statlog/german/german.data\n",
            "Resolving archive.ics.uci.edu (archive.ics.uci.edu)... 128.195.10.252\n",
            "Connecting to archive.ics.uci.edu (archive.ics.uci.edu)|128.195.10.252|:443... connected.\n",
            "HTTP request sent, awaiting response... 200 OK\n",
            "Length: unspecified\n",
            "Saving to: ‘../datasets/german.data’\n",
            "\n",
            "german.data             [  <=>               ]  77.92K   388KB/s    in 0.2s    \n",
            "\n",
            "2025-02-22 12:11:44 (388 KB/s) - ‘../datasets/german.data’ saved [79793]\n",
            "\n",
            "--2025-02-22 12:11:44--  https://archive.ics.uci.edu/ml/machine-learning-databases/nursery/nursery.data\n",
            "Resolving archive.ics.uci.edu (archive.ics.uci.edu)... 128.195.10.252\n",
            "Connecting to archive.ics.uci.edu (archive.ics.uci.edu)|128.195.10.252|:443... connected.\n",
            "HTTP request sent, awaiting response... 200 OK\n",
            "Length: unspecified\n",
            "Saving to: ‘../datasets/nursery.data’\n",
            "\n",
            "nursery.data            [      <=>           ]   1.01M   413KB/s    in 2.5s    \n",
            "\n",
            "2025-02-22 12:11:47 (413 KB/s) - ‘../datasets/nursery.data’ saved [1059371]\n",
            "\n"
          ]
        }
      ]
    },
    {
      "cell_type": "code",
      "execution_count": null,
      "metadata": {
        "colab": {
          "base_uri": "https://localhost:8080/"
        },
        "id": "LiCyGiEXjlwh",
        "outputId": "72a41403-880e-4d38-e56c-9573095c0dc4"
      },
      "outputs": [
        {
          "output_type": "stream",
          "name": "stdout",
          "text": [
            "✅ Final Train Set: (200, 27), Test Set: (200, 27)\n"
          ]
        }
      ],
      "source": [
        "import os\n",
        "import pandas as pd\n",
        "import numpy as np\n",
        "from sklearn.model_selection import train_test_split\n",
        "from sklearn.preprocessing import OneHotEncoder\n",
        "from sklearn.compose import ColumnTransformer\n",
        "\n",
        "# Ensure dataset directory exists\n",
        "os.makedirs(\"../datasets\", exist_ok=True)\n",
        "\n",
        "# Download dataset (if not already downloaded)\n",
        "nursery_url = \"https://archive.ics.uci.edu/ml/machine-learning-databases/nursery/nursery.data\"\n",
        "nursery_path = \"../datasets/nursery.data\"\n",
        "if not os.path.exists(nursery_path):\n",
        "    os.system(f\"wget -P ../datasets {nursery_url}\")\n",
        "\n",
        "# Define column names based on dataset documentation\n",
        "columns = [\"parents\", \"has_nurs\", \"form\", \"children\", \"housing\", \"finance\", \"social\", \"health\", \"class\"]\n",
        "\n",
        "# Load dataset into Pandas DataFrame\n",
        "nursery_data = pd.read_csv(nursery_path, names=columns, header=None)\n",
        "\n",
        "# Separate features and target\n",
        "x = nursery_data.drop(columns=[\"class\"])\n",
        "y = nursery_data[\"class\"]\n",
        "\n",
        "# One-Hot Encode categorical features\n",
        "categorical_features = x.columns.tolist()\n",
        "categorical_transformer = OneHotEncoder(handle_unknown=\"ignore\", sparse_output=False)\n",
        "preprocessor = ColumnTransformer(\n",
        "    transformers=[(\"cat\", categorical_transformer, categorical_features)]\n",
        ")\n",
        "\n",
        "# Transform dataset\n",
        "x_encoded = preprocessor.fit_transform(x)\n",
        "\n",
        "# Encode target variable\n",
        "label_mapping = {label: idx for idx, label in enumerate(y.unique())}\n",
        "y_encoded = y.map(label_mapping).values\n",
        "\n",
        "# Train-test split\n",
        "train_size = 200\n",
        "x_train, x_test, y_train, y_test = train_test_split(x_encoded, y_encoded, test_size=0.5, stratify=y_encoded)\n",
        "\n",
        "# Reduce to first `train_size` samples\n",
        "x_train = x_train[:train_size]\n",
        "y_train = y_train[:train_size]\n",
        "x_test = x_test[:train_size]\n",
        "y_test = y_test[:train_size]\n",
        "\n",
        "print(f\"✅ Final Train Set: {x_train.shape}, Test Set: {x_test.shape}\")\n"
      ]
    },
    {
      "cell_type": "markdown",
      "metadata": {
        "id": "N02I17q0jlwj"
      },
      "source": [
        "## Train logistic regression model"
      ]
    },
    {
      "cell_type": "code",
      "execution_count": null,
      "metadata": {
        "colab": {
          "base_uri": "https://localhost:8080/"
        },
        "id": "mRXOgpIajlwl",
        "outputId": "8f68940c-fc9f-4253-aca7-3e08c74ae966"
      },
      "outputs": [
        {
          "output_type": "stream",
          "name": "stdout",
          "text": [
            "✅ Base model accuracy: 0.9300\n"
          ]
        }
      ],
      "source": [
        "from sklearn.linear_model import LogisticRegression\n",
        "from art.estimators.classification.scikitlearn import ScikitlearnLogisticRegression\n",
        "\n",
        "# Train Logistic Regression Model\n",
        "model = LogisticRegression(solver=\"lbfgs\", max_iter=1000, random_state=42)\n",
        "model.fit(x_train, y_train)\n",
        "\n",
        "# Wrap the model with ART\n",
        "art_classifier = ScikitlearnLogisticRegression(model)\n",
        "\n",
        "# Evaluate model accuracy\n",
        "base_model_accuracy = model.score(x_test, y_test)\n",
        "\n",
        "print(f'✅ Base model accuracy: {base_model_accuracy:.4f}')\n"
      ]
    },
    {
      "cell_type": "markdown",
      "metadata": {
        "id": "L9s2ImHzjlwn"
      },
      "source": [
        "## Attack\n",
        "### Black-box attack\n",
        "The black-box attack basically trains an additional classifier (called the attack model) to predict the membership status of a sample. It can use as input to the learning process probabilities/logits or losses, depending on the type of model and provided configuration.\n",
        "#### Train attack model"
      ]
    },
    {
      "cell_type": "code",
      "source": [
        "print(\"Unique values in y_train:\", np.unique(y_train))\n",
        "print(\"Unique values in y_test:\", np.unique(y_test))\n"
      ],
      "metadata": {
        "colab": {
          "base_uri": "https://localhost:8080/"
        },
        "id": "FR3fRVRUl0eY",
        "outputId": "ecff40b7-911a-469d-d252-a2e343b7f4eb"
      },
      "execution_count": null,
      "outputs": [
        {
          "output_type": "stream",
          "name": "stdout",
          "text": [
            "Unique values in y_train: [1 2 3 4]\n",
            "Unique values in y_test: [1 2 3 4]\n"
          ]
        }
      ]
    },
    {
      "cell_type": "code",
      "source": [
        "# Convert y_train and y_test to zero-based category labels\n",
        "num_classes = len(np.unique(y_train))  # Get number of unique classes\n",
        "y_train = np.array([np.where(np.unique(y_train) == y)[0][0] for y in y_train])\n",
        "y_test = np.array([np.where(np.unique(y_test) == y)[0][0] for y in y_test])\n",
        "\n",
        "print(\"Updated Unique values in y_train:\", np.unique(y_train))\n",
        "print(\"Updated Unique values in y_test:\", np.unique(y_test))\n"
      ],
      "metadata": {
        "colab": {
          "base_uri": "https://localhost:8080/"
        },
        "id": "rzKfKOGdl5Uk",
        "outputId": "2016e4d7-8396-4e0c-f4c6-7e5d6326c07c"
      },
      "execution_count": null,
      "outputs": [
        {
          "output_type": "stream",
          "name": "stdout",
          "text": [
            "Updated Unique values in y_train: [0 1 2 3]\n",
            "Updated Unique values in y_test: [0 1 2 3]\n"
          ]
        }
      ]
    },
    {
      "cell_type": "code",
      "source": [
        "# Define attack set sizes (50% of train & test sets)\n",
        "attack_train_ratio = 0.5\n",
        "attack_train_size = int(len(x_train) * attack_train_ratio)\n",
        "attack_test_size = int(len(x_test) * attack_train_ratio)\n",
        "\n",
        "# Initialize Membership Inference Attack\n",
        "attack = MembershipInferenceBlackBox(art_classifier, attack_model_type=\"rf\")\n",
        "\n",
        "# Train the attack model with corrected labels\n",
        "attack.fit(\n",
        "    x_train[:attack_train_size], y_train[:attack_train_size],  # Train set\n",
        "    x_test[:attack_test_size], y_test[:attack_test_size]       # Test set\n",
        ")\n",
        "\n",
        "print(\"✅ Membership Inference Black-Box Attack Model Trained Successfully!\")\n"
      ],
      "metadata": {
        "colab": {
          "base_uri": "https://localhost:8080/"
        },
        "id": "J99PKkfymDdW",
        "outputId": "88f953db-a846-4110-a86c-17bb207bd94b"
      },
      "execution_count": null,
      "outputs": [
        {
          "output_type": "stream",
          "name": "stdout",
          "text": [
            "✅ Membership Inference Black-Box Attack Model Trained Successfully!\n"
          ]
        }
      ]
    },
    {
      "cell_type": "code",
      "execution_count": null,
      "metadata": {
        "id": "55se5BlRjlwo"
      },
      "outputs": [],
      "source": [
        "#import numpy as np\n",
        "#from art.attacks.inference.membership_inference import MembershipInferenceBlackBox\n",
        "\n",
        "# Define attack set sizes (50% of train & test sets)\n",
        "# attack_train_ratio = 0.5\n",
        "#attack_train_size = int(len(x_train) * attack_train_ratio)\n",
        "#attack_test_size = int(len(x_test) * attack_train_ratio)\n",
        "\n",
        "# Initialize Membership Inference Attack (Random Forest as attack model)\n",
        "#attack = MembershipInferenceBlackBox(art_classifier, attack_model_type=\"rf\")\n",
        "\n",
        "# Train the attack model\n",
        "#attack.fit(\n",
        " #   x_train[:attack_train_size], y_train[:attack_train_size],  # Train set\n",
        "  #  x_test[:attack_test_size], y_test[:attack_test_size]       # Test set\n",
        "#)\n",
        "\n",
        "#print(\"✅ Membership Inference Black-Box Attack Model Trained Successfully!\")\n"
      ]
    },
    {
      "cell_type": "markdown",
      "metadata": {
        "id": "I8aGeK9Rjlwp"
      },
      "source": [
        "#### Infer membership and check accuracy"
      ]
    },
    {
      "cell_type": "code",
      "execution_count": null,
      "metadata": {
        "colab": {
          "base_uri": "https://localhost:8080/"
        },
        "id": "2z7skBgmjlwp",
        "outputId": "06476e84-f8dc-46dd-8d7a-0d54c1f42e8e"
      },
      "outputs": [
        {
          "output_type": "stream",
          "name": "stdout",
          "text": [
            "attack accuracy on training data:  0.48\n",
            "attack accuracy on test data:  0.48\n",
            "overall attack accuracy:  0.48\n"
          ]
        }
      ],
      "source": [
        "# infer attacked feature\n",
        "inferred_train = attack.infer(x_train[attack_train_size:], y_train[attack_train_size:])\n",
        "inferred_test = attack.infer(x_test[attack_test_size:], y_test[attack_test_size:])\n",
        "\n",
        "# check accuracy\n",
        "train_acc = np.sum(inferred_train) / len(inferred_train)\n",
        "test_acc = 1 - (np.sum(inferred_test) / len(inferred_test))\n",
        "acc = (train_acc * len(inferred_train) + test_acc * len(inferred_test)) / (len(inferred_train) + len(inferred_test))\n",
        "print('attack accuracy on training data: ', train_acc)\n",
        "print('attack accuracy on test data: ', test_acc)\n",
        "print('overall attack accuracy: ', acc)"
      ]
    },
    {
      "cell_type": "markdown",
      "metadata": {
        "id": "FV3Gl36cjlwq"
      },
      "source": [
        "This means that for 54% of the data, membership status is inferred correctly (a little better than a random coin flip)."
      ]
    },
    {
      "cell_type": "code",
      "execution_count": null,
      "metadata": {
        "colab": {
          "base_uri": "https://localhost:8080/"
        },
        "id": "1F6ttsNQjlwq",
        "outputId": "ff848f4e-9a70-49b2-fc38-be2ce2e54136"
      },
      "outputs": [
        {
          "output_type": "stream",
          "name": "stdout",
          "text": [
            "precision and recall:  (0.48, 0.48)\n"
          ]
        }
      ],
      "source": [
        "def calc_precision_recall(predicted, actual, positive_value=1):\n",
        "    score = 0  # both predicted and actual are positive\n",
        "    num_positive_predicted = 0  # predicted positive\n",
        "    num_positive_actual = 0  # actual positive\n",
        "    for i in range(len(predicted)):\n",
        "        if predicted[i] == positive_value:\n",
        "            num_positive_predicted += 1\n",
        "        if actual[i] == positive_value:\n",
        "            num_positive_actual += 1\n",
        "        if predicted[i] == actual[i]:\n",
        "            if predicted[i] == positive_value:\n",
        "                score += 1\n",
        "\n",
        "    if num_positive_predicted == 0:\n",
        "        precision = 1\n",
        "    else:\n",
        "        precision = score / num_positive_predicted  # the fraction of predicted “Yes” responses that are correct\n",
        "    if num_positive_actual == 0:\n",
        "        recall = 1\n",
        "    else:\n",
        "        recall = score / num_positive_actual  # the fraction of “Yes” responses that are predicted correctly\n",
        "\n",
        "    return precision, recall\n",
        "\n",
        "# rule-based\n",
        "print('precision and recall: ', calc_precision_recall(np.concatenate((inferred_train, inferred_test)),\n",
        "                            np.concatenate((np.ones(len(inferred_train)), np.zeros(len(inferred_test))))))"
      ]
    },
    {
      "cell_type": "markdown",
      "metadata": {
        "id": "YYr8LSb1jlwr"
      },
      "source": [
        "## Train differentially private model"
      ]
    },
    {
      "cell_type": "code",
      "source": [
        "!pip install diffprivlib\n"
      ],
      "metadata": {
        "colab": {
          "base_uri": "https://localhost:8080/"
        },
        "id": "jQEyZ44bmqSV",
        "outputId": "8d9970ea-8dbf-4336-a210-fa2a83e1795c"
      },
      "execution_count": null,
      "outputs": [
        {
          "output_type": "stream",
          "name": "stdout",
          "text": [
            "Collecting diffprivlib\n",
            "  Downloading diffprivlib-0.6.5-py3-none-any.whl.metadata (9.6 kB)\n",
            "Requirement already satisfied: numpy>=1.21.6 in /usr/local/lib/python3.11/dist-packages (from diffprivlib) (1.26.4)\n",
            "Requirement already satisfied: scikit-learn>=0.24.2 in /usr/local/lib/python3.11/dist-packages (from diffprivlib) (1.6.1)\n",
            "Requirement already satisfied: scipy>=1.7.3 in /usr/local/lib/python3.11/dist-packages (from diffprivlib) (1.13.1)\n",
            "Requirement already satisfied: joblib>=0.16.0 in /usr/local/lib/python3.11/dist-packages (from diffprivlib) (1.4.2)\n",
            "Requirement already satisfied: setuptools>=49.0.0 in /usr/local/lib/python3.11/dist-packages (from diffprivlib) (75.1.0)\n",
            "Requirement already satisfied: threadpoolctl>=3.1.0 in /usr/local/lib/python3.11/dist-packages (from scikit-learn>=0.24.2->diffprivlib) (3.5.0)\n",
            "Downloading diffprivlib-0.6.5-py3-none-any.whl (176 kB)\n",
            "\u001b[2K   \u001b[90m━━━━━━━━━━━━━━━━━━━━━━━━━━━━━━━━━━━━━━━━\u001b[0m \u001b[32m176.5/176.5 kB\u001b[0m \u001b[31m3.2 MB/s\u001b[0m eta \u001b[36m0:00:00\u001b[0m\n",
            "\u001b[?25hInstalling collected packages: diffprivlib\n",
            "Successfully installed diffprivlib-0.6.5\n"
          ]
        }
      ]
    },
    {
      "cell_type": "code",
      "execution_count": null,
      "metadata": {
        "colab": {
          "base_uri": "https://localhost:8080/"
        },
        "id": "Z-imNvFwjlwr",
        "outputId": "02ffef6c-6d38-4e92-e595-bd63c2c6be66"
      },
      "outputs": [
        {
          "output_type": "stream",
          "name": "stdout",
          "text": [
            "DP model accuracy:  0.35\n"
          ]
        },
        {
          "output_type": "stream",
          "name": "stderr",
          "text": [
            "/usr/local/lib/python3.11/dist-packages/sklearn/base.py:474: FutureWarning: `BaseEstimator._validate_data` is deprecated in 1.6 and will be removed in 1.7. Use `sklearn.utils.validation.validate_data` instead. This function becomes public and is part of the scikit-learn developer API.\n",
            "  warnings.warn(\n"
          ]
        }
      ],
      "source": [
        "import diffprivlib.models as dp\n",
        "\n",
        "dp_model = dp.LogisticRegression(epsilon=5, data_norm=5)\n",
        "dp_model.fit(x_train, y_train)\n",
        "# print('norm: ', np.linalg.norm(x_train) )\n",
        "\n",
        "dp_art_model = ScikitlearnLogisticRegression(dp_model)\n",
        "print('DP model accuracy: ', dp_model.score(x_test, y_test))"
      ]
    },
    {
      "cell_type": "markdown",
      "metadata": {
        "id": "s2Z6kcZyjlws"
      },
      "source": [
        "### Black-box attack"
      ]
    },
    {
      "cell_type": "code",
      "execution_count": null,
      "metadata": {
        "colab": {
          "base_uri": "https://localhost:8080/"
        },
        "id": "XIZX2_Fvjlws",
        "outputId": "30dd48db-b8d4-4188-f33e-c41995db8747"
      },
      "outputs": [
        {
          "output_type": "stream",
          "name": "stdout",
          "text": [
            "attack accuracy on training data:  0.55\n",
            "attack accuracy on test data:  0.48\n",
            "overall attack accuracy:  0.515\n",
            "precision and recall:  (0.514018691588785, 0.55)\n"
          ]
        }
      ],
      "source": [
        "dp_attack = MembershipInferenceBlackBox(dp_art_model, attack_model_type='rf')\n",
        "\n",
        "# train attack model\n",
        "dp_attack.fit(x_train[:attack_train_size].astype(np.float32), y_train[:attack_train_size],\n",
        "              x_test[:attack_test_size].astype(np.float32), y_test[:attack_test_size])\n",
        "\n",
        "# infer\n",
        "dp_inferred_train = dp_attack.infer(x_train.astype(np.float32)[attack_train_size:], y_train[attack_train_size:])\n",
        "dp_inferred_test = dp_attack.infer(x_test.astype(np.float32)[attack_test_size:], y_test[attack_test_size:])\n",
        "\n",
        "# check accuracy\n",
        "dp_train_acc = np.sum(dp_inferred_train) / len(dp_inferred_train)\n",
        "dp_test_acc = 1 - (np.sum(dp_inferred_test) / len(dp_inferred_test))\n",
        "dp_acc = (dp_train_acc * len(dp_inferred_train) + dp_test_acc * len(dp_inferred_test)) / (len(dp_inferred_train) + len(dp_inferred_test))\n",
        "print('attack accuracy on training data: ', dp_train_acc)\n",
        "print('attack accuracy on test data: ', dp_test_acc)\n",
        "print('overall attack accuracy: ', dp_acc)\n",
        "\n",
        "print('precision and recall: ', calc_precision_recall(np.concatenate((dp_inferred_train, dp_inferred_test)),\n",
        "                            np.concatenate((np.ones(len(dp_inferred_train)), np.zeros(len(dp_inferred_test))))))"
      ]
    },
    {
      "cell_type": "markdown",
      "metadata": {
        "id": "lbFpQ934jlws"
      },
      "source": [
        "The differentially private model reduces the attack accuracy, but also completely ruins the model's accuracy.\n",
        "Let's see if we can find a sweet spot where both acceptable accuracy and privacy can be acheived."
      ]
    },
    {
      "cell_type": "code",
      "execution_count": null,
      "metadata": {
        "colab": {
          "base_uri": "https://localhost:8080/"
        },
        "id": "2dxCRe5Kjlws",
        "outputId": "c10ebd1e-a470-4bb2-df21-47d3ccdc3b13"
      },
      "outputs": [
        {
          "output_type": "stream",
          "name": "stdout",
          "text": [
            "0.01\n",
            "0.1\n"
          ]
        },
        {
          "output_type": "stream",
          "name": "stderr",
          "text": [
            "/usr/local/lib/python3.11/dist-packages/sklearn/base.py:474: FutureWarning: `BaseEstimator._validate_data` is deprecated in 1.6 and will be removed in 1.7. Use `sklearn.utils.validation.validate_data` instead. This function becomes public and is part of the scikit-learn developer API.\n",
            "  warnings.warn(\n",
            "/usr/local/lib/python3.11/dist-packages/sklearn/base.py:474: FutureWarning: `BaseEstimator._validate_data` is deprecated in 1.6 and will be removed in 1.7. Use `sklearn.utils.validation.validate_data` instead. This function becomes public and is part of the scikit-learn developer API.\n",
            "  warnings.warn(\n"
          ]
        },
        {
          "output_type": "stream",
          "name": "stdout",
          "text": [
            "0.5\n"
          ]
        },
        {
          "output_type": "stream",
          "name": "stderr",
          "text": [
            "/usr/local/lib/python3.11/dist-packages/sklearn/base.py:474: FutureWarning: `BaseEstimator._validate_data` is deprecated in 1.6 and will be removed in 1.7. Use `sklearn.utils.validation.validate_data` instead. This function becomes public and is part of the scikit-learn developer API.\n",
            "  warnings.warn(\n"
          ]
        },
        {
          "output_type": "stream",
          "name": "stdout",
          "text": [
            "1.0\n"
          ]
        },
        {
          "output_type": "stream",
          "name": "stderr",
          "text": [
            "/usr/local/lib/python3.11/dist-packages/sklearn/base.py:474: FutureWarning: `BaseEstimator._validate_data` is deprecated in 1.6 and will be removed in 1.7. Use `sklearn.utils.validation.validate_data` instead. This function becomes public and is part of the scikit-learn developer API.\n",
            "  warnings.warn(\n"
          ]
        },
        {
          "output_type": "stream",
          "name": "stdout",
          "text": [
            "5.0\n"
          ]
        },
        {
          "output_type": "stream",
          "name": "stderr",
          "text": [
            "/usr/local/lib/python3.11/dist-packages/sklearn/base.py:474: FutureWarning: `BaseEstimator._validate_data` is deprecated in 1.6 and will be removed in 1.7. Use `sklearn.utils.validation.validate_data` instead. This function becomes public and is part of the scikit-learn developer API.\n",
            "  warnings.warn(\n"
          ]
        },
        {
          "output_type": "stream",
          "name": "stdout",
          "text": [
            "10.0\n"
          ]
        },
        {
          "output_type": "stream",
          "name": "stderr",
          "text": [
            "/usr/local/lib/python3.11/dist-packages/sklearn/base.py:474: FutureWarning: `BaseEstimator._validate_data` is deprecated in 1.6 and will be removed in 1.7. Use `sklearn.utils.validation.validate_data` instead. This function becomes public and is part of the scikit-learn developer API.\n",
            "  warnings.warn(\n"
          ]
        },
        {
          "output_type": "stream",
          "name": "stdout",
          "text": [
            "25.0\n"
          ]
        },
        {
          "output_type": "stream",
          "name": "stderr",
          "text": [
            "/usr/local/lib/python3.11/dist-packages/sklearn/base.py:474: FutureWarning: `BaseEstimator._validate_data` is deprecated in 1.6 and will be removed in 1.7. Use `sklearn.utils.validation.validate_data` instead. This function becomes public and is part of the scikit-learn developer API.\n",
            "  warnings.warn(\n"
          ]
        },
        {
          "output_type": "stream",
          "name": "stdout",
          "text": [
            "75.0\n"
          ]
        },
        {
          "output_type": "stream",
          "name": "stderr",
          "text": [
            "/usr/local/lib/python3.11/dist-packages/sklearn/base.py:474: FutureWarning: `BaseEstimator._validate_data` is deprecated in 1.6 and will be removed in 1.7. Use `sklearn.utils.validation.validate_data` instead. This function becomes public and is part of the scikit-learn developer API.\n",
            "  warnings.warn(\n"
          ]
        },
        {
          "output_type": "stream",
          "name": "stdout",
          "text": [
            "100.0\n"
          ]
        },
        {
          "output_type": "stream",
          "name": "stderr",
          "text": [
            "/usr/local/lib/python3.11/dist-packages/sklearn/base.py:474: FutureWarning: `BaseEstimator._validate_data` is deprecated in 1.6 and will be removed in 1.7. Use `sklearn.utils.validation.validate_data` instead. This function becomes public and is part of the scikit-learn developer API.\n",
            "  warnings.warn(\n"
          ]
        },
        {
          "output_type": "stream",
          "name": "stdout",
          "text": [
            "200.0\n"
          ]
        },
        {
          "output_type": "stream",
          "name": "stderr",
          "text": [
            "/usr/local/lib/python3.11/dist-packages/sklearn/base.py:474: FutureWarning: `BaseEstimator._validate_data` is deprecated in 1.6 and will be removed in 1.7. Use `sklearn.utils.validation.validate_data` instead. This function becomes public and is part of the scikit-learn developer API.\n",
            "  warnings.warn(\n"
          ]
        }
      ],
      "source": [
        "accuracy = []\n",
        "attack_accuracy = []\n",
        "epsilons = [0.01, 0.1, 0.5, 1.0, 5.0, 10.0, 25.0, 75.0, 100.0, 200.0]\n",
        "\n",
        "for eps in epsilons:\n",
        "    print(eps)\n",
        "    dp_clf = dp.LogisticRegression(epsilon=eps, data_norm=5)\n",
        "    dp_clf.fit(x_train, y_train)\n",
        "    accuracy.append(dp_clf.score(x_test, y_test))\n",
        "    dp_art_classifier = ScikitlearnLogisticRegression(dp_clf)\n",
        "    dp_attack = MembershipInferenceBlackBox(dp_art_classifier, attack_model_type='rf')\n",
        "    dp_attack.fit(x_train[:attack_train_size].astype(np.float32), y_train[:attack_train_size].astype(np.float32),\n",
        "                  x_test[:attack_test_size].astype(np.float32), y_test[:attack_test_size].astype(np.float32))\n",
        "    dp_inferred_train = dp_attack.infer(x_train.astype(np.float32)[attack_train_size:], y_train.astype(np.float32)[attack_train_size:])\n",
        "    dp_inferred_test = dp_attack.infer(x_test.astype(np.float32)[attack_train_size:], y_test.astype(np.float32)[attack_train_size:])\n",
        "    dp_train_acc = np.sum(dp_inferred_train) / len(dp_inferred_train)\n",
        "    dp_test_acc = 1 - (np.sum(dp_inferred_test) / len(dp_inferred_test))\n",
        "    dp_acc = (dp_train_acc * len(dp_inferred_train) + dp_test_acc * len(dp_inferred_test)) / (len(dp_inferred_train) + len(dp_inferred_test))\n",
        "    attack_accuracy.append(dp_acc)"
      ]
    },
    {
      "cell_type": "code",
      "execution_count": null,
      "metadata": {
        "colab": {
          "base_uri": "https://localhost:8080/",
          "height": 472
        },
        "id": "JAeW9u6_jlwt",
        "outputId": "c99c0b1e-ca74-43f2-92a5-6d557c114d71"
      },
      "outputs": [
        {
          "output_type": "display_data",
          "data": {
            "text/plain": [
              "<Figure size 640x480 with 1 Axes>"
            ],
            "image/png": "[encoded data removed]"
          },
          "metadata": {}
        }
      ],
      "source": [
        "import matplotlib.pyplot as plt\n",
        "\n",
        "plt.plot(epsilons, accuracy)\n",
        "plt.plot(epsilons, np.ones_like(epsilons) * base_model_accuracy, dashes=[2,2], label=\"base model\")\n",
        "plt.title(\"Differentially private logistic regression\")\n",
        "plt.xlabel(\"epsilon\")\n",
        "plt.ylabel(\"Model accuracy\")\n",
        "plt.ylim(0, 1)\n",
        "plt.xlim(0.1, 200)\n",
        "plt.show()"
      ]
    },
    {
      "cell_type": "code",
      "execution_count": null,
      "metadata": {
        "colab": {
          "base_uri": "https://localhost:8080/",
          "height": 472
        },
        "id": "bD82tiaYjlwu",
        "outputId": "3a37cb88-016e-4e15-94aa-8abe78fd0bbd"
      },
      "outputs": [
        {
          "output_type": "display_data",
          "data": {
            "text/plain": [
              "<Figure size 640x480 with 1 Axes>"
            ],
            "image/png": "[encoded data removed]"
          },
          "metadata": {}
        }
      ],
      "source": [
        "plt.plot(epsilons, attack_accuracy)\n",
        "plt.plot(epsilons, np.ones_like(epsilons) * acc, dashes=[2,2], label=\"base model\")\n",
        "plt.title(\"Differentially private logistic regression\")\n",
        "plt.xlabel(\"epsilon\")\n",
        "plt.ylabel(\"Attack accuracy\")\n",
        "plt.ylim(0, 1)\n",
        "plt.xlim(0.1, 200)\n",
        "plt.show()"
      ]
    },
    {
      "cell_type": "markdown",
      "metadata": {
        "id": "YbO90g7Fjlwu"
      },
      "source": [
        "Looks like epsilon=25 is a good choice."
      ]
    },
    {
      "cell_type": "code",
      "execution_count": null,
      "metadata": {
        "colab": {
          "base_uri": "https://localhost:8080/"
        },
        "id": "AW7AyO4Ojlwu",
        "outputId": "84621dc2-2bf5-4fe1-d162-00a7da9e07c1"
      },
      "outputs": [
        {
          "output_type": "stream",
          "name": "stdout",
          "text": [
            "DP model accuracy with eps=100:  0.32\n",
            "DP model attack accuracy with eps=100:  0.525\n"
          ]
        },
        {
          "output_type": "stream",
          "name": "stderr",
          "text": [
            "/usr/local/lib/python3.11/dist-packages/sklearn/base.py:474: FutureWarning: `BaseEstimator._validate_data` is deprecated in 1.6 and will be removed in 1.7. Use `sklearn.utils.validation.validate_data` instead. This function becomes public and is part of the scikit-learn developer API.\n",
            "  warnings.warn(\n"
          ]
        }
      ],
      "source": [
        "dp_model = dp.LogisticRegression(epsilon=25, data_norm=5)\n",
        "dp_model.fit(x_train, y_train)\n",
        "\n",
        "dp_art_classifier = ScikitlearnLogisticRegression(dp_model)\n",
        "print('DP model accuracy with eps=100: ', dp_model.score(x_test, y_test))\n",
        "\n",
        "dp_attack = MembershipInferenceBlackBox(dp_art_classifier, attack_model_type='rf')\n",
        "dp_attack.fit(x_train[:attack_train_size].astype(np.float32), y_train[:attack_train_size].astype(np.float32),\n",
        "              x_test[:attack_test_size].astype(np.float32), y_test[:attack_test_size].astype(np.float32))\n",
        "dp_inferred_train = dp_attack.infer(x_train.astype(np.float32)[attack_train_size:], y_train.astype(np.float32)[attack_train_size:])\n",
        "dp_inferred_test = dp_attack.infer(x_test.astype(np.float32)[attack_test_size:], y_test.astype(np.float32)[attack_test_size:])\n",
        "dp_train_acc = np.sum(dp_inferred_train) / len(dp_inferred_train)\n",
        "dp_test_acc = 1 - (np.sum(dp_inferred_test) / len(dp_inferred_test))\n",
        "dp_acc = (dp_train_acc * len(dp_inferred_train) + dp_test_acc * len(dp_inferred_test)) / (len(dp_inferred_train) + len(dp_inferred_test))\n",
        "\n",
        "print('DP model attack accuracy with eps=100: ', dp_acc)"
      ]
    }
  ],
  "metadata": {
    "kernelspec": {
      "display_name": "Python 3",
      "language": "python",
      "name": "python3"
    },
    "language_info": {
      "codemirror_mode": {
        "name": "ipython",
        "version": 3
      },
      "file_extension": ".py",
      "mimetype": "text/x-python",
      "name": "python",
      "nbconvert_exporter": "python",
      "pygments_lexer": "ipython3",
      "version": "3.8.3"
    },
    "colab": {
      "provenance": []
    }
  },
  "nbformat": 4,
  "nbformat_minor": 0
}